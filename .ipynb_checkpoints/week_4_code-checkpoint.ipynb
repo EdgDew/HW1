{
 "cells": [
  {
   "cell_type": "code",
   "execution_count": 71,
   "metadata": {
    "collapsed": false
   },
   "outputs": [],
   "source": [
    "# Origin: Code for week 4 of programming class.\n",
    "# Author: Tyler Abbot\n",
    "# Title: week_4_code.ipynb\n",
    "# Last modified: 2016.08.04"
   ]
  },
  {
   "cell_type": "markdown",
   "metadata": {},
   "source": [
    "NOTE: If you want to hide the code, use this:\n",
    "\n",
    "http://chris-said.io/2016/02/13/how-to-make-polished-jupyter-presentations-with-optional-code-visibility/"
   ]
  },
  {
   "cell_type": "markdown",
   "metadata": {},
   "source": [
    "# Introduction\n",
    "\n",
    "Today's class will introduce you to **linear algebra in R**. The notes are written in the Jupyter notebook in order to make things easier to run in class, but the same code is available in an R script in the course repository.\n",
    "\n",
    "If you would like to follow along using the notebook, you should install <a href=\"https://www.continuum.io/downloads\" target=\"_blank\">Anaconda</a> or<a href=\"http://conda.pydata.org/miniconda.html\" target=\"_blank\">MiniConda</a>. Then you should install the ipython notebook, R, and the R kernel. Run the following in a terminal:\n",
    "```\n",
    "conda install -c r ipython-notebook r-irkernel\n",
    "```\n",
    "This code will run just as well in RStudio, which you should also become familiar with.\n",
    "\n",
    "## Today's Objective\n",
    "\n",
    "Our goal for the day is to become familiar with the syntax of linear algebra. We would like to achieve the following objectives:\n",
    "1. Review linear algebra (in 10 minutes or less).\n",
    "2. Learn about vectors in R and discuss interpreters.\n",
    "3. Learn about vector classes.\n",
    "4. Discuss indexing issues.\n",
    "7. Possibly introduce the dataframe.\n",
    "\n",
    "If by the end of the class, you feel we haven't sufficiently covered one of these, speak up!"
   ]
  },
  {
   "cell_type": "markdown",
   "metadata": {},
   "source": [
    "## A Working Example : Least Squares\n",
    "\n",
    "**NOTE:** For mathematical background, see section 6.5 of the following (only one copy in the library, so be nice and make a photo copy):\n",
    "* Lay, David C. *Linear Algebra and its Applications*. 4th ed. Pearson, 2012  \n",
    "\n",
    "For the first of two sessions (not sequential) we will study the least squares problem. What the heck is least squares, you ask? It's essentially the only thing you will do for the rest of your career (with a few slight modifications).\n",
    "\n",
    "The least squares problem is essentially to find the best straight line through a cloud of points. To see this visually, let's generate some random data.\n",
    "\n",
    "We'll use a package (for the first time!) called [\"MASS\"](https://cran.r-project.org/web/packages/MASS/index.html). To load a package, you simply use the `require()` command. This will load all of the functions contained in that package into the namespace. Once this is done, we can use the `mvrnorm` function to generate a sample from a two dimensional, correlated nromal random variable:"
   ]
  },
  {
   "cell_type": "code",
   "execution_count": 44,
   "metadata": {
    "collapsed": false
   },
   "outputs": [
    {
     "name": "stderr",
     "output_type": "stream",
     "text": [
      "Loading required package: MASS\n"
     ]
    }
   ],
   "source": [
    "# Load the package\n",
    "# NOTE: Uncomment this line if need to install package\n",
    "#install.packages(\"MASS\", repos=\"http://cran.rstudio.com/\")\n",
    "require(MASS)\n",
    "\n",
    "# Set the correlation parameter and mean\n",
    "beta = 0.5\n",
    "SIGMA = matrix(c(1,beta,beta,1), ncol=2)\n",
    "MU = c(2.0, 1.0)\n",
    "\n",
    "# Set the sample size\n",
    "N = 50\n",
    "\n",
    "# Draw your sample\n",
    "out <- mvrnorm(N, mu = MU, Sigma = SIGMA)"
   ]
  },
  {
   "cell_type": "code",
   "execution_count": 45,
   "metadata": {
    "collapsed": false
   },
   "outputs": [
    {
     "data": {
      "text/html": [
       "<ol class=list-inline>\n",
       "\t<li>50</li>\n",
       "\t<li>2</li>\n",
       "</ol>\n"
      ],
      "text/latex": [
       "\\begin{enumerate*}\n",
       "\\item 50\n",
       "\\item 2\n",
       "\\end{enumerate*}\n"
      ],
      "text/markdown": [
       "1. 50\n",
       "2. 2\n",
       "\n",
       "\n"
      ],
      "text/plain": [
       "[1] 50  2"
      ]
     },
     "metadata": {},
     "output_type": "display_data"
    },
    {
     "data": {
      "text/html": [
       "<table>\n",
       "<tbody>\n",
       "\t<tr><td>3.463436</td><td>3.049150</td></tr>\n",
       "\t<tr><td> 1.022079</td><td>-2.067423</td></tr>\n",
       "\t<tr><td>1.92516738</td><td>0.06249568</td></tr>\n",
       "\t<tr><td>2.274310</td><td>1.467784</td></tr>\n",
       "\t<tr><td>1.5502961</td><td>0.6025266</td></tr>\n",
       "\t<tr><td>2.1791926</td><td>0.6020457</td></tr>\n",
       "\t<tr><td> 1.1940231</td><td>-0.5484682</td></tr>\n",
       "\t<tr><td> 0.06099111</td><td>-1.10965143</td></tr>\n",
       "\t<tr><td>2.613273</td><td>1.753894</td></tr>\n",
       "\t<tr><td>0.9338563</td><td>0.3564638</td></tr>\n",
       "</tbody>\n",
       "</table>\n"
      ],
      "text/latex": [
       "\\begin{tabular}{ll}\n",
       "\t 3.463436 & 3.049150\\\\\n",
       "\t  1.022079 & -2.067423\\\\\n",
       "\t 1.92516738 & 0.06249568\\\\\n",
       "\t 2.274310 & 1.467784\\\\\n",
       "\t 1.5502961 & 0.6025266\\\\\n",
       "\t 2.1791926 & 0.6020457\\\\\n",
       "\t  1.1940231 & -0.5484682\\\\\n",
       "\t  0.06099111 & -1.10965143\\\\\n",
       "\t 2.613273 & 1.753894\\\\\n",
       "\t 0.9338563 & 0.3564638\\\\\n",
       "\\end{tabular}\n"
      ],
      "text/markdown": [
       "1. 3.46343571885982\n",
       "2. 1.02207912428545\n",
       "3. 1.92516737529453\n",
       "4. 2.27430991210749\n",
       "5. 1.55029609034235\n",
       "6. 2.17919257106435\n",
       "7. 1.19402311548587\n",
       "8. 0.0609911128858285\n",
       "9. 2.61327321213983\n",
       "10. 0.933856325121601\n",
       "11. 3.04914970702198\n",
       "12. -2.0674228888332\n",
       "13. 0.0624956788691046\n",
       "14. 1.46778387661897\n",
       "15. 0.602526632856149\n",
       "16. 0.602045673808407\n",
       "17. -0.548468163577619\n",
       "18. -1.10965143492279\n",
       "19. 1.75389443688779\n",
       "20. 0.356463838845581\n",
       "\n",
       "\n"
      ],
      "text/plain": [
       "            [,1]        [,2]\n",
       " [1,] 3.46343572  3.04914971\n",
       " [2,] 1.02207912 -2.06742289\n",
       " [3,] 1.92516738  0.06249568\n",
       " [4,] 2.27430991  1.46778388\n",
       " [5,] 1.55029609  0.60252663\n",
       " [6,] 2.17919257  0.60204567\n",
       " [7,] 1.19402312 -0.54846816\n",
       " [8,] 0.06099111 -1.10965143\n",
       " [9,] 2.61327321  1.75389444\n",
       "[10,] 0.93385633  0.35646384"
      ]
     },
     "metadata": {},
     "output_type": "display_data"
    }
   ],
   "source": [
    "# Look at a section of the data\n",
    "dim(out)\n",
    "out[1:10,]"
   ]
  },
  {
   "cell_type": "code",
   "execution_count": 46,
   "metadata": {
    "collapsed": false
   },
   "outputs": [
    {
     "data": {
      "image/png": "[encoded data removed]",
      "image/svg+xml": [
       "<?xml version=\"1.0\" encoding=\"UTF-8\"?>\n",
       "<svg xmlns=\"http://www.w3.org/2000/svg\" xmlns:xlink=\"http://www.w3.org/1999/xlink\" width=\"504pt\" height=\"504pt\" viewBox=\"0 0 504 504\" version=\"1.1\">\n",
       "<defs>\n",
       "<g>\n",
       "<symbol overflow=\"visible\" id=\"glyph0-0\">\n",
       "<path style=\"stroke:none;\" d=\"\"/>\n",
       "</symbol>\n",
       "<symbol overflow=\"visible\" id=\"glyph0-1\">\n",
       "<path style=\"stroke:none;\" d=\"M 6.078125 -4.09375 C 6.078125 -7.046875 5.140625 -8.515625 3.296875 -8.515625 C 1.46875 -8.515625 0.515625 -7.015625 0.515625 -4.15625 C 0.515625 -1.296875 1.46875 0.1875 3.296875 0.1875 C 5.09375 0.1875 6.078125 -1.296875 6.078125 -4.09375 Z M 5 -4.1875 C 5 -1.78125 4.453125 -0.703125 3.28125 -0.703125 C 2.15625 -0.703125 1.59375 -1.828125 1.59375 -4.15625 C 1.59375 -6.484375 2.15625 -7.578125 3.296875 -7.578125 C 4.4375 -7.578125 5 -6.46875 5 -4.1875 Z \"/>\n",
       "</symbol>\n",
       "<symbol overflow=\"visible\" id=\"glyph0-2\">\n",
       "<path style=\"stroke:none;\" d=\"M 4.15625 0 L 4.15625 -8.515625 L 3.46875 -8.515625 C 3.09375 -7.203125 2.859375 -7.015625 1.21875 -6.8125 L 1.21875 -6.0625 L 3.109375 -6.0625 L 3.109375 0 Z \"/>\n",
       "</symbol>\n",
       "<symbol overflow=\"visible\" id=\"glyph0-3\">\n",
       "<path style=\"stroke:none;\" d=\"M 6.125 -6.015625 C 6.125 -7.453125 5.015625 -8.515625 3.40625 -8.515625 C 1.671875 -8.515625 0.65625 -7.625 0.59375 -5.5625 L 1.65625 -5.5625 C 1.734375 -6.984375 2.328125 -7.578125 3.375 -7.578125 C 4.328125 -7.578125 5.046875 -6.90625 5.046875 -5.984375 C 5.046875 -5.3125 4.65625 -4.734375 3.90625 -4.3125 L 2.796875 -3.6875 C 1.015625 -2.671875 0.5 -1.875 0.40625 0 L 6.078125 0 L 6.078125 -1.046875 L 1.59375 -1.046875 C 1.703125 -1.734375 2.09375 -2.1875 3.125 -2.796875 L 4.328125 -3.4375 C 5.515625 -4.078125 6.125 -4.96875 6.125 -6.015625 Z \"/>\n",
       "</symbol>\n",
       "<symbol overflow=\"visible\" id=\"glyph0-4\">\n",
       "<path style=\"stroke:none;\" d=\"M 6.078125 -2.46875 C 6.078125 -3.5 5.65625 -4.109375 4.625 -4.453125 C 5.421875 -4.765625 5.8125 -5.3125 5.8125 -6.171875 C 5.8125 -7.625 4.84375 -8.515625 3.234375 -8.515625 C 1.515625 -8.515625 0.59375 -7.578125 0.5625 -5.765625 L 1.625 -5.765625 C 1.640625 -7.015625 2.15625 -7.578125 3.234375 -7.578125 C 4.171875 -7.578125 4.734375 -7.03125 4.734375 -6.125 C 4.734375 -5.21875 4.34375 -4.84375 2.65625 -4.84375 L 2.65625 -3.953125 L 3.234375 -3.953125 C 4.390625 -3.953125 4.984375 -3.40625 4.984375 -2.453125 C 4.984375 -1.390625 4.328125 -0.75 3.234375 -0.75 C 2.078125 -0.75 1.515625 -1.328125 1.4375 -2.5625 L 0.390625 -2.5625 C 0.515625 -0.671875 1.453125 0.1875 3.1875 0.1875 C 4.9375 0.1875 6.078125 -0.859375 6.078125 -2.46875 Z \"/>\n",
       "</symbol>\n",
       "<symbol overflow=\"visible\" id=\"glyph0-5\">\n",
       "<path style=\"stroke:none;\" d=\"M 6.234375 -2.046875 L 6.234375 -2.984375 L 4.984375 -2.984375 L 4.984375 -8.515625 L 4.203125 -8.515625 L 0.34375 -3.15625 L 0.34375 -2.046875 L 3.921875 -2.046875 L 3.921875 0 L 4.984375 0 L 4.984375 -2.046875 Z M 3.921875 -2.984375 L 1.265625 -2.984375 L 3.921875 -6.703125 Z \"/>\n",
       "</symbol>\n",
       "<symbol overflow=\"visible\" id=\"glyph0-6\">\n",
       "<path style=\"stroke:none;\" d=\"M 6.125 -3.09375 C 6.125 -5.265625 5.078125 -6.46875 3.265625 -6.46875 C 1.5 -6.46875 0.4375 -5.25 0.4375 -3.140625 C 0.4375 -1.03125 1.484375 0.1875 3.28125 0.1875 C 5.046875 0.1875 6.125 -1.03125 6.125 -3.09375 Z M 5.078125 -3.109375 C 5.078125 -1.625 4.375 -0.75 3.28125 -0.75 C 2.15625 -0.75 1.46875 -1.625 1.46875 -3.140625 C 1.46875 -4.65625 2.15625 -5.546875 3.28125 -5.546875 C 4.40625 -5.546875 5.078125 -4.671875 5.078125 -3.109375 Z \"/>\n",
       "</symbol>\n",
       "<symbol overflow=\"visible\" id=\"glyph0-7\">\n",
       "<path style=\"stroke:none;\" d=\"M 5.78125 0 L 5.78125 -6.28125 L 4.78125 -6.28125 L 4.78125 -2.8125 C 4.78125 -1.53125 4.109375 -0.703125 3.078125 -0.703125 C 2.28125 -0.703125 1.78125 -1.171875 1.78125 -1.9375 L 1.78125 -6.28125 L 0.78125 -6.28125 L 0.78125 -1.53125 C 0.78125 -0.484375 1.5625 0.1875 2.78125 0.1875 C 3.703125 0.1875 4.296875 -0.140625 4.890625 -0.96875 L 4.890625 0 Z \"/>\n",
       "</symbol>\n",
       "<symbol overflow=\"visible\" id=\"glyph0-8\">\n",
       "<path style=\"stroke:none;\" d=\"M 3.046875 0 L 3.046875 -0.84375 C 2.921875 -0.796875 2.765625 -0.796875 2.5625 -0.796875 C 2.140625 -0.796875 2.015625 -0.90625 2.015625 -1.359375 L 2.015625 -5.46875 L 3.046875 -5.46875 L 3.046875 -6.28125 L 2.015625 -6.28125 L 2.015625 -8.015625 L 1.015625 -8.015625 L 1.015625 -6.28125 L 0.171875 -6.28125 L 0.171875 -5.46875 L 1.015625 -5.46875 L 1.015625 -0.90625 C 1.015625 -0.28125 1.453125 0.078125 2.234375 0.078125 C 2.46875 0.078125 2.71875 0.0625 3.046875 0 Z \"/>\n",
       "</symbol>\n",
       "<symbol overflow=\"visible\" id=\"glyph0-9\">\n",
       "<path style=\"stroke:none;\" d=\"M 3 2.546875 L 3 1.6875 L 1.765625 1.6875 L 1.765625 -7.890625 L 3 -7.890625 L 3 -8.75 L 0.765625 -8.75 L 0.765625 2.546875 Z \"/>\n",
       "</symbol>\n",
       "<symbol overflow=\"visible\" id=\"glyph0-10\">\n",
       "<path style=\"stroke:none;\" d=\"M 2.296875 0.1875 L 2.296875 -1.25 L 1.046875 -1.25 L 1.046875 0 L 1.765625 0 L 1.765625 0.21875 C 1.765625 1.046875 1.609375 1.28125 1.046875 1.3125 L 1.046875 1.765625 C 1.890625 1.765625 2.296875 1.21875 2.296875 0.1875 Z \"/>\n",
       "</symbol>\n",
       "<symbol overflow=\"visible\" id=\"glyph0-11\">\n",
       "<path style=\"stroke:none;\" d=\"M 2.515625 2.546875 L 2.515625 -8.75 L 0.28125 -8.75 L 0.28125 -7.890625 L 1.515625 -7.890625 L 1.515625 1.6875 L 0.28125 1.6875 L 0.28125 2.546875 Z \"/>\n",
       "</symbol>\n",
       "<symbol overflow=\"visible\" id=\"glyph1-0\">\n",
       "<path style=\"stroke:none;\" d=\"\"/>\n",
       "</symbol>\n",
       "<symbol overflow=\"visible\" id=\"glyph1-1\">\n",
       "<path style=\"stroke:none;\" d=\"M -2.875 -3.40625 L -3.75 -3.40625 L -3.75 -0.546875 L -2.875 -0.546875 Z \"/>\n",
       "</symbol>\n",
       "<symbol overflow=\"visible\" id=\"glyph1-2\">\n",
       "<path style=\"stroke:none;\" d=\"M -6.015625 -6.125 C -7.453125 -6.125 -8.515625 -5.015625 -8.515625 -3.40625 C -8.515625 -1.671875 -7.625 -0.65625 -5.5625 -0.59375 L -5.5625 -1.65625 C -6.984375 -1.734375 -7.578125 -2.328125 -7.578125 -3.375 C -7.578125 -4.328125 -6.90625 -5.046875 -5.984375 -5.046875 C -5.3125 -5.046875 -4.734375 -4.65625 -4.3125 -3.90625 L -3.6875 -2.796875 C -2.671875 -1.015625 -1.875 -0.5 0 -0.40625 L 0 -6.078125 L -1.046875 -6.078125 L -1.046875 -1.59375 C -1.734375 -1.703125 -2.1875 -2.09375 -2.796875 -3.125 L -3.4375 -4.328125 C -4.078125 -5.515625 -4.96875 -6.125 -6.015625 -6.125 Z \"/>\n",
       "</symbol>\n",
       "<symbol overflow=\"visible\" id=\"glyph1-3\">\n",
       "<path style=\"stroke:none;\" d=\"M 0 -4.15625 L -8.515625 -4.15625 L -8.515625 -3.46875 C -7.203125 -3.09375 -7.015625 -2.859375 -6.8125 -1.21875 L -6.0625 -1.21875 L -6.0625 -3.109375 L 0 -3.109375 Z \"/>\n",
       "</symbol>\n",
       "<symbol overflow=\"visible\" id=\"glyph1-4\">\n",
       "<path style=\"stroke:none;\" d=\"M -4.09375 -6.078125 C -7.046875 -6.078125 -8.515625 -5.140625 -8.515625 -3.296875 C -8.515625 -1.46875 -7.015625 -0.515625 -4.15625 -0.515625 C -1.296875 -0.515625 0.1875 -1.46875 0.1875 -3.296875 C 0.1875 -5.09375 -1.296875 -6.078125 -4.09375 -6.078125 Z M -4.1875 -5 C -1.78125 -5 -0.703125 -4.453125 -0.703125 -3.28125 C -0.703125 -2.15625 -1.828125 -1.59375 -4.15625 -1.59375 C -6.484375 -1.59375 -7.578125 -2.15625 -7.578125 -3.296875 C -7.578125 -4.4375 -6.46875 -5 -4.1875 -5 Z \"/>\n",
       "</symbol>\n",
       "<symbol overflow=\"visible\" id=\"glyph1-5\">\n",
       "<path style=\"stroke:none;\" d=\"M -2.46875 -6.078125 C -3.5 -6.078125 -4.109375 -5.65625 -4.453125 -4.625 C -4.765625 -5.421875 -5.3125 -5.8125 -6.171875 -5.8125 C -7.625 -5.8125 -8.515625 -4.84375 -8.515625 -3.234375 C -8.515625 -1.515625 -7.578125 -0.59375 -5.765625 -0.5625 L -5.765625 -1.625 C -7.015625 -1.640625 -7.578125 -2.15625 -7.578125 -3.234375 C -7.578125 -4.171875 -7.03125 -4.734375 -6.125 -4.734375 C -5.21875 -4.734375 -4.84375 -4.34375 -4.84375 -2.65625 L -3.953125 -2.65625 L -3.953125 -3.234375 C -3.953125 -4.390625 -3.40625 -4.984375 -2.453125 -4.984375 C -1.390625 -4.984375 -0.75 -4.328125 -0.75 -3.234375 C -0.75 -2.078125 -1.328125 -1.515625 -2.5625 -1.4375 L -2.5625 -0.390625 C -0.671875 -0.515625 0.1875 -1.453125 0.1875 -3.1875 C 0.1875 -4.9375 -0.859375 -6.078125 -2.46875 -6.078125 Z \"/>\n",
       "</symbol>\n",
       "<symbol overflow=\"visible\" id=\"glyph1-6\">\n",
       "<path style=\"stroke:none;\" d=\"M -3.09375 -6.125 C -5.265625 -6.125 -6.46875 -5.078125 -6.46875 -3.265625 C -6.46875 -1.5 -5.25 -0.4375 -3.140625 -0.4375 C -1.03125 -0.4375 0.1875 -1.484375 0.1875 -3.28125 C 0.1875 -5.046875 -1.03125 -6.125 -3.09375 -6.125 Z M -3.109375 -5.078125 C -1.625 -5.078125 -0.75 -4.375 -0.75 -3.28125 C -0.75 -2.15625 -1.625 -1.46875 -3.140625 -1.46875 C -4.65625 -1.46875 -5.546875 -2.15625 -5.546875 -3.28125 C -5.546875 -4.40625 -4.671875 -5.078125 -3.109375 -5.078125 Z \"/>\n",
       "</symbol>\n",
       "<symbol overflow=\"visible\" id=\"glyph1-7\">\n",
       "<path style=\"stroke:none;\" d=\"M 0 -5.78125 L -6.28125 -5.78125 L -6.28125 -4.78125 L -2.8125 -4.78125 C -1.53125 -4.78125 -0.703125 -4.109375 -0.703125 -3.078125 C -0.703125 -2.28125 -1.171875 -1.78125 -1.9375 -1.78125 L -6.28125 -1.78125 L -6.28125 -0.78125 L -1.53125 -0.78125 C -0.484375 -0.78125 0.1875 -1.5625 0.1875 -2.78125 C 0.1875 -3.703125 -0.140625 -4.296875 -0.96875 -4.890625 L 0 -4.890625 Z \"/>\n",
       "</symbol>\n",
       "<symbol overflow=\"visible\" id=\"glyph1-8\">\n",
       "<path style=\"stroke:none;\" d=\"M 0 -3.046875 L -0.84375 -3.046875 C -0.796875 -2.921875 -0.796875 -2.765625 -0.796875 -2.5625 C -0.796875 -2.140625 -0.90625 -2.015625 -1.359375 -2.015625 L -5.46875 -2.015625 L -5.46875 -3.046875 L -6.28125 -3.046875 L -6.28125 -2.015625 L -8.015625 -2.015625 L -8.015625 -1.015625 L -6.28125 -1.015625 L -6.28125 -0.171875 L -5.46875 -0.171875 L -5.46875 -1.015625 L -0.90625 -1.015625 C -0.28125 -1.015625 0.078125 -1.453125 0.078125 -2.234375 C 0.078125 -2.46875 0.0625 -2.71875 0 -3.046875 Z \"/>\n",
       "</symbol>\n",
       "<symbol overflow=\"visible\" id=\"glyph1-9\">\n",
       "<path style=\"stroke:none;\" d=\"M 2.546875 -3 L 1.6875 -3 L 1.6875 -1.765625 L -7.890625 -1.765625 L -7.890625 -3 L -8.75 -3 L -8.75 -0.765625 L 2.546875 -0.765625 Z \"/>\n",
       "</symbol>\n",
       "<symbol overflow=\"visible\" id=\"glyph1-10\">\n",
       "<path style=\"stroke:none;\" d=\"M 0.1875 -2.296875 L -1.25 -2.296875 L -1.25 -1.046875 L 0 -1.046875 L 0 -1.765625 L 0.21875 -1.765625 C 1.046875 -1.765625 1.28125 -1.609375 1.3125 -1.046875 L 1.765625 -1.046875 C 1.765625 -1.890625 1.21875 -2.296875 0.1875 -2.296875 Z \"/>\n",
       "</symbol>\n",
       "<symbol overflow=\"visible\" id=\"glyph1-11\">\n",
       "<path style=\"stroke:none;\" d=\"M 2.546875 -2.515625 L -8.75 -2.515625 L -8.75 -0.28125 L -7.890625 -0.28125 L -7.890625 -1.515625 L 1.6875 -1.515625 L 1.6875 -0.28125 L 2.546875 -0.28125 Z \"/>\n",
       "</symbol>\n",
       "</g>\n",
       "</defs>\n",
       "<g id=\"surface37\">\n",
       "<rect x=\"0\" y=\"0\" width=\"504\" height=\"504\" style=\"fill:rgb(100%,100%,100%);fill-opacity:1;stroke:none;\"/>\n",
       "<path style=\"fill:none;stroke-width:0.75;stroke-linecap:round;stroke-linejoin:round;stroke:rgb(0%,0%,0%);stroke-opacity:1;stroke-miterlimit:10;\" d=\"M 426.269531 72.800781 C 426.269531 76.398438 420.871094 76.398438 420.871094 72.800781 C 420.871094 69.199219 426.269531 69.199219 426.269531 72.800781 \"/>\n",
       "<path style=\"fill:none;stroke-width:0.75;stroke-linecap:round;stroke-linejoin:round;stroke:rgb(0%,0%,0%);stroke-opacity:1;stroke-miterlimit:10;\" d=\"M 222.804688 416.800781 C 222.804688 420.398438 217.40625 420.398438 217.40625 416.800781 C 217.40625 413.199219 222.804688 413.199219 222.804688 416.800781 \"/>\n",
       "<path style=\"fill:none;stroke-width:0.75;stroke-linecap:round;stroke-linejoin:round;stroke:rgb(0%,0%,0%);stroke-opacity:1;stroke-miterlimit:10;\" d=\"M 298.070312 273.601562 C 298.070312 277.199219 292.671875 277.199219 292.671875 273.601562 C 292.671875 270 298.070312 270 298.070312 273.601562 \"/>\n",
       "<path style=\"fill:none;stroke-width:0.75;stroke-linecap:round;stroke-linejoin:round;stroke:rgb(0%,0%,0%);stroke-opacity:1;stroke-miterlimit:10;\" d=\"M 327.167969 179.121094 C 327.167969 182.71875 321.769531 182.71875 321.769531 179.121094 C 321.769531 175.519531 327.167969 175.519531 327.167969 179.121094 \"/>\n",
       "<path style=\"fill:none;stroke-width:0.75;stroke-linecap:round;stroke-linejoin:round;stroke:rgb(0%,0%,0%);stroke-opacity:1;stroke-miterlimit:10;\" d=\"M 266.828125 237.292969 C 266.828125 240.894531 261.429688 240.894531 261.429688 237.292969 C 261.429688 233.691406 266.828125 233.691406 266.828125 237.292969 \"/>\n",
       "<path style=\"fill:none;stroke-width:0.75;stroke-linecap:round;stroke-linejoin:round;stroke:rgb(0%,0%,0%);stroke-opacity:1;stroke-miterlimit:10;\" d=\"M 319.242188 237.324219 C 319.242188 240.925781 313.839844 240.925781 313.839844 237.324219 C 313.839844 233.726562 319.242188 233.726562 319.242188 237.324219 \"/>\n",
       "<path style=\"fill:none;stroke-width:0.75;stroke-linecap:round;stroke-linejoin:round;stroke:rgb(0%,0%,0%);stroke-opacity:1;stroke-miterlimit:10;\" d=\"M 237.136719 314.675781 C 237.136719 318.277344 231.734375 318.277344 231.734375 314.675781 C 231.734375 311.078125 237.136719 311.078125 237.136719 314.675781 \"/>\n",
       "<path style=\"fill:none;stroke-width:0.75;stroke-linecap:round;stroke-linejoin:round;stroke:rgb(0%,0%,0%);stroke-opacity:1;stroke-miterlimit:10;\" d=\"M 142.707031 352.40625 C 142.707031 356.007812 137.308594 356.007812 137.308594 352.40625 C 137.308594 348.804688 142.707031 348.804688 142.707031 352.40625 \"/>\n",
       "<path style=\"fill:none;stroke-width:0.75;stroke-linecap:round;stroke-linejoin:round;stroke:rgb(0%,0%,0%);stroke-opacity:1;stroke-miterlimit:10;\" d=\"M 355.417969 159.882812 C 355.417969 163.484375 350.015625 163.484375 350.015625 159.882812 C 350.015625 156.285156 355.417969 156.285156 355.417969 159.882812 \"/>\n",
       "<path style=\"fill:none;stroke-width:0.75;stroke-linecap:round;stroke-linejoin:round;stroke:rgb(0%,0%,0%);stroke-opacity:1;stroke-miterlimit:10;\" d=\"M 215.453125 253.835938 C 215.453125 257.4375 210.054688 257.4375 210.054688 253.835938 C 210.054688 250.234375 215.453125 250.234375 215.453125 253.835938 \"/>\n",
       "<path style=\"fill:none;stroke-width:0.75;stroke-linecap:round;stroke-linejoin:round;stroke:rgb(0%,0%,0%);stroke-opacity:1;stroke-miterlimit:10;\" d=\"M 329.421875 96.101562 C 329.421875 99.699219 324.023438 99.699219 324.023438 96.101562 C 324.023438 92.5 329.421875 92.5 329.421875 96.101562 \"/>\n",
       "<path style=\"fill:none;stroke-width:0.75;stroke-linecap:round;stroke-linejoin:round;stroke:rgb(0%,0%,0%);stroke-opacity:1;stroke-miterlimit:10;\" d=\"M 232.765625 226.730469 C 232.765625 230.332031 227.367188 230.332031 227.367188 226.730469 C 227.367188 223.132812 232.765625 223.132812 232.765625 226.730469 \"/>\n",
       "<path style=\"fill:none;stroke-width:0.75;stroke-linecap:round;stroke-linejoin:round;stroke:rgb(0%,0%,0%);stroke-opacity:1;stroke-miterlimit:10;\" d=\"M 361.613281 238.785156 C 361.613281 242.382812 356.210938 242.382812 356.210938 238.785156 C 356.210938 235.183594 361.613281 235.183594 361.613281 238.785156 \"/>\n",
       "<path style=\"fill:none;stroke-width:0.75;stroke-linecap:round;stroke-linejoin:round;stroke:rgb(0%,0%,0%);stroke-opacity:1;stroke-miterlimit:10;\" d=\"M 282.15625 228.519531 C 282.15625 232.117188 276.753906 232.117188 276.753906 228.519531 C 276.753906 224.917969 282.15625 224.917969 282.15625 228.519531 \"/>\n",
       "<path style=\"fill:none;stroke-width:0.75;stroke-linecap:round;stroke-linejoin:round;stroke:rgb(0%,0%,0%);stroke-opacity:1;stroke-miterlimit:10;\" d=\"M 385.074219 211.722656 C 385.074219 215.320312 379.675781 215.320312 379.675781 211.722656 C 379.675781 208.121094 385.074219 208.121094 385.074219 211.722656 \"/>\n",
       "<path style=\"fill:none;stroke-width:0.75;stroke-linecap:round;stroke-linejoin:round;stroke:rgb(0%,0%,0%);stroke-opacity:1;stroke-miterlimit:10;\" d=\"M 227.742188 248.84375 C 227.742188 252.445312 222.34375 252.445312 222.34375 248.84375 C 222.34375 245.242188 227.742188 245.242188 227.742188 248.84375 \"/>\n",
       "<path style=\"fill:none;stroke-width:0.75;stroke-linecap:round;stroke-linejoin:round;stroke:rgb(0%,0%,0%);stroke-opacity:1;stroke-miterlimit:10;\" d=\"M 202.484375 263.222656 C 202.484375 266.820312 197.085938 266.820312 197.085938 263.222656 C 197.085938 259.621094 202.484375 259.621094 202.484375 263.222656 \"/>\n",
       "<path style=\"fill:none;stroke-width:0.75;stroke-linecap:round;stroke-linejoin:round;stroke:rgb(0%,0%,0%);stroke-opacity:1;stroke-miterlimit:10;\" d=\"M 451.285156 215.035156 C 451.285156 218.636719 445.886719 218.636719 445.886719 215.035156 C 445.886719 211.433594 451.285156 211.433594 451.285156 215.035156 \"/>\n",
       "<path style=\"fill:none;stroke-width:0.75;stroke-linecap:round;stroke-linejoin:round;stroke:rgb(0%,0%,0%);stroke-opacity:1;stroke-miterlimit:10;\" d=\"M 296.859375 193.632812 C 296.859375 197.230469 291.460938 197.230469 291.460938 193.632812 C 291.460938 190.03125 296.859375 190.03125 296.859375 193.632812 \"/>\n",
       "<path style=\"fill:none;stroke-width:0.75;stroke-linecap:round;stroke-linejoin:round;stroke:rgb(0%,0%,0%);stroke-opacity:1;stroke-miterlimit:10;\" d=\"M 308.320312 212.175781 C 308.320312 215.777344 302.917969 215.777344 302.917969 212.175781 C 302.917969 208.578125 308.320312 208.578125 308.320312 212.175781 \"/>\n",
       "<path style=\"fill:none;stroke-width:0.75;stroke-linecap:round;stroke-linejoin:round;stroke:rgb(0%,0%,0%);stroke-opacity:1;stroke-miterlimit:10;\" d=\"M 358.074219 125.59375 C 358.074219 129.195312 352.671875 129.195312 352.671875 125.59375 C 352.671875 121.992188 358.074219 121.992188 358.074219 125.59375 \"/>\n",
       "<path style=\"fill:none;stroke-width:0.75;stroke-linecap:round;stroke-linejoin:round;stroke:rgb(0%,0%,0%);stroke-opacity:1;stroke-miterlimit:10;\" d=\"M 358.289062 204.335938 C 358.289062 207.933594 352.890625 207.933594 352.890625 204.335938 C 352.890625 200.734375 358.289062 200.734375 358.289062 204.335938 \"/>\n",
       "<path style=\"fill:none;stroke-width:0.75;stroke-linecap:round;stroke-linejoin:round;stroke:rgb(0%,0%,0%);stroke-opacity:1;stroke-miterlimit:10;\" d=\"M 355.875 223.214844 C 355.875 226.816406 350.476562 226.816406 350.476562 223.214844 C 350.476562 219.613281 355.875 219.613281 355.875 223.214844 \"/>\n",
       "<path style=\"fill:none;stroke-width:0.75;stroke-linecap:round;stroke-linejoin:round;stroke:rgb(0%,0%,0%);stroke-opacity:1;stroke-miterlimit:10;\" d=\"M 368.761719 138.964844 C 368.761719 142.566406 363.363281 142.566406 363.363281 138.964844 C 363.363281 135.363281 368.761719 135.363281 368.761719 138.964844 \"/>\n",
       "<path style=\"fill:none;stroke-width:0.75;stroke-linecap:round;stroke-linejoin:round;stroke:rgb(0%,0%,0%);stroke-opacity:1;stroke-miterlimit:10;\" d=\"M 250.726562 217.789062 C 250.726562 221.386719 245.328125 221.386719 245.328125 217.789062 C 245.328125 214.1875 250.726562 214.1875 250.726562 217.789062 \"/>\n",
       "<path style=\"fill:none;stroke-width:0.75;stroke-linecap:round;stroke-linejoin:round;stroke:rgb(0%,0%,0%);stroke-opacity:1;stroke-miterlimit:10;\" d=\"M 169.464844 282.660156 C 169.464844 286.257812 164.066406 286.257812 164.066406 282.660156 C 164.066406 279.058594 169.464844 279.058594 169.464844 282.660156 \"/>\n",
       "<path style=\"fill:none;stroke-width:0.75;stroke-linecap:round;stroke-linejoin:round;stroke:rgb(0%,0%,0%);stroke-opacity:1;stroke-miterlimit:10;\" d=\"M 215.101562 247.261719 C 215.101562 250.863281 209.703125 250.863281 209.703125 247.261719 C 209.703125 243.664062 215.101562 243.664062 215.101562 247.261719 \"/>\n",
       "<path style=\"fill:none;stroke-width:0.75;stroke-linecap:round;stroke-linejoin:round;stroke:rgb(0%,0%,0%);stroke-opacity:1;stroke-miterlimit:10;\" d=\"M 225.800781 262.082031 C 225.800781 265.683594 220.402344 265.683594 220.402344 262.082031 C 220.402344 258.484375 225.800781 258.484375 225.800781 262.082031 \"/>\n",
       "<path style=\"fill:none;stroke-width:0.75;stroke-linecap:round;stroke-linejoin:round;stroke:rgb(0%,0%,0%);stroke-opacity:1;stroke-miterlimit:10;\" d=\"M 352.824219 161.902344 C 352.824219 165.5 347.425781 165.5 347.425781 161.902344 C 347.425781 158.300781 352.824219 158.300781 352.824219 161.902344 \"/>\n",
       "<path style=\"fill:none;stroke-width:0.75;stroke-linecap:round;stroke-linejoin:round;stroke:rgb(0%,0%,0%);stroke-opacity:1;stroke-miterlimit:10;\" d=\"M 210.628906 276.339844 C 210.628906 279.941406 205.230469 279.941406 205.230469 276.339844 C 205.230469 272.738281 210.628906 272.738281 210.628906 276.339844 \"/>\n",
       "<path style=\"fill:none;stroke-width:0.75;stroke-linecap:round;stroke-linejoin:round;stroke:rgb(0%,0%,0%);stroke-opacity:1;stroke-miterlimit:10;\" d=\"M 243.859375 266.03125 C 243.859375 269.632812 238.460938 269.632812 238.460938 266.03125 C 238.460938 262.433594 243.859375 262.433594 243.859375 266.03125 \"/>\n",
       "<path style=\"fill:none;stroke-width:0.75;stroke-linecap:round;stroke-linejoin:round;stroke:rgb(0%,0%,0%);stroke-opacity:1;stroke-miterlimit:10;\" d=\"M 77.101562 363.449219 C 77.101562 367.050781 71.699219 367.050781 71.699219 363.449219 C 71.699219 359.851562 77.101562 359.851562 77.101562 363.449219 \"/>\n",
       "<path style=\"fill:none;stroke-width:0.75;stroke-linecap:round;stroke-linejoin:round;stroke:rgb(0%,0%,0%);stroke-opacity:1;stroke-miterlimit:10;\" d=\"M 276.765625 234.929688 C 276.765625 238.53125 271.367188 238.53125 271.367188 234.929688 C 271.367188 231.332031 276.765625 231.332031 276.765625 234.929688 \"/>\n",
       "<path style=\"fill:none;stroke-width:0.75;stroke-linecap:round;stroke-linejoin:round;stroke:rgb(0%,0%,0%);stroke-opacity:1;stroke-miterlimit:10;\" d=\"M 144.800781 262.648438 C 144.800781 266.246094 139.402344 266.246094 139.402344 262.648438 C 139.402344 259.046875 144.800781 259.046875 144.800781 262.648438 \"/>\n",
       "<path style=\"fill:none;stroke-width:0.75;stroke-linecap:round;stroke-linejoin:round;stroke:rgb(0%,0%,0%);stroke-opacity:1;stroke-miterlimit:10;\" d=\"M 237.25 177.273438 C 237.25 180.871094 231.847656 180.871094 231.847656 177.273438 C 231.847656 173.671875 237.25 173.671875 237.25 177.273438 \"/>\n",
       "<path style=\"fill:none;stroke-width:0.75;stroke-linecap:round;stroke-linejoin:round;stroke:rgb(0%,0%,0%);stroke-opacity:1;stroke-miterlimit:10;\" d=\"M 205.3125 277.5 C 205.3125 281.101562 199.914062 281.101562 199.914062 277.5 C 199.914062 273.902344 205.3125 273.902344 205.3125 277.5 \"/>\n",
       "<path style=\"fill:none;stroke-width:0.75;stroke-linecap:round;stroke-linejoin:round;stroke:rgb(0%,0%,0%);stroke-opacity:1;stroke-miterlimit:10;\" d=\"M 335.941406 289.800781 C 335.941406 293.402344 330.542969 293.402344 330.542969 289.800781 C 330.542969 286.203125 335.941406 286.203125 335.941406 289.800781 \"/>\n",
       "<path style=\"fill:none;stroke-width:0.75;stroke-linecap:round;stroke-linejoin:round;stroke:rgb(0%,0%,0%);stroke-opacity:1;stroke-miterlimit:10;\" d=\"M 427.882812 87.03125 C 427.882812 90.632812 422.480469 90.632812 422.480469 87.03125 C 422.480469 83.433594 427.882812 83.433594 427.882812 87.03125 \"/>\n",
       "<path style=\"fill:none;stroke-width:0.75;stroke-linecap:round;stroke-linejoin:round;stroke:rgb(0%,0%,0%);stroke-opacity:1;stroke-miterlimit:10;\" d=\"M 339.1875 74.726562 C 339.1875 78.328125 333.789062 78.328125 333.789062 74.726562 C 333.789062 71.128906 339.1875 71.128906 339.1875 74.726562 \"/>\n",
       "<path style=\"fill:none;stroke-width:0.75;stroke-linecap:round;stroke-linejoin:round;stroke:rgb(0%,0%,0%);stroke-opacity:1;stroke-miterlimit:10;\" d=\"M 461.101562 323.253906 C 461.101562 326.851562 455.699219 326.851562 455.699219 323.253906 C 455.699219 319.652344 461.101562 319.652344 461.101562 323.253906 \"/>\n",
       "<path style=\"fill:none;stroke-width:0.75;stroke-linecap:round;stroke-linejoin:round;stroke:rgb(0%,0%,0%);stroke-opacity:1;stroke-miterlimit:10;\" d=\"M 288.882812 235.945312 C 288.882812 239.542969 283.480469 239.542969 283.480469 235.945312 C 283.480469 232.34375 288.882812 232.34375 288.882812 235.945312 \"/>\n",
       "<path style=\"fill:none;stroke-width:0.75;stroke-linecap:round;stroke-linejoin:round;stroke:rgb(0%,0%,0%);stroke-opacity:1;stroke-miterlimit:10;\" d=\"M 369.960938 159.914062 C 369.960938 163.511719 364.5625 163.511719 364.5625 159.914062 C 364.5625 156.3125 369.960938 156.3125 369.960938 159.914062 \"/>\n",
       "<path style=\"fill:none;stroke-width:0.75;stroke-linecap:round;stroke-linejoin:round;stroke:rgb(0%,0%,0%);stroke-opacity:1;stroke-miterlimit:10;\" d=\"M 114.042969 365.621094 C 114.042969 369.222656 108.644531 369.222656 108.644531 365.621094 C 108.644531 362.023438 114.042969 362.023438 114.042969 365.621094 \"/>\n",
       "<path style=\"fill:none;stroke-width:0.75;stroke-linecap:round;stroke-linejoin:round;stroke:rgb(0%,0%,0%);stroke-opacity:1;stroke-miterlimit:10;\" d=\"M 331.0625 169.886719 C 331.0625 173.488281 325.664062 173.488281 325.664062 169.886719 C 325.664062 166.289062 331.0625 166.289062 331.0625 169.886719 \"/>\n",
       "<path style=\"fill:none;stroke-width:0.75;stroke-linecap:round;stroke-linejoin:round;stroke:rgb(0%,0%,0%);stroke-opacity:1;stroke-miterlimit:10;\" d=\"M 268.613281 151.039062 C 268.613281 154.636719 263.214844 154.636719 263.214844 151.039062 C 263.214844 147.4375 268.613281 147.4375 268.613281 151.039062 \"/>\n",
       "<path style=\"fill:none;stroke-width:0.75;stroke-linecap:round;stroke-linejoin:round;stroke:rgb(0%,0%,0%);stroke-opacity:1;stroke-miterlimit:10;\" d=\"M 214.367188 221.425781 C 214.367188 225.027344 208.964844 225.027344 208.964844 221.425781 C 208.964844 217.824219 214.367188 217.824219 214.367188 221.425781 \"/>\n",
       "<path style=\"fill:none;stroke-width:0.75;stroke-linecap:round;stroke-linejoin:round;stroke:rgb(0%,0%,0%);stroke-opacity:1;stroke-miterlimit:10;\" d=\"M 345.679688 297.984375 C 345.679688 301.585938 340.277344 301.585938 340.277344 297.984375 C 340.277344 294.386719 345.679688 294.386719 345.679688 297.984375 \"/>\n",
       "<path style=\"fill:none;stroke-width:0.75;stroke-linecap:round;stroke-linejoin:round;stroke:rgb(0%,0%,0%);stroke-opacity:1;stroke-miterlimit:10;\" d=\"M 452.523438 120.066406 C 452.523438 123.667969 447.121094 123.667969 447.121094 120.066406 C 447.121094 116.464844 452.523438 116.464844 452.523438 120.066406 \"/>\n",
       "<path style=\"fill:none;stroke-width:0.75;stroke-linecap:round;stroke-linejoin:round;stroke:rgb(0%,0%,0%);stroke-opacity:1;stroke-miterlimit:10;\" d=\"M 313.847656 262.585938 C 313.847656 266.1875 308.449219 266.1875 308.449219 262.585938 C 308.449219 258.988281 313.847656 258.988281 313.847656 262.585938 \"/>\n",
       "<path style=\"fill:none;stroke-width:0.75;stroke-linecap:round;stroke-linejoin:round;stroke:rgb(0%,0%,0%);stroke-opacity:1;stroke-miterlimit:10;\" d=\"M 297.285156 160.605469 C 297.285156 164.203125 291.882812 164.203125 291.882812 160.605469 C 291.882812 157.003906 297.285156 157.003906 297.285156 160.605469 \"/>\n",
       "<path style=\"fill:none;stroke-width:0.75;stroke-linecap:round;stroke-linejoin:round;stroke:rgb(0%,0%,0%);stroke-opacity:1;stroke-miterlimit:10;\" d=\"M 134.925781 430.558594 L 468.289062 430.558594 \"/>\n",
       "<path style=\"fill:none;stroke-width:0.75;stroke-linecap:round;stroke-linejoin:round;stroke:rgb(0%,0%,0%);stroke-opacity:1;stroke-miterlimit:10;\" d=\"M 134.925781 430.558594 L 134.925781 437.761719 \"/>\n",
       "<path style=\"fill:none;stroke-width:0.75;stroke-linecap:round;stroke-linejoin:round;stroke:rgb(0%,0%,0%);stroke-opacity:1;stroke-miterlimit:10;\" d=\"M 218.265625 430.558594 L 218.265625 437.761719 \"/>\n",
       "<path style=\"fill:none;stroke-width:0.75;stroke-linecap:round;stroke-linejoin:round;stroke:rgb(0%,0%,0%);stroke-opacity:1;stroke-miterlimit:10;\" d=\"M 301.605469 430.558594 L 301.605469 437.761719 \"/>\n",
       "<path style=\"fill:none;stroke-width:0.75;stroke-linecap:round;stroke-linejoin:round;stroke:rgb(0%,0%,0%);stroke-opacity:1;stroke-miterlimit:10;\" d=\"M 384.949219 430.558594 L 384.949219 437.761719 \"/>\n",
       "<path style=\"fill:none;stroke-width:0.75;stroke-linecap:round;stroke-linejoin:round;stroke:rgb(0%,0%,0%);stroke-opacity:1;stroke-miterlimit:10;\" d=\"M 468.289062 430.558594 L 468.289062 437.761719 \"/>\n",
       "<g style=\"fill:rgb(0%,0%,0%);fill-opacity:1;\">\n",
       "  <use xlink:href=\"#glyph0-1\" x=\"131.425781\" y=\"456.256836\"/>\n",
       "</g>\n",
       "<g style=\"fill:rgb(0%,0%,0%);fill-opacity:1;\">\n",
       "  <use xlink:href=\"#glyph0-2\" x=\"214.765625\" y=\"456.256836\"/>\n",
       "</g>\n",
       "<g style=\"fill:rgb(0%,0%,0%);fill-opacity:1;\">\n",
       "  <use xlink:href=\"#glyph0-3\" x=\"298.105469\" y=\"456.256836\"/>\n",
       "</g>\n",
       "<g style=\"fill:rgb(0%,0%,0%);fill-opacity:1;\">\n",
       "  <use xlink:href=\"#glyph0-4\" x=\"381.449219\" y=\"456.256836\"/>\n",
       "</g>\n",
       "<g style=\"fill:rgb(0%,0%,0%);fill-opacity:1;\">\n",
       "  <use xlink:href=\"#glyph0-5\" x=\"464.789062\" y=\"456.256836\"/>\n",
       "</g>\n",
       "<path style=\"fill:none;stroke-width:0.75;stroke-linecap:round;stroke-linejoin:round;stroke:rgb(0%,0%,0%);stroke-opacity:1;stroke-miterlimit:10;\" d=\"M 59.039062 412.265625 L 59.039062 76.105469 \"/>\n",
       "<path style=\"fill:none;stroke-width:0.75;stroke-linecap:round;stroke-linejoin:round;stroke:rgb(0%,0%,0%);stroke-opacity:1;stroke-miterlimit:10;\" d=\"M 59.039062 412.265625 L 51.839844 412.265625 \"/>\n",
       "<path style=\"fill:none;stroke-width:0.75;stroke-linecap:round;stroke-linejoin:round;stroke:rgb(0%,0%,0%);stroke-opacity:1;stroke-miterlimit:10;\" d=\"M 59.039062 345.035156 L 51.839844 345.035156 \"/>\n",
       "<path style=\"fill:none;stroke-width:0.75;stroke-linecap:round;stroke-linejoin:round;stroke:rgb(0%,0%,0%);stroke-opacity:1;stroke-miterlimit:10;\" d=\"M 59.039062 277.800781 L 51.839844 277.800781 \"/>\n",
       "<path style=\"fill:none;stroke-width:0.75;stroke-linecap:round;stroke-linejoin:round;stroke:rgb(0%,0%,0%);stroke-opacity:1;stroke-miterlimit:10;\" d=\"M 59.039062 210.570312 L 51.839844 210.570312 \"/>\n",
       "<path style=\"fill:none;stroke-width:0.75;stroke-linecap:round;stroke-linejoin:round;stroke:rgb(0%,0%,0%);stroke-opacity:1;stroke-miterlimit:10;\" d=\"M 59.039062 143.335938 L 51.839844 143.335938 \"/>\n",
       "<path style=\"fill:none;stroke-width:0.75;stroke-linecap:round;stroke-linejoin:round;stroke:rgb(0%,0%,0%);stroke-opacity:1;stroke-miterlimit:10;\" d=\"M 59.039062 76.105469 L 51.839844 76.105469 \"/>\n",
       "<g style=\"fill:rgb(0%,0%,0%);fill-opacity:1;\">\n",
       "  <use xlink:href=\"#glyph1-1\" x=\"41.538086\" y=\"417.765625\"/>\n",
       "  <use xlink:href=\"#glyph1-2\" x=\"41.538086\" y=\"413.769531\"/>\n",
       "</g>\n",
       "<g style=\"fill:rgb(0%,0%,0%);fill-opacity:1;\">\n",
       "  <use xlink:href=\"#glyph1-1\" x=\"41.538086\" y=\"350.535156\"/>\n",
       "  <use xlink:href=\"#glyph1-3\" x=\"41.538086\" y=\"346.539062\"/>\n",
       "</g>\n",
       "<g style=\"fill:rgb(0%,0%,0%);fill-opacity:1;\">\n",
       "  <use xlink:href=\"#glyph1-4\" x=\"41.538086\" y=\"281.300781\"/>\n",
       "</g>\n",
       "<g style=\"fill:rgb(0%,0%,0%);fill-opacity:1;\">\n",
       "  <use xlink:href=\"#glyph1-3\" x=\"41.538086\" y=\"214.070312\"/>\n",
       "</g>\n",
       "<g style=\"fill:rgb(0%,0%,0%);fill-opacity:1;\">\n",
       "  <use xlink:href=\"#glyph1-2\" x=\"41.538086\" y=\"146.835938\"/>\n",
       "</g>\n",
       "<g style=\"fill:rgb(0%,0%,0%);fill-opacity:1;\">\n",
       "  <use xlink:href=\"#glyph1-5\" x=\"41.538086\" y=\"79.605469\"/>\n",
       "</g>\n",
       "<path style=\"fill:none;stroke-width:0.75;stroke-linecap:round;stroke-linejoin:round;stroke:rgb(0%,0%,0%);stroke-opacity:1;stroke-miterlimit:10;\" d=\"M 59.039062 430.558594 L 473.761719 430.558594 L 473.761719 59.039062 L 59.039062 59.039062 L 59.039062 430.558594 \"/>\n",
       "<g style=\"fill:rgb(0%,0%,0%);fill-opacity:1;\">\n",
       "  <use xlink:href=\"#glyph0-6\" x=\"249.398438\" y=\"485.057617\"/>\n",
       "  <use xlink:href=\"#glyph0-7\" x=\"256.070312\" y=\"485.057617\"/>\n",
       "  <use xlink:href=\"#glyph0-8\" x=\"262.742188\" y=\"485.057617\"/>\n",
       "  <use xlink:href=\"#glyph0-9\" x=\"266.078125\" y=\"485.057617\"/>\n",
       "  <use xlink:href=\"#glyph0-10\" x=\"269.414062\" y=\"485.057617\"/>\n",
       "  <use xlink:href=\"#glyph0-2\" x=\"272.75\" y=\"485.057617\"/>\n",
       "  <use xlink:href=\"#glyph0-11\" x=\"279.421875\" y=\"485.057617\"/>\n",
       "</g>\n",
       "<g style=\"fill:rgb(0%,0%,0%);fill-opacity:1;\">\n",
       "  <use xlink:href=\"#glyph1-6\" x=\"12.737305\" y=\"261.800781\"/>\n",
       "  <use xlink:href=\"#glyph1-7\" x=\"12.737305\" y=\"255.128906\"/>\n",
       "  <use xlink:href=\"#glyph1-8\" x=\"12.737305\" y=\"248.457031\"/>\n",
       "  <use xlink:href=\"#glyph1-9\" x=\"12.737305\" y=\"245.121094\"/>\n",
       "  <use xlink:href=\"#glyph1-10\" x=\"12.737305\" y=\"241.785156\"/>\n",
       "  <use xlink:href=\"#glyph1-2\" x=\"12.737305\" y=\"238.449219\"/>\n",
       "  <use xlink:href=\"#glyph1-11\" x=\"12.737305\" y=\"231.777344\"/>\n",
       "</g>\n",
       "</g>\n",
       "</svg>\n"
      ],
      "text/plain": [
       "plot without title"
      ]
     },
     "metadata": {
      "image/svg+xml": {
       "isolated": true
      }
     },
     "output_type": "display_data"
    }
   ],
   "source": [
    "# Plot the random variables in the x-y plane\n",
    "plot(out)"
   ]
  },
  {
   "cell_type": "markdown",
   "metadata": {},
   "source": [
    "That's it! Now we have some data, you can think of it as whatever you would like: wealth vs. wages, income vs. education, grade vs. effort, popularity vs. effort in programming course, etc.\n",
    "\n",
    "Now that we have this data, let's add a line to it:"
   ]
  },
  {
   "cell_type": "code",
   "execution_count": 17,
   "metadata": {
    "collapsed": false
   },
   "outputs": [
    {
     "data": {
      "image/png": "[encoded data removed]",
      "image/svg+xml": [
       "<?xml version=\"1.0\" encoding=\"UTF-8\"?>\n",
       "<svg xmlns=\"http://www.w3.org/2000/svg\" xmlns:xlink=\"http://www.w3.org/1999/xlink\" width=\"504pt\" height=\"504pt\" viewBox=\"0 0 504 504\" version=\"1.1\">\n",
       "<defs>\n",
       "<g>\n",
       "<symbol overflow=\"visible\" id=\"glyph0-0\">\n",
       "<path style=\"stroke:none;\" d=\"\"/>\n",
       "</symbol>\n",
       "<symbol overflow=\"visible\" id=\"glyph0-1\">\n",
       "<path style=\"stroke:none;\" d=\"M 6.078125 -4.09375 C 6.078125 -7.046875 5.140625 -8.515625 3.296875 -8.515625 C 1.46875 -8.515625 0.515625 -7.015625 0.515625 -4.15625 C 0.515625 -1.296875 1.46875 0.1875 3.296875 0.1875 C 5.09375 0.1875 6.078125 -1.296875 6.078125 -4.09375 Z M 5 -4.1875 C 5 -1.78125 4.453125 -0.703125 3.28125 -0.703125 C 2.15625 -0.703125 1.59375 -1.828125 1.59375 -4.15625 C 1.59375 -6.484375 2.15625 -7.578125 3.296875 -7.578125 C 4.4375 -7.578125 5 -6.46875 5 -4.1875 Z \"/>\n",
       "</symbol>\n",
       "<symbol overflow=\"visible\" id=\"glyph0-2\">\n",
       "<path style=\"stroke:none;\" d=\"M 4.15625 0 L 4.15625 -8.515625 L 3.46875 -8.515625 C 3.09375 -7.203125 2.859375 -7.015625 1.21875 -6.8125 L 1.21875 -6.0625 L 3.109375 -6.0625 L 3.109375 0 Z \"/>\n",
       "</symbol>\n",
       "<symbol overflow=\"visible\" id=\"glyph0-3\">\n",
       "<path style=\"stroke:none;\" d=\"M 6.125 -6.015625 C 6.125 -7.453125 5.015625 -8.515625 3.40625 -8.515625 C 1.671875 -8.515625 0.65625 -7.625 0.59375 -5.5625 L 1.65625 -5.5625 C 1.734375 -6.984375 2.328125 -7.578125 3.375 -7.578125 C 4.328125 -7.578125 5.046875 -6.90625 5.046875 -5.984375 C 5.046875 -5.3125 4.65625 -4.734375 3.90625 -4.3125 L 2.796875 -3.6875 C 1.015625 -2.671875 0.5 -1.875 0.40625 0 L 6.078125 0 L 6.078125 -1.046875 L 1.59375 -1.046875 C 1.703125 -1.734375 2.09375 -2.1875 3.125 -2.796875 L 4.328125 -3.4375 C 5.515625 -4.078125 6.125 -4.96875 6.125 -6.015625 Z \"/>\n",
       "</symbol>\n",
       "<symbol overflow=\"visible\" id=\"glyph0-4\">\n",
       "<path style=\"stroke:none;\" d=\"M 6.078125 -2.46875 C 6.078125 -3.5 5.65625 -4.109375 4.625 -4.453125 C 5.421875 -4.765625 5.8125 -5.3125 5.8125 -6.171875 C 5.8125 -7.625 4.84375 -8.515625 3.234375 -8.515625 C 1.515625 -8.515625 0.59375 -7.578125 0.5625 -5.765625 L 1.625 -5.765625 C 1.640625 -7.015625 2.15625 -7.578125 3.234375 -7.578125 C 4.171875 -7.578125 4.734375 -7.03125 4.734375 -6.125 C 4.734375 -5.21875 4.34375 -4.84375 2.65625 -4.84375 L 2.65625 -3.953125 L 3.234375 -3.953125 C 4.390625 -3.953125 4.984375 -3.40625 4.984375 -2.453125 C 4.984375 -1.390625 4.328125 -0.75 3.234375 -0.75 C 2.078125 -0.75 1.515625 -1.328125 1.4375 -2.5625 L 0.390625 -2.5625 C 0.515625 -0.671875 1.453125 0.1875 3.1875 0.1875 C 4.9375 0.1875 6.078125 -0.859375 6.078125 -2.46875 Z \"/>\n",
       "</symbol>\n",
       "<symbol overflow=\"visible\" id=\"glyph0-5\">\n",
       "<path style=\"stroke:none;\" d=\"M 6.234375 -2.046875 L 6.234375 -2.984375 L 4.984375 -2.984375 L 4.984375 -8.515625 L 4.203125 -8.515625 L 0.34375 -3.15625 L 0.34375 -2.046875 L 3.921875 -2.046875 L 3.921875 0 L 4.984375 0 L 4.984375 -2.046875 Z M 3.921875 -2.984375 L 1.265625 -2.984375 L 3.921875 -6.703125 Z \"/>\n",
       "</symbol>\n",
       "<symbol overflow=\"visible\" id=\"glyph0-6\">\n",
       "<path style=\"stroke:none;\" d=\"M 6.15625 -2.8125 C 6.15625 -4.5 5.046875 -5.609375 3.40625 -5.609375 C 2.8125 -5.609375 2.328125 -5.453125 1.84375 -5.09375 L 2.171875 -7.28125 L 5.71875 -7.28125 L 5.71875 -8.328125 L 1.3125 -8.328125 L 0.6875 -3.875 L 1.65625 -3.875 C 2.140625 -4.46875 2.5625 -4.671875 3.21875 -4.671875 C 4.359375 -4.671875 5.078125 -3.9375 5.078125 -2.671875 C 5.078125 -1.453125 4.375 -0.75 3.21875 -0.75 C 2.296875 -0.75 1.734375 -1.21875 1.46875 -2.1875 L 0.421875 -2.1875 C 0.765625 -0.484375 1.734375 0.1875 3.234375 0.1875 C 4.953125 0.1875 6.15625 -1.015625 6.15625 -2.8125 Z \"/>\n",
       "</symbol>\n",
       "<symbol overflow=\"visible\" id=\"glyph0-7\">\n",
       "<path style=\"stroke:none;\" d=\"M 6.125 -3.09375 C 6.125 -5.265625 5.078125 -6.46875 3.265625 -6.46875 C 1.5 -6.46875 0.4375 -5.25 0.4375 -3.140625 C 0.4375 -1.03125 1.484375 0.1875 3.28125 0.1875 C 5.046875 0.1875 6.125 -1.03125 6.125 -3.09375 Z M 5.078125 -3.109375 C 5.078125 -1.625 4.375 -0.75 3.28125 -0.75 C 2.15625 -0.75 1.46875 -1.625 1.46875 -3.140625 C 1.46875 -4.65625 2.15625 -5.546875 3.28125 -5.546875 C 4.40625 -5.546875 5.078125 -4.671875 5.078125 -3.109375 Z \"/>\n",
       "</symbol>\n",
       "<symbol overflow=\"visible\" id=\"glyph0-8\">\n",
       "<path style=\"stroke:none;\" d=\"M 5.78125 0 L 5.78125 -6.28125 L 4.78125 -6.28125 L 4.78125 -2.8125 C 4.78125 -1.53125 4.109375 -0.703125 3.078125 -0.703125 C 2.28125 -0.703125 1.78125 -1.171875 1.78125 -1.9375 L 1.78125 -6.28125 L 0.78125 -6.28125 L 0.78125 -1.53125 C 0.78125 -0.484375 1.5625 0.1875 2.78125 0.1875 C 3.703125 0.1875 4.296875 -0.140625 4.890625 -0.96875 L 4.890625 0 Z \"/>\n",
       "</symbol>\n",
       "<symbol overflow=\"visible\" id=\"glyph0-9\">\n",
       "<path style=\"stroke:none;\" d=\"M 3.046875 0 L 3.046875 -0.84375 C 2.921875 -0.796875 2.765625 -0.796875 2.5625 -0.796875 C 2.140625 -0.796875 2.015625 -0.90625 2.015625 -1.359375 L 2.015625 -5.46875 L 3.046875 -5.46875 L 3.046875 -6.28125 L 2.015625 -6.28125 L 2.015625 -8.015625 L 1.015625 -8.015625 L 1.015625 -6.28125 L 0.171875 -6.28125 L 0.171875 -5.46875 L 1.015625 -5.46875 L 1.015625 -0.90625 C 1.015625 -0.28125 1.453125 0.078125 2.234375 0.078125 C 2.46875 0.078125 2.71875 0.0625 3.046875 0 Z \"/>\n",
       "</symbol>\n",
       "<symbol overflow=\"visible\" id=\"glyph0-10\">\n",
       "<path style=\"stroke:none;\" d=\"M 3 2.546875 L 3 1.6875 L 1.765625 1.6875 L 1.765625 -7.890625 L 3 -7.890625 L 3 -8.75 L 0.765625 -8.75 L 0.765625 2.546875 Z \"/>\n",
       "</symbol>\n",
       "<symbol overflow=\"visible\" id=\"glyph0-11\">\n",
       "<path style=\"stroke:none;\" d=\"M 2.296875 0.1875 L 2.296875 -1.25 L 1.046875 -1.25 L 1.046875 0 L 1.765625 0 L 1.765625 0.21875 C 1.765625 1.046875 1.609375 1.28125 1.046875 1.3125 L 1.046875 1.765625 C 1.890625 1.765625 2.296875 1.21875 2.296875 0.1875 Z \"/>\n",
       "</symbol>\n",
       "<symbol overflow=\"visible\" id=\"glyph0-12\">\n",
       "<path style=\"stroke:none;\" d=\"M 2.515625 2.546875 L 2.515625 -8.75 L 0.28125 -8.75 L 0.28125 -7.890625 L 1.515625 -7.890625 L 1.515625 1.6875 L 0.28125 1.6875 L 0.28125 2.546875 Z \"/>\n",
       "</symbol>\n",
       "<symbol overflow=\"visible\" id=\"glyph1-0\">\n",
       "<path style=\"stroke:none;\" d=\"\"/>\n",
       "</symbol>\n",
       "<symbol overflow=\"visible\" id=\"glyph1-1\">\n",
       "<path style=\"stroke:none;\" d=\"M -2.875 -3.40625 L -3.75 -3.40625 L -3.75 -0.546875 L -2.875 -0.546875 Z \"/>\n",
       "</symbol>\n",
       "<symbol overflow=\"visible\" id=\"glyph1-2\">\n",
       "<path style=\"stroke:none;\" d=\"M 0 -4.15625 L -8.515625 -4.15625 L -8.515625 -3.46875 C -7.203125 -3.09375 -7.015625 -2.859375 -6.8125 -1.21875 L -6.0625 -1.21875 L -6.0625 -3.109375 L 0 -3.109375 Z \"/>\n",
       "</symbol>\n",
       "<symbol overflow=\"visible\" id=\"glyph1-3\">\n",
       "<path style=\"stroke:none;\" d=\"M -4.09375 -6.078125 C -7.046875 -6.078125 -8.515625 -5.140625 -8.515625 -3.296875 C -8.515625 -1.46875 -7.015625 -0.515625 -4.15625 -0.515625 C -1.296875 -0.515625 0.1875 -1.46875 0.1875 -3.296875 C 0.1875 -5.09375 -1.296875 -6.078125 -4.09375 -6.078125 Z M -4.1875 -5 C -1.78125 -5 -0.703125 -4.453125 -0.703125 -3.28125 C -0.703125 -2.15625 -1.828125 -1.59375 -4.15625 -1.59375 C -6.484375 -1.59375 -7.578125 -2.15625 -7.578125 -3.296875 C -7.578125 -4.4375 -6.46875 -5 -4.1875 -5 Z \"/>\n",
       "</symbol>\n",
       "<symbol overflow=\"visible\" id=\"glyph1-4\">\n",
       "<path style=\"stroke:none;\" d=\"M -6.015625 -6.125 C -7.453125 -6.125 -8.515625 -5.015625 -8.515625 -3.40625 C -8.515625 -1.671875 -7.625 -0.65625 -5.5625 -0.59375 L -5.5625 -1.65625 C -6.984375 -1.734375 -7.578125 -2.328125 -7.578125 -3.375 C -7.578125 -4.328125 -6.90625 -5.046875 -5.984375 -5.046875 C -5.3125 -5.046875 -4.734375 -4.65625 -4.3125 -3.90625 L -3.6875 -2.796875 C -2.671875 -1.015625 -1.875 -0.5 0 -0.40625 L 0 -6.078125 L -1.046875 -6.078125 L -1.046875 -1.59375 C -1.734375 -1.703125 -2.1875 -2.09375 -2.796875 -3.125 L -3.4375 -4.328125 C -4.078125 -5.515625 -4.96875 -6.125 -6.015625 -6.125 Z \"/>\n",
       "</symbol>\n",
       "<symbol overflow=\"visible\" id=\"glyph1-5\">\n",
       "<path style=\"stroke:none;\" d=\"M -2.46875 -6.078125 C -3.5 -6.078125 -4.109375 -5.65625 -4.453125 -4.625 C -4.765625 -5.421875 -5.3125 -5.8125 -6.171875 -5.8125 C -7.625 -5.8125 -8.515625 -4.84375 -8.515625 -3.234375 C -8.515625 -1.515625 -7.578125 -0.59375 -5.765625 -0.5625 L -5.765625 -1.625 C -7.015625 -1.640625 -7.578125 -2.15625 -7.578125 -3.234375 C -7.578125 -4.171875 -7.03125 -4.734375 -6.125 -4.734375 C -5.21875 -4.734375 -4.84375 -4.34375 -4.84375 -2.65625 L -3.953125 -2.65625 L -3.953125 -3.234375 C -3.953125 -4.390625 -3.40625 -4.984375 -2.453125 -4.984375 C -1.390625 -4.984375 -0.75 -4.328125 -0.75 -3.234375 C -0.75 -2.078125 -1.328125 -1.515625 -2.5625 -1.4375 L -2.5625 -0.390625 C -0.671875 -0.515625 0.1875 -1.453125 0.1875 -3.1875 C 0.1875 -4.9375 -0.859375 -6.078125 -2.46875 -6.078125 Z \"/>\n",
       "</symbol>\n",
       "<symbol overflow=\"visible\" id=\"glyph1-6\">\n",
       "<path style=\"stroke:none;\" d=\"M -3.09375 -6.125 C -5.265625 -6.125 -6.46875 -5.078125 -6.46875 -3.265625 C -6.46875 -1.5 -5.25 -0.4375 -3.140625 -0.4375 C -1.03125 -0.4375 0.1875 -1.484375 0.1875 -3.28125 C 0.1875 -5.046875 -1.03125 -6.125 -3.09375 -6.125 Z M -3.109375 -5.078125 C -1.625 -5.078125 -0.75 -4.375 -0.75 -3.28125 C -0.75 -2.15625 -1.625 -1.46875 -3.140625 -1.46875 C -4.65625 -1.46875 -5.546875 -2.15625 -5.546875 -3.28125 C -5.546875 -4.40625 -4.671875 -5.078125 -3.109375 -5.078125 Z \"/>\n",
       "</symbol>\n",
       "<symbol overflow=\"visible\" id=\"glyph1-7\">\n",
       "<path style=\"stroke:none;\" d=\"M 0 -5.78125 L -6.28125 -5.78125 L -6.28125 -4.78125 L -2.8125 -4.78125 C -1.53125 -4.78125 -0.703125 -4.109375 -0.703125 -3.078125 C -0.703125 -2.28125 -1.171875 -1.78125 -1.9375 -1.78125 L -6.28125 -1.78125 L -6.28125 -0.78125 L -1.53125 -0.78125 C -0.484375 -0.78125 0.1875 -1.5625 0.1875 -2.78125 C 0.1875 -3.703125 -0.140625 -4.296875 -0.96875 -4.890625 L 0 -4.890625 Z \"/>\n",
       "</symbol>\n",
       "<symbol overflow=\"visible\" id=\"glyph1-8\">\n",
       "<path style=\"stroke:none;\" d=\"M 0 -3.046875 L -0.84375 -3.046875 C -0.796875 -2.921875 -0.796875 -2.765625 -0.796875 -2.5625 C -0.796875 -2.140625 -0.90625 -2.015625 -1.359375 -2.015625 L -5.46875 -2.015625 L -5.46875 -3.046875 L -6.28125 -3.046875 L -6.28125 -2.015625 L -8.015625 -2.015625 L -8.015625 -1.015625 L -6.28125 -1.015625 L -6.28125 -0.171875 L -5.46875 -0.171875 L -5.46875 -1.015625 L -0.90625 -1.015625 C -0.28125 -1.015625 0.078125 -1.453125 0.078125 -2.234375 C 0.078125 -2.46875 0.0625 -2.71875 0 -3.046875 Z \"/>\n",
       "</symbol>\n",
       "<symbol overflow=\"visible\" id=\"glyph1-9\">\n",
       "<path style=\"stroke:none;\" d=\"M 2.546875 -3 L 1.6875 -3 L 1.6875 -1.765625 L -7.890625 -1.765625 L -7.890625 -3 L -8.75 -3 L -8.75 -0.765625 L 2.546875 -0.765625 Z \"/>\n",
       "</symbol>\n",
       "<symbol overflow=\"visible\" id=\"glyph1-10\">\n",
       "<path style=\"stroke:none;\" d=\"M 0.1875 -2.296875 L -1.25 -2.296875 L -1.25 -1.046875 L 0 -1.046875 L 0 -1.765625 L 0.21875 -1.765625 C 1.046875 -1.765625 1.28125 -1.609375 1.3125 -1.046875 L 1.765625 -1.046875 C 1.765625 -1.890625 1.21875 -2.296875 0.1875 -2.296875 Z \"/>\n",
       "</symbol>\n",
       "<symbol overflow=\"visible\" id=\"glyph1-11\">\n",
       "<path style=\"stroke:none;\" d=\"M 2.546875 -2.515625 L -8.75 -2.515625 L -8.75 -0.28125 L -7.890625 -0.28125 L -7.890625 -1.515625 L 1.6875 -1.515625 L 1.6875 -0.28125 L 2.546875 -0.28125 Z \"/>\n",
       "</symbol>\n",
       "</g>\n",
       "<clipPath id=\"clip1\">\n",
       "  <path d=\"M 59.039062 135 L 474.757812 135 L 474.757812 359 L 59.039062 359 Z \"/>\n",
       "</clipPath>\n",
       "</defs>\n",
       "<g id=\"surface57\">\n",
       "<rect x=\"0\" y=\"0\" width=\"504\" height=\"504\" style=\"fill:rgb(100%,100%,100%);fill-opacity:1;stroke:none;\"/>\n",
       "<path style=\"fill:none;stroke-width:0.75;stroke-linecap:round;stroke-linejoin:round;stroke:rgb(0%,0%,0%);stroke-opacity:1;stroke-miterlimit:10;\" d=\"M 343 74.070312 C 343 77.671875 337.601562 77.671875 337.601562 74.070312 C 337.601562 70.472656 343 70.472656 343 74.070312 \"/>\n",
       "<path style=\"fill:none;stroke-width:0.75;stroke-linecap:round;stroke-linejoin:round;stroke:rgb(0%,0%,0%);stroke-opacity:1;stroke-miterlimit:10;\" d=\"M 165.742188 317.710938 C 165.742188 321.3125 160.339844 321.3125 160.339844 317.710938 C 160.339844 314.113281 165.742188 314.113281 165.742188 317.710938 \"/>\n",
       "<path style=\"fill:none;stroke-width:0.75;stroke-linecap:round;stroke-linejoin:round;stroke:rgb(0%,0%,0%);stroke-opacity:1;stroke-miterlimit:10;\" d=\"M 288.347656 178.847656 C 288.347656 182.445312 282.949219 182.445312 282.949219 178.847656 C 282.949219 175.246094 288.347656 175.246094 288.347656 178.847656 \"/>\n",
       "<path style=\"fill:none;stroke-width:0.75;stroke-linecap:round;stroke-linejoin:round;stroke:rgb(0%,0%,0%);stroke-opacity:1;stroke-miterlimit:10;\" d=\"M 221.738281 264.867188 C 221.738281 268.46875 216.339844 268.46875 216.339844 264.867188 C 216.339844 261.269531 221.738281 261.269531 221.738281 264.867188 \"/>\n",
       "<path style=\"fill:none;stroke-width:0.75;stroke-linecap:round;stroke-linejoin:round;stroke:rgb(0%,0%,0%);stroke-opacity:1;stroke-miterlimit:10;\" d=\"M 77.101562 346.667969 C 77.101562 350.269531 71.699219 350.269531 71.699219 346.667969 C 71.699219 343.070312 77.101562 343.070312 77.101562 346.667969 \"/>\n",
       "<path style=\"fill:none;stroke-width:0.75;stroke-linecap:round;stroke-linejoin:round;stroke:rgb(0%,0%,0%);stroke-opacity:1;stroke-miterlimit:10;\" d=\"M 137.8125 416.800781 C 137.8125 420.398438 132.410156 420.398438 132.410156 416.800781 C 132.410156 413.199219 137.8125 413.199219 137.8125 416.800781 \"/>\n",
       "<path style=\"fill:none;stroke-width:0.75;stroke-linecap:round;stroke-linejoin:round;stroke:rgb(0%,0%,0%);stroke-opacity:1;stroke-miterlimit:10;\" d=\"M 352.40625 208.515625 C 352.40625 212.117188 347.007812 212.117188 347.007812 208.515625 C 347.007812 204.917969 352.40625 204.917969 352.40625 208.515625 \"/>\n",
       "<path style=\"fill:none;stroke-width:0.75;stroke-linecap:round;stroke-linejoin:round;stroke:rgb(0%,0%,0%);stroke-opacity:1;stroke-miterlimit:10;\" d=\"M 190.679688 231.046875 C 190.679688 234.644531 185.28125 234.644531 185.28125 231.046875 C 185.28125 227.445312 190.679688 227.445312 190.679688 231.046875 \"/>\n",
       "<path style=\"fill:none;stroke-width:0.75;stroke-linecap:round;stroke-linejoin:round;stroke:rgb(0%,0%,0%);stroke-opacity:1;stroke-miterlimit:10;\" d=\"M 264.433594 136.265625 C 264.433594 139.867188 259.03125 139.867188 259.03125 136.265625 C 259.03125 132.667969 264.433594 132.667969 264.433594 136.265625 \"/>\n",
       "<path style=\"fill:none;stroke-width:0.75;stroke-linecap:round;stroke-linejoin:round;stroke:rgb(0%,0%,0%);stroke-opacity:1;stroke-miterlimit:10;\" d=\"M 216.636719 357.042969 C 216.636719 360.644531 211.238281 360.644531 211.238281 357.042969 C 211.238281 353.445312 216.636719 353.445312 216.636719 357.042969 \"/>\n",
       "<path style=\"fill:none;stroke-width:0.75;stroke-linecap:round;stroke-linejoin:round;stroke:rgb(0%,0%,0%);stroke-opacity:1;stroke-miterlimit:10;\" d=\"M 303.199219 176.257812 C 303.199219 179.855469 297.796875 179.855469 297.796875 176.257812 C 297.796875 172.65625 303.199219 172.65625 303.199219 176.257812 \"/>\n",
       "<path style=\"fill:none;stroke-width:0.75;stroke-linecap:round;stroke-linejoin:round;stroke:rgb(0%,0%,0%);stroke-opacity:1;stroke-miterlimit:10;\" d=\"M 279.566406 193.753906 C 279.566406 197.355469 274.167969 197.355469 274.167969 193.753906 C 274.167969 190.152344 279.566406 190.152344 279.566406 193.753906 \"/>\n",
       "<path style=\"fill:none;stroke-width:0.75;stroke-linecap:round;stroke-linejoin:round;stroke:rgb(0%,0%,0%);stroke-opacity:1;stroke-miterlimit:10;\" d=\"M 337.90625 258.652344 C 337.90625 262.253906 332.503906 262.253906 332.503906 258.652344 C 332.503906 255.054688 337.90625 255.054688 337.90625 258.652344 \"/>\n",
       "<path style=\"fill:none;stroke-width:0.75;stroke-linecap:round;stroke-linejoin:round;stroke:rgb(0%,0%,0%);stroke-opacity:1;stroke-miterlimit:10;\" d=\"M 323.453125 151.71875 C 323.453125 155.320312 318.050781 155.320312 318.050781 151.71875 C 318.050781 148.121094 323.453125 148.121094 323.453125 151.71875 \"/>\n",
       "<path style=\"fill:none;stroke-width:0.75;stroke-linecap:round;stroke-linejoin:round;stroke:rgb(0%,0%,0%);stroke-opacity:1;stroke-miterlimit:10;\" d=\"M 230.640625 333.574219 C 230.640625 337.175781 225.242188 337.175781 225.242188 333.574219 C 225.242188 329.976562 230.640625 329.976562 230.640625 333.574219 \"/>\n",
       "<path style=\"fill:none;stroke-width:0.75;stroke-linecap:round;stroke-linejoin:round;stroke:rgb(0%,0%,0%);stroke-opacity:1;stroke-miterlimit:10;\" d=\"M 270.519531 199.417969 C 270.519531 203.019531 265.117188 203.019531 265.117188 199.417969 C 265.117188 195.820312 270.519531 195.820312 270.519531 199.417969 \"/>\n",
       "<path style=\"fill:none;stroke-width:0.75;stroke-linecap:round;stroke-linejoin:round;stroke:rgb(0%,0%,0%);stroke-opacity:1;stroke-miterlimit:10;\" d=\"M 335.527344 361.804688 C 335.527344 365.402344 330.125 365.402344 330.125 361.804688 C 330.125 358.203125 335.527344 358.203125 335.527344 361.804688 \"/>\n",
       "<path style=\"fill:none;stroke-width:0.75;stroke-linecap:round;stroke-linejoin:round;stroke:rgb(0%,0%,0%);stroke-opacity:1;stroke-miterlimit:10;\" d=\"M 461.101562 138.429688 C 461.101562 142.03125 455.699219 142.03125 455.699219 138.429688 C 455.699219 134.832031 461.101562 134.832031 461.101562 138.429688 \"/>\n",
       "<path style=\"fill:none;stroke-width:0.75;stroke-linecap:round;stroke-linejoin:round;stroke:rgb(0%,0%,0%);stroke-opacity:1;stroke-miterlimit:10;\" d=\"M 235.910156 377.589844 C 235.910156 381.191406 230.507812 381.191406 230.507812 377.589844 C 230.507812 373.992188 235.910156 373.992188 235.910156 377.589844 \"/>\n",
       "<path style=\"fill:none;stroke-width:0.75;stroke-linecap:round;stroke-linejoin:round;stroke:rgb(0%,0%,0%);stroke-opacity:1;stroke-miterlimit:10;\" d=\"M 245.382812 189.390625 C 245.382812 192.988281 239.984375 192.988281 239.984375 189.390625 C 239.984375 185.789062 245.382812 185.789062 245.382812 189.390625 \"/>\n",
       "<path style=\"fill:none;stroke-width:0.75;stroke-linecap:round;stroke-linejoin:round;stroke:rgb(0%,0%,0%);stroke-opacity:1;stroke-miterlimit:10;\" d=\"M 333.636719 286.019531 C 333.636719 289.621094 328.234375 289.621094 328.234375 286.019531 C 328.234375 282.421875 333.636719 282.421875 333.636719 286.019531 \"/>\n",
       "<path style=\"fill:none;stroke-width:0.75;stroke-linecap:round;stroke-linejoin:round;stroke:rgb(0%,0%,0%);stroke-opacity:1;stroke-miterlimit:10;\" d=\"M 358.21875 72.800781 C 358.21875 76.398438 352.816406 76.398438 352.816406 72.800781 C 352.816406 69.199219 358.21875 69.199219 358.21875 72.800781 \"/>\n",
       "<path style=\"fill:none;stroke-width:0.75;stroke-linecap:round;stroke-linejoin:round;stroke:rgb(0%,0%,0%);stroke-opacity:1;stroke-miterlimit:10;\" d=\"M 332.226562 290.695312 C 332.226562 294.292969 326.828125 294.292969 326.828125 290.695312 C 326.828125 287.09375 332.226562 287.09375 332.226562 290.695312 \"/>\n",
       "<path style=\"fill:none;stroke-width:0.75;stroke-linecap:round;stroke-linejoin:round;stroke:rgb(0%,0%,0%);stroke-opacity:1;stroke-miterlimit:10;\" d=\"M 316.898438 164.613281 C 316.898438 168.214844 311.496094 168.214844 311.496094 164.613281 C 311.496094 161.015625 316.898438 161.015625 316.898438 164.613281 \"/>\n",
       "<path style=\"fill:none;stroke-width:0.75;stroke-linecap:round;stroke-linejoin:round;stroke:rgb(0%,0%,0%);stroke-opacity:1;stroke-miterlimit:10;\" d=\"M 320.8125 252.160156 C 320.8125 255.761719 315.414062 255.761719 315.414062 252.160156 C 315.414062 248.5625 320.8125 248.5625 320.8125 252.160156 \"/>\n",
       "<path style=\"fill:none;stroke-width:0.75;stroke-linecap:round;stroke-linejoin:round;stroke:rgb(0%,0%,0%);stroke-opacity:1;stroke-miterlimit:10;\" d=\"M 321.679688 204.113281 C 321.679688 207.710938 316.28125 207.710938 316.28125 204.113281 C 316.28125 200.511719 321.679688 200.511719 321.679688 204.113281 \"/>\n",
       "<path style=\"fill:none;stroke-width:0.75;stroke-linecap:round;stroke-linejoin:round;stroke:rgb(0%,0%,0%);stroke-opacity:1;stroke-miterlimit:10;\" d=\"M 381.574219 158.515625 C 381.574219 162.117188 376.175781 162.117188 376.175781 158.515625 C 376.175781 154.917969 381.574219 154.917969 381.574219 158.515625 \"/>\n",
       "<path style=\"fill:none;stroke-width:0.75;stroke-linecap:round;stroke-linejoin:round;stroke:rgb(0%,0%,0%);stroke-opacity:1;stroke-miterlimit:10;\" d=\"M 312.160156 266.183594 C 312.160156 269.785156 306.761719 269.785156 306.761719 266.183594 C 306.761719 262.582031 312.160156 262.582031 312.160156 266.183594 \"/>\n",
       "<path style=\"fill:none;stroke-width:0.75;stroke-linecap:round;stroke-linejoin:round;stroke:rgb(0%,0%,0%);stroke-opacity:1;stroke-miterlimit:10;\" d=\"M 253.730469 340.070312 C 253.730469 343.667969 248.332031 343.667969 248.332031 340.070312 C 248.332031 336.46875 253.730469 336.46875 253.730469 340.070312 \"/>\n",
       "<path style=\"fill:none;stroke-width:0.75;stroke-linecap:round;stroke-linejoin:round;stroke:rgb(0%,0%,0%);stroke-opacity:1;stroke-miterlimit:10;\" d=\"M 275.484375 254.484375 C 275.484375 258.085938 270.085938 258.085938 270.085938 254.484375 C 270.085938 250.886719 275.484375 250.886719 275.484375 254.484375 \"/>\n",
       "<path style=\"fill:none;stroke-width:0.75;stroke-linecap:round;stroke-linejoin:round;stroke:rgb(0%,0%,0%);stroke-opacity:1;stroke-miterlimit:10;\" d=\"M 245.339844 188.902344 C 245.339844 192.503906 239.941406 192.503906 239.941406 188.902344 C 239.941406 185.304688 245.339844 185.304688 245.339844 188.902344 \"/>\n",
       "<path style=\"fill:none;stroke-width:0.75;stroke-linecap:round;stroke-linejoin:round;stroke:rgb(0%,0%,0%);stroke-opacity:1;stroke-miterlimit:10;\" d=\"M 237.453125 199.488281 C 237.453125 203.089844 232.054688 203.089844 232.054688 199.488281 C 232.054688 195.890625 237.453125 195.890625 237.453125 199.488281 \"/>\n",
       "<path style=\"fill:none;stroke-width:0.75;stroke-linecap:round;stroke-linejoin:round;stroke:rgb(0%,0%,0%);stroke-opacity:1;stroke-miterlimit:10;\" d=\"M 319.5625 233.042969 C 319.5625 236.644531 314.164062 236.644531 314.164062 233.042969 C 314.164062 229.445312 319.5625 229.445312 319.5625 233.042969 \"/>\n",
       "<path style=\"fill:none;stroke-width:0.75;stroke-linecap:round;stroke-linejoin:round;stroke:rgb(0%,0%,0%);stroke-opacity:1;stroke-miterlimit:10;\" d=\"M 279.234375 390.089844 C 279.234375 393.691406 273.835938 393.691406 273.835938 390.089844 C 273.835938 386.488281 279.234375 386.488281 279.234375 390.089844 \"/>\n",
       "<path style=\"fill:none;stroke-width:0.75;stroke-linecap:round;stroke-linejoin:round;stroke:rgb(0%,0%,0%);stroke-opacity:1;stroke-miterlimit:10;\" d=\"M 303.296875 340.773438 C 303.296875 344.371094 297.898438 344.371094 297.898438 340.773438 C 297.898438 337.171875 303.296875 337.171875 303.296875 340.773438 \"/>\n",
       "<path style=\"fill:none;stroke-width:0.75;stroke-linecap:round;stroke-linejoin:round;stroke:rgb(0%,0%,0%);stroke-opacity:1;stroke-miterlimit:10;\" d=\"M 234.582031 259.25 C 234.582031 262.851562 229.183594 262.851562 229.183594 259.25 C 229.183594 255.648438 234.582031 255.648438 234.582031 259.25 \"/>\n",
       "<path style=\"fill:none;stroke-width:0.75;stroke-linecap:round;stroke-linejoin:round;stroke:rgb(0%,0%,0%);stroke-opacity:1;stroke-miterlimit:10;\" d=\"M 292.21875 206.808594 C 292.21875 210.410156 286.820312 210.410156 286.820312 206.808594 C 286.820312 203.207031 292.21875 203.207031 292.21875 206.808594 \"/>\n",
       "<path style=\"fill:none;stroke-width:0.75;stroke-linecap:round;stroke-linejoin:round;stroke:rgb(0%,0%,0%);stroke-opacity:1;stroke-miterlimit:10;\" d=\"M 272.273438 172.300781 C 272.273438 175.898438 266.875 175.898438 266.875 172.300781 C 266.875 168.699219 272.273438 168.699219 272.273438 172.300781 \"/>\n",
       "<path style=\"fill:none;stroke-width:0.75;stroke-linecap:round;stroke-linejoin:round;stroke:rgb(0%,0%,0%);stroke-opacity:1;stroke-miterlimit:10;\" d=\"M 284.585938 295.132812 C 284.585938 298.730469 279.183594 298.730469 279.183594 295.132812 C 279.183594 291.53125 284.585938 291.53125 284.585938 295.132812 \"/>\n",
       "<path style=\"fill:none;stroke-width:0.75;stroke-linecap:round;stroke-linejoin:round;stroke:rgb(0%,0%,0%);stroke-opacity:1;stroke-miterlimit:10;\" d=\"M 95.328125 283.652344 C 95.328125 287.25 89.929688 287.25 89.929688 283.652344 C 89.929688 280.050781 95.328125 280.050781 95.328125 283.652344 \"/>\n",
       "<path style=\"fill:none;stroke-width:0.75;stroke-linecap:round;stroke-linejoin:round;stroke:rgb(0%,0%,0%);stroke-opacity:1;stroke-miterlimit:10;\" d=\"M 152.105469 284.859375 C 152.105469 288.457031 146.703125 288.457031 146.703125 284.859375 C 146.703125 281.257812 152.105469 281.257812 152.105469 284.859375 \"/>\n",
       "<path style=\"fill:none;stroke-width:0.75;stroke-linecap:round;stroke-linejoin:round;stroke:rgb(0%,0%,0%);stroke-opacity:1;stroke-miterlimit:10;\" d=\"M 209.246094 217.105469 C 209.246094 220.703125 203.847656 220.703125 203.847656 217.105469 C 203.847656 213.503906 209.246094 213.503906 209.246094 217.105469 \"/>\n",
       "<path style=\"fill:none;stroke-width:0.75;stroke-linecap:round;stroke-linejoin:round;stroke:rgb(0%,0%,0%);stroke-opacity:1;stroke-miterlimit:10;\" d=\"M 246.304688 301.464844 C 246.304688 305.066406 240.90625 305.066406 240.90625 301.464844 C 240.90625 297.867188 246.304688 297.867188 246.304688 301.464844 \"/>\n",
       "<path style=\"fill:none;stroke-width:0.75;stroke-linecap:round;stroke-linejoin:round;stroke:rgb(0%,0%,0%);stroke-opacity:1;stroke-miterlimit:10;\" d=\"M 400.253906 176.144531 C 400.253906 179.746094 394.855469 179.746094 394.855469 176.144531 C 394.855469 172.542969 400.253906 172.542969 400.253906 176.144531 \"/>\n",
       "<path style=\"fill:none;stroke-width:0.75;stroke-linecap:round;stroke-linejoin:round;stroke:rgb(0%,0%,0%);stroke-opacity:1;stroke-miterlimit:10;\" d=\"M 326.109375 246.933594 C 326.109375 250.53125 320.707031 250.53125 320.707031 246.933594 C 320.707031 243.332031 326.109375 243.332031 326.109375 246.933594 \"/>\n",
       "<path style=\"fill:none;stroke-width:0.75;stroke-linecap:round;stroke-linejoin:round;stroke:rgb(0%,0%,0%);stroke-opacity:1;stroke-miterlimit:10;\" d=\"M 326.773438 317.769531 C 326.773438 321.371094 321.375 321.371094 321.375 317.769531 C 321.375 314.171875 326.773438 314.171875 326.773438 317.769531 \"/>\n",
       "<path style=\"fill:none;stroke-width:0.75;stroke-linecap:round;stroke-linejoin:round;stroke:rgb(0%,0%,0%);stroke-opacity:1;stroke-miterlimit:10;\" d=\"M 237.757812 225.136719 C 237.757812 228.734375 232.359375 228.734375 232.359375 225.136719 C 232.359375 221.535156 237.757812 221.535156 237.757812 225.136719 \"/>\n",
       "<path style=\"fill:none;stroke-width:0.75;stroke-linecap:round;stroke-linejoin:round;stroke:rgb(0%,0%,0%);stroke-opacity:1;stroke-miterlimit:10;\" d=\"M 159.300781 409.902344 C 159.300781 413.503906 153.898438 413.503906 153.898438 409.902344 C 153.898438 406.304688 159.300781 406.304688 159.300781 409.902344 \"/>\n",
       "<path style=\"fill:none;stroke-width:0.75;stroke-linecap:round;stroke-linejoin:round;stroke:rgb(0%,0%,0%);stroke-opacity:1;stroke-miterlimit:10;\" d=\"M 387.324219 161.539062 C 387.324219 165.140625 381.921875 165.140625 381.921875 161.539062 C 381.921875 157.941406 387.324219 157.941406 387.324219 161.539062 \"/>\n",
       "<path style=\"fill:none;stroke-width:0.75;stroke-linecap:round;stroke-linejoin:round;stroke:rgb(0%,0%,0%);stroke-opacity:1;stroke-miterlimit:10;\" d=\"M 222.09375 109.039062 C 222.09375 112.636719 216.695312 112.636719 216.695312 109.039062 C 216.695312 105.4375 222.09375 105.4375 222.09375 109.039062 \"/>\n",
       "<path style=\"fill:none;stroke-width:0.75;stroke-linecap:round;stroke-linejoin:round;stroke:rgb(0%,0%,0%);stroke-opacity:1;stroke-miterlimit:10;\" d=\"M 112.320312 430.558594 L 471.910156 430.558594 \"/>\n",
       "<path style=\"fill:none;stroke-width:0.75;stroke-linecap:round;stroke-linejoin:round;stroke:rgb(0%,0%,0%);stroke-opacity:1;stroke-miterlimit:10;\" d=\"M 112.320312 430.558594 L 112.320312 437.761719 \"/>\n",
       "<path style=\"fill:none;stroke-width:0.75;stroke-linecap:round;stroke-linejoin:round;stroke:rgb(0%,0%,0%);stroke-opacity:1;stroke-miterlimit:10;\" d=\"M 184.238281 430.558594 L 184.238281 437.761719 \"/>\n",
       "<path style=\"fill:none;stroke-width:0.75;stroke-linecap:round;stroke-linejoin:round;stroke:rgb(0%,0%,0%);stroke-opacity:1;stroke-miterlimit:10;\" d=\"M 256.15625 430.558594 L 256.15625 437.761719 \"/>\n",
       "<path style=\"fill:none;stroke-width:0.75;stroke-linecap:round;stroke-linejoin:round;stroke:rgb(0%,0%,0%);stroke-opacity:1;stroke-miterlimit:10;\" d=\"M 328.074219 430.558594 L 328.074219 437.761719 \"/>\n",
       "<path style=\"fill:none;stroke-width:0.75;stroke-linecap:round;stroke-linejoin:round;stroke:rgb(0%,0%,0%);stroke-opacity:1;stroke-miterlimit:10;\" d=\"M 399.992188 430.558594 L 399.992188 437.761719 \"/>\n",
       "<path style=\"fill:none;stroke-width:0.75;stroke-linecap:round;stroke-linejoin:round;stroke:rgb(0%,0%,0%);stroke-opacity:1;stroke-miterlimit:10;\" d=\"M 471.910156 430.558594 L 471.910156 437.761719 \"/>\n",
       "<g style=\"fill:rgb(0%,0%,0%);fill-opacity:1;\">\n",
       "  <use xlink:href=\"#glyph0-1\" x=\"108.820312\" y=\"456.256836\"/>\n",
       "</g>\n",
       "<g style=\"fill:rgb(0%,0%,0%);fill-opacity:1;\">\n",
       "  <use xlink:href=\"#glyph0-2\" x=\"180.738281\" y=\"456.256836\"/>\n",
       "</g>\n",
       "<g style=\"fill:rgb(0%,0%,0%);fill-opacity:1;\">\n",
       "  <use xlink:href=\"#glyph0-3\" x=\"252.65625\" y=\"456.256836\"/>\n",
       "</g>\n",
       "<g style=\"fill:rgb(0%,0%,0%);fill-opacity:1;\">\n",
       "  <use xlink:href=\"#glyph0-4\" x=\"324.574219\" y=\"456.256836\"/>\n",
       "</g>\n",
       "<g style=\"fill:rgb(0%,0%,0%);fill-opacity:1;\">\n",
       "  <use xlink:href=\"#glyph0-5\" x=\"396.492188\" y=\"456.256836\"/>\n",
       "</g>\n",
       "<g style=\"fill:rgb(0%,0%,0%);fill-opacity:1;\">\n",
       "  <use xlink:href=\"#glyph0-6\" x=\"468.410156\" y=\"456.256836\"/>\n",
       "</g>\n",
       "<path style=\"fill:none;stroke-width:0.75;stroke-linecap:round;stroke-linejoin:round;stroke:rgb(0%,0%,0%);stroke-opacity:1;stroke-miterlimit:10;\" d=\"M 59.039062 423.753906 L 59.039062 78.332031 \"/>\n",
       "<path style=\"fill:none;stroke-width:0.75;stroke-linecap:round;stroke-linejoin:round;stroke:rgb(0%,0%,0%);stroke-opacity:1;stroke-miterlimit:10;\" d=\"M 59.039062 423.753906 L 51.839844 423.753906 \"/>\n",
       "<path style=\"fill:none;stroke-width:0.75;stroke-linecap:round;stroke-linejoin:round;stroke:rgb(0%,0%,0%);stroke-opacity:1;stroke-miterlimit:10;\" d=\"M 59.039062 337.398438 L 51.839844 337.398438 \"/>\n",
       "<path style=\"fill:none;stroke-width:0.75;stroke-linecap:round;stroke-linejoin:round;stroke:rgb(0%,0%,0%);stroke-opacity:1;stroke-miterlimit:10;\" d=\"M 59.039062 251.042969 L 51.839844 251.042969 \"/>\n",
       "<path style=\"fill:none;stroke-width:0.75;stroke-linecap:round;stroke-linejoin:round;stroke:rgb(0%,0%,0%);stroke-opacity:1;stroke-miterlimit:10;\" d=\"M 59.039062 164.6875 L 51.839844 164.6875 \"/>\n",
       "<path style=\"fill:none;stroke-width:0.75;stroke-linecap:round;stroke-linejoin:round;stroke:rgb(0%,0%,0%);stroke-opacity:1;stroke-miterlimit:10;\" d=\"M 59.039062 78.332031 L 51.839844 78.332031 \"/>\n",
       "<g style=\"fill:rgb(0%,0%,0%);fill-opacity:1;\">\n",
       "  <use xlink:href=\"#glyph1-1\" x=\"41.538086\" y=\"429.253906\"/>\n",
       "  <use xlink:href=\"#glyph1-2\" x=\"41.538086\" y=\"425.257812\"/>\n",
       "</g>\n",
       "<g style=\"fill:rgb(0%,0%,0%);fill-opacity:1;\">\n",
       "  <use xlink:href=\"#glyph1-3\" x=\"41.538086\" y=\"340.898438\"/>\n",
       "</g>\n",
       "<g style=\"fill:rgb(0%,0%,0%);fill-opacity:1;\">\n",
       "  <use xlink:href=\"#glyph1-2\" x=\"41.538086\" y=\"254.542969\"/>\n",
       "</g>\n",
       "<g style=\"fill:rgb(0%,0%,0%);fill-opacity:1;\">\n",
       "  <use xlink:href=\"#glyph1-4\" x=\"41.538086\" y=\"168.1875\"/>\n",
       "</g>\n",
       "<g style=\"fill:rgb(0%,0%,0%);fill-opacity:1;\">\n",
       "  <use xlink:href=\"#glyph1-5\" x=\"41.538086\" y=\"81.832031\"/>\n",
       "</g>\n",
       "<path style=\"fill:none;stroke-width:0.75;stroke-linecap:round;stroke-linejoin:round;stroke:rgb(0%,0%,0%);stroke-opacity:1;stroke-miterlimit:10;\" d=\"M 59.039062 430.558594 L 473.761719 430.558594 L 473.761719 59.039062 L 59.039062 59.039062 L 59.039062 430.558594 \"/>\n",
       "<g style=\"fill:rgb(0%,0%,0%);fill-opacity:1;\">\n",
       "  <use xlink:href=\"#glyph0-7\" x=\"249.398438\" y=\"485.057617\"/>\n",
       "  <use xlink:href=\"#glyph0-8\" x=\"256.070312\" y=\"485.057617\"/>\n",
       "  <use xlink:href=\"#glyph0-9\" x=\"262.742188\" y=\"485.057617\"/>\n",
       "  <use xlink:href=\"#glyph0-10\" x=\"266.078125\" y=\"485.057617\"/>\n",
       "  <use xlink:href=\"#glyph0-11\" x=\"269.414062\" y=\"485.057617\"/>\n",
       "  <use xlink:href=\"#glyph0-2\" x=\"272.75\" y=\"485.057617\"/>\n",
       "  <use xlink:href=\"#glyph0-12\" x=\"279.421875\" y=\"485.057617\"/>\n",
       "</g>\n",
       "<g style=\"fill:rgb(0%,0%,0%);fill-opacity:1;\">\n",
       "  <use xlink:href=\"#glyph1-6\" x=\"12.737305\" y=\"261.800781\"/>\n",
       "  <use xlink:href=\"#glyph1-7\" x=\"12.737305\" y=\"255.128906\"/>\n",
       "  <use xlink:href=\"#glyph1-8\" x=\"12.737305\" y=\"248.457031\"/>\n",
       "  <use xlink:href=\"#glyph1-9\" x=\"12.737305\" y=\"245.121094\"/>\n",
       "  <use xlink:href=\"#glyph1-10\" x=\"12.737305\" y=\"241.785156\"/>\n",
       "  <use xlink:href=\"#glyph1-4\" x=\"12.737305\" y=\"238.449219\"/>\n",
       "  <use xlink:href=\"#glyph1-11\" x=\"12.737305\" y=\"231.777344\"/>\n",
       "</g>\n",
       "<g clip-path=\"url(#clip1)\" clip-rule=\"nonzero\">\n",
       "<path style=\"fill:none;stroke-width:0.75;stroke-linecap:round;stroke-linejoin:round;stroke:rgb(100%,0%,0%);stroke-opacity:1;stroke-miterlimit:10;\" d=\"M 59.039062 358.347656 L 473.761719 136.160156 \"/>\n",
       "</g>\n",
       "</g>\n",
       "</svg>\n"
      ],
      "text/plain": [
       "plot without title"
      ]
     },
     "metadata": {
      "image/svg+xml": {
       "isolated": true
      }
     },
     "output_type": "display_data"
    }
   ],
   "source": [
    "plot(out)\n",
    "abline(lm(out[,2]~out[,1]), col=\"red\") # regression line (y~x) "
   ]
  },
  {
   "cell_type": "markdown",
   "metadata": {},
   "source": [
    "Our goal is to generate this line ourselves. The line added to this plot is a linear regression line and R fits it using a statistical model. For now, we are not going to use a statistical model, but a geometric one."
   ]
  },
  {
   "cell_type": "markdown",
   "metadata": {},
   "source": [
    "The geometric argument goes as follows: we have data of the form $\\{(x_i, y_i)\\}_{i=1}^N$. We would like to find the value of $\\beta$ such that our data satisfy $y_i \\approx b x_i$ in some optimal sense.\n",
    "\n",
    "We can write in matrix form our optimal approximation as $\\hat{y} = X \\beta$. This optimal approximation will be the point in the **columns space** of $X$ which is closest to the true value $y$. The difference between the approximation and the true value will be orthogonal to the columns of $X$. Using this we can write out the least square solution in the following way:\n",
    "$$\n",
    "X^T(y - \\hat{y}) = 0\n",
    "$$\n",
    "by orthogonality, and thus\n",
    "$$\n",
    "X^T(y - X\\beta) = 0\n",
    "$$\n",
    "Then the value of $\\beta$ that gives the optimal approximation is the solution to the linear set of equations\n",
    "$$\n",
    "X^Ty = X^TX\\beta\n",
    "$$\n",
    "or is given by the explicit formula\n",
    "$$\n",
    "\\beta = (X^T X)^{-1}X^Ty\n",
    "$$\n",
    "If you are familiar with this topic, you'll notice that the prediction acquired by left multiplying $\\beta$ by $X$ gives the projection of $y$ into the column space of $X$:\n",
    "$$\n",
    "\\begin{align*}\n",
    "\\hat{y} &= X \\beta\\\\\n",
    "    &= X(X^T X)^{-1}X^Ty\\\\\n",
    "    &= P_Xy\n",
    "\\end{align*}\n",
    "$$\n",
    "Later in the course we'll solve this problem using optimization and you will see that the solution is identical."
   ]
  },
  {
   "cell_type": "markdown",
   "metadata": {},
   "source": [
    "## Vectors in R and Interpreters\n",
    "One of the main reasons we **need** to use vectors in R is speed. The built in functions in R and the linear algebra commands will always be faster than any code you can write in native R, as we've already seen. But, why is this so?\n",
    "\n",
    "R can be referred to as an **interpreted language**, similar to Python. This is in contrast to languages like C++ which is **compiled** and Julia which is **just-in-time compiled**. This has two main effects, one good and one bad:\n",
    "\n",
    "1. **An interpreted language is easy to use.** As you know, running R code is really easy. You just press `enter`. When you want to run compiled code, you have to first run the code through a compiler to generate an executable. Only then can you execute the code.\n",
    "\n",
    "    This makes interpreted languages incredibly approachable and easy to learn. There is no more struggling with the compiler and creating make files, etc. It's for this reason that MIT recently shifted all of their introduction to programming courses to Python, an interpreted language.\n",
    "\n",
    "2. **An interpreted language is comparatively slow.** One of the important elements of programming efficiency is function calls. Calling a a single funciton to calculate $1000$ multiplications is much faster than calling $1000$ functions to multiply $2$ numbers each.\n",
    "\n",
    "    Interpreted languages have the drawback of needing to call the interpreter. The more often you need to call the interpreter, the slower your program will be. Although at this point you will most likely not notice these issues, you **will** some day write code that takes at least 24 hours to run. Then you will notice.\n",
    "    \n",
    "Ok, why are we talking about this under the heading of \"vectors\"? A vector is a list of values, **all of the same type**. Because of this, when R encounters a vector it only needs to check one entry to know if the vector is numeric, character, or logical. This isn't a problem for $10$ numbers, but what about $1,000,000$? The difference in the number of calls to the interpreter is $10^6$ times!\n",
    "\n",
    "This is why vectors will work faster than loops. In fact, **everything in R is a vector!** Muahahah! You didn't even need to know any of this! But why does linear algebra work faster? Ah, now we're getting somewhere...\n",
    "\n",
    "R uses what is called a **BLAS - basic linear algebra systems**. This is a library of **pre-compiled C code** which R calls in order to carry out linear algebra operations. So if you are running a sum as a loop, you are getting native R speeds, while if you re-express it as linear algebra, you get **C speed**. That is very, very fast."
   ]
  },
  {
   "cell_type": "markdown",
   "metadata": {},
   "source": [
    "Let's see an example of this at work. We'll calculate a sum using a `for` loop, using the built in `sum()` command, and using a dot product $\\left(\\sum x_i = x^T 1 \\right)$:"
   ]
  },
  {
   "cell_type": "code",
   "execution_count": 4,
   "metadata": {
    "collapsed": false
   },
   "outputs": [
    {
     "data": {
      "text/plain": [
       "   user  system elapsed \n",
       "      0       0       0 "
      ]
     },
     "metadata": {},
     "output_type": "display_data"
    },
    {
     "data": {
      "text/plain": [
       "   user  system elapsed \n",
       "      0       0       0 "
      ]
     },
     "metadata": {},
     "output_type": "display_data"
    },
    {
     "data": {
      "text/plain": [
       "   user  system elapsed \n",
       "      0       0       0 "
      ]
     },
     "metadata": {},
     "output_type": "display_data"
    }
   ],
   "source": [
    "# A loop sum function\n",
    "loop_sum <- function(x){\n",
    "    sum <- 0\n",
    "    for(i in 1:length(x)){\n",
    "        sum <- sum + x[i]\n",
    "    }\n",
    "    return(sum)\n",
    "}\n",
    "x <- rep(1, 1e1)\n",
    "\n",
    "system.time(loop_sum(x))\n",
    "system.time(sum(x))\n",
    "system.time(rep(1,length(x))%*%x)"
   ]
  },
  {
   "cell_type": "markdown",
   "metadata": {},
   "source": [
    "Here we've had our first encounter with the syntax of linear \n",
    "algebra. `%*%` is the operator for matrix product. **In R a vector is neither a column nor a row, so the matrix product of two vectors is always considered to be the dot product.**\n",
    "\n",
    "You'll notice that the dot product takes longer than the native sum. This might be caused by generating the vector of ones. Let's look:"
   ]
  },
  {
   "cell_type": "code",
   "execution_count": 14,
   "metadata": {
    "collapsed": false
   },
   "outputs": [
    {
     "data": {
      "text/plain": [
       "   user  system elapsed \n",
       "   0.04    0.00    0.04 "
      ]
     },
     "metadata": {},
     "output_type": "display_data"
    },
    {
     "data": {
      "text/plain": [
       "   user  system elapsed \n",
       "  0.116   0.000   0.117 "
      ]
     },
     "metadata": {},
     "output_type": "display_data"
    }
   ],
   "source": [
    "x <- rep(1, 10000000)\n",
    "\n",
    "system.time(sum(x))\n",
    "system.time(x%*%x)"
   ]
  },
  {
   "cell_type": "markdown",
   "metadata": {},
   "source": [
    "Nope, it's still slower! Why? The dot product is carrying out both an elementwise multiplication and a summation. It will necessarily be slower because it is doing more computations."
   ]
  },
  {
   "cell_type": "markdown",
   "metadata": {},
   "source": [
    "## Vector Classes\n",
    "\n",
    "Now that we understand why vectors are useful (and why everything in R is a vector), we should consider what type of vectors we could have. These are called **classes**. The class of a vector defines the type of data within. Let's take a look at the five basic vector classes:"
   ]
  },
  {
   "cell_type": "code",
   "execution_count": 21,
   "metadata": {
    "collapsed": false
   },
   "outputs": [
    {
     "data": {
      "text/html": [
       "'numeric'"
      ],
      "text/latex": [
       "'numeric'"
      ],
      "text/markdown": [
       "'numeric'"
      ],
      "text/plain": [
       "[1] \"numeric\""
      ]
     },
     "metadata": {},
     "output_type": "display_data"
    },
    {
     "data": {
      "text/html": [
       "'logical'"
      ],
      "text/latex": [
       "'logical'"
      ],
      "text/markdown": [
       "'logical'"
      ],
      "text/plain": [
       "[1] \"logical\""
      ]
     },
     "metadata": {},
     "output_type": "display_data"
    },
    {
     "data": {
      "text/html": [
       "'character'"
      ],
      "text/latex": [
       "'character'"
      ],
      "text/markdown": [
       "'character'"
      ],
      "text/plain": [
       "[1] \"character\""
      ]
     },
     "metadata": {},
     "output_type": "display_data"
    },
    {
     "data": {
      "text/html": [
       "'complex'"
      ],
      "text/latex": [
       "'complex'"
      ],
      "text/markdown": [
       "'complex'"
      ],
      "text/plain": [
       "[1] \"complex\""
      ]
     },
     "metadata": {},
     "output_type": "display_data"
    },
    {
     "data": {
      "text/html": [
       "'integer'"
      ],
      "text/latex": [
       "'integer'"
      ],
      "text/markdown": [
       "'integer'"
      ],
      "text/plain": [
       "[1] \"integer\""
      ]
     },
     "metadata": {},
     "output_type": "display_data"
    }
   ],
   "source": [
    "class(c(1, 2))\n",
    "class(c(TRUE, FALSE))\n",
    "class(c('Im', 'a vector'))\n",
    "class(c(1 + 1i, 2 + 1i))\n",
    "class(as.integer(c(1, 2)))"
   ]
  },
  {
   "cell_type": "markdown",
   "metadata": {},
   "source": [
    "There are also `raw` and `list` classes, but we will not use these in this course.\n",
    "\n",
    "The class of a vector is important, because you cannot create a vector containing multiple data types:"
   ]
  },
  {
   "cell_type": "code",
   "execution_count": 23,
   "metadata": {
    "collapsed": false
   },
   "outputs": [
    {
     "data": {
      "text/html": [
       "'character'"
      ],
      "text/latex": [
       "'character'"
      ],
      "text/markdown": [
       "'character'"
      ],
      "text/plain": [
       "[1] \"character\""
      ]
     },
     "metadata": {},
     "output_type": "display_data"
    }
   ],
   "source": [
    "class(c(1, '2'))"
   ]
  },
  {
   "cell_type": "markdown",
   "metadata": {},
   "source": [
    "This is closely related to the interpreter we discussed and the fact that R would like to be sure that all entries in a vector are same type."
   ]
  },
  {
   "cell_type": "markdown",
   "metadata": {},
   "source": [
    "## Indexing Issues\n",
    "Now that we are really thinking about vectors, we should consider how indexing works in R. This is different in every language and can often cause unforseen difficulties and hidden issues should you make a mistake.\n",
    "\n",
    "Let's look at an example vector:"
   ]
  },
  {
   "cell_type": "code",
   "execution_count": 25,
   "metadata": {
    "collapsed": false
   },
   "outputs": [
    {
     "data": {
      "text/html": [
       "<ol class=list-inline>\n",
       "\t<li>1</li>\n",
       "\t<li>2</li>\n",
       "\t<li>3</li>\n",
       "\t<li>4</li>\n",
       "\t<li>5</li>\n",
       "\t<li>6</li>\n",
       "\t<li>7</li>\n",
       "\t<li>8</li>\n",
       "\t<li>9</li>\n",
       "\t<li>10</li>\n",
       "</ol>\n"
      ],
      "text/latex": [
       "\\begin{enumerate*}\n",
       "\\item 1\n",
       "\\item 2\n",
       "\\item 3\n",
       "\\item 4\n",
       "\\item 5\n",
       "\\item 6\n",
       "\\item 7\n",
       "\\item 8\n",
       "\\item 9\n",
       "\\item 10\n",
       "\\end{enumerate*}\n"
      ],
      "text/markdown": [
       "1. 1\n",
       "2. 2\n",
       "3. 3\n",
       "4. 4\n",
       "5. 5\n",
       "6. 6\n",
       "7. 7\n",
       "8. 8\n",
       "9. 9\n",
       "10. 10\n",
       "\n",
       "\n"
      ],
      "text/plain": [
       " [1]  1  2  3  4  5  6  7  8  9 10"
      ]
     },
     "metadata": {},
     "output_type": "display_data"
    }
   ],
   "source": [
    "x <- c(1:10)\n",
    "x"
   ]
  },
  {
   "cell_type": "markdown",
   "metadata": {},
   "source": [
    "If we would like to retrieve an item from within `x`, we reference it based on its **index**. In R, indexes start at `1` (as opposed to Python where they start at `0`):"
   ]
  },
  {
   "cell_type": "code",
   "execution_count": 27,
   "metadata": {
    "collapsed": false
   },
   "outputs": [
    {
     "data": {
      "text/html": [
       "1"
      ],
      "text/latex": [
       "1"
      ],
      "text/markdown": [
       "1"
      ],
      "text/plain": [
       "[1] 1"
      ]
     },
     "metadata": {},
     "output_type": "display_data"
    },
    {
     "data": {
      "text/html": [
       "10"
      ],
      "text/latex": [
       "10"
      ],
      "text/markdown": [
       "10"
      ],
      "text/plain": [
       "[1] 10"
      ]
     },
     "metadata": {},
     "output_type": "display_data"
    }
   ],
   "source": [
    "x[1]\n",
    "x[10]"
   ]
  },
  {
   "cell_type": "markdown",
   "metadata": {},
   "source": [
    "We can also take a **slice** from the vector, which means to reference only a subset based on the index:"
   ]
  },
  {
   "cell_type": "code",
   "execution_count": 28,
   "metadata": {
    "collapsed": false
   },
   "outputs": [
    {
     "data": {
      "text/html": [
       "<ol class=list-inline>\n",
       "\t<li>1</li>\n",
       "\t<li>2</li>\n",
       "</ol>\n"
      ],
      "text/latex": [
       "\\begin{enumerate*}\n",
       "\\item 1\n",
       "\\item 2\n",
       "\\end{enumerate*}\n"
      ],
      "text/markdown": [
       "1. 1\n",
       "2. 2\n",
       "\n",
       "\n"
      ],
      "text/plain": [
       "[1] 1 2"
      ]
     },
     "metadata": {},
     "output_type": "display_data"
    }
   ],
   "source": [
    "x[1:2]"
   ]
  },
  {
   "cell_type": "markdown",
   "metadata": {},
   "source": [
    "Notice that the slice notation is **inclusive**, so slicing `1:100` would give you the `1` entry, the `100` entry, and everything in between.\n",
    "\n",
    "What about for matrices?"
   ]
  },
  {
   "cell_type": "code",
   "execution_count": 31,
   "metadata": {
    "collapsed": false
   },
   "outputs": [
    {
     "data": {
      "text/html": [
       "<table>\n",
       "<tbody>\n",
       "\t<tr><td>1</td><td>3</td></tr>\n",
       "\t<tr><td>2</td><td>4</td></tr>\n",
       "</tbody>\n",
       "</table>\n"
      ],
      "text/latex": [
       "\\begin{tabular}{ll}\n",
       "\t 1 & 3\\\\\n",
       "\t 2 & 4\\\\\n",
       "\\end{tabular}\n"
      ],
      "text/markdown": [
       "1. 1\n",
       "2. 2\n",
       "3. 3\n",
       "4. 4\n",
       "\n",
       "\n"
      ],
      "text/plain": [
       "     [,1] [,2]\n",
       "[1,]    1    3\n",
       "[2,]    2    4"
      ]
     },
     "metadata": {},
     "output_type": "display_data"
    }
   ],
   "source": [
    "X <- matrix(c(1, 2, 3, 4), nrow=2)\n",
    "X"
   ]
  },
  {
   "cell_type": "markdown",
   "metadata": {},
   "source": [
    "Notice how the items in the original vector were placed in the matrix. The `matrix` function generates a matrix from a vector using **Fortran Indexing**, which is to say the first index moves fastest. If you write the indices of the matrix as $(i, j)$, R will first fix $j=1$ and allow $i$ to change. Once all the rows are filled it will advance $j$ by $1$ and repeat. In pseudo code this looks like\n",
    "\n",
    "~~~\n",
    "vector_index = 1\n",
    "for j in 1...J\n",
    "    for i in 1...I\n",
    "        matrix(i, j) = vector(vector_index)\n",
    "        vector_index = vector_index + 1\n",
    "~~~\n",
    "\n",
    "This is opposed to **C Indexing**, which allows the last index to change fastest, giving the following pseudo code:\n",
    "\n",
    "\n",
    "~~~\n",
    "vector_index = 1\n",
    "for i in 1...I\n",
    "    for j in 1...J\n",
    "        matrix(i, j) = vector(vector_index)\n",
    "        vector_index = vector_index + 1\n",
    "~~~\n",
    "\n",
    "The difference is subtle, but the result is a transpose of the other matrix. Keep this in mind when you are creating matrices."
   ]
  },
  {
   "cell_type": "markdown",
   "metadata": {},
   "source": [
    "Once you have a matrix created you can reference it as you would a vector:"
   ]
  },
  {
   "cell_type": "code",
   "execution_count": 35,
   "metadata": {
    "collapsed": false
   },
   "outputs": [
    {
     "data": {
      "text/html": [
       "1"
      ],
      "text/latex": [
       "1"
      ],
      "text/markdown": [
       "1"
      ],
      "text/plain": [
       "[1] 1"
      ]
     },
     "metadata": {},
     "output_type": "display_data"
    },
    {
     "data": {
      "text/html": [
       "<ol class=list-inline>\n",
       "\t<li>1</li>\n",
       "\t<li>3</li>\n",
       "</ol>\n"
      ],
      "text/latex": [
       "\\begin{enumerate*}\n",
       "\\item 1\n",
       "\\item 3\n",
       "\\end{enumerate*}\n"
      ],
      "text/markdown": [
       "1. 1\n",
       "2. 3\n",
       "\n",
       "\n"
      ],
      "text/plain": [
       "[1] 1 3"
      ]
     },
     "metadata": {},
     "output_type": "display_data"
    },
    {
     "data": {
      "text/html": [
       "<ol class=list-inline>\n",
       "\t<li>1</li>\n",
       "\t<li>2</li>\n",
       "</ol>\n"
      ],
      "text/latex": [
       "\\begin{enumerate*}\n",
       "\\item 1\n",
       "\\item 2\n",
       "\\end{enumerate*}\n"
      ],
      "text/markdown": [
       "1. 1\n",
       "2. 2\n",
       "\n",
       "\n"
      ],
      "text/plain": [
       "[1] 1 2"
      ]
     },
     "metadata": {},
     "output_type": "display_data"
    }
   ],
   "source": [
    "X[1, 1]\n",
    "X[1, 1:2]\n",
    "X[1:2, 1]"
   ]
  },
  {
   "cell_type": "markdown",
   "metadata": {},
   "source": [
    "There is also a shorthand to select an entire column or row:"
   ]
  },
  {
   "cell_type": "code",
   "execution_count": 37,
   "metadata": {
    "collapsed": false
   },
   "outputs": [
    {
     "data": {
      "text/html": [
       "<ol class=list-inline>\n",
       "\t<li>1</li>\n",
       "\t<li>3</li>\n",
       "</ol>\n"
      ],
      "text/latex": [
       "\\begin{enumerate*}\n",
       "\\item 1\n",
       "\\item 3\n",
       "\\end{enumerate*}\n"
      ],
      "text/markdown": [
       "1. 1\n",
       "2. 3\n",
       "\n",
       "\n"
      ],
      "text/plain": [
       "[1] 1 3"
      ]
     },
     "metadata": {},
     "output_type": "display_data"
    },
    {
     "data": {
      "text/html": [
       "<ol class=list-inline>\n",
       "\t<li>1</li>\n",
       "\t<li>2</li>\n",
       "</ol>\n"
      ],
      "text/latex": [
       "\\begin{enumerate*}\n",
       "\\item 1\n",
       "\\item 2\n",
       "\\end{enumerate*}\n"
      ],
      "text/markdown": [
       "1. 1\n",
       "2. 2\n",
       "\n",
       "\n"
      ],
      "text/plain": [
       "[1] 1 2"
      ]
     },
     "metadata": {},
     "output_type": "display_data"
    }
   ],
   "source": [
    "X[1,]\n",
    "X[, 1]"
   ]
  },
  {
   "cell_type": "markdown",
   "metadata": {},
   "source": [
    "## Solving The Least Squares Problem\n",
    "So now we've gone over the nitty-gritty, let's go back to our example problem. Recall our data set and the value we want to calculate: $\\beta = (X^TX)^{-1}X^Ty$. This will be a chance to learn some linear algebra commands, a [cheat sheet for which can be found here](http://www.statmethods.net/advstats/matrix.html).\n",
    "\n",
    "Let's give it a whirl:"
   ]
  },
  {
   "cell_type": "code",
   "execution_count": 54,
   "metadata": {
    "collapsed": false,
    "scrolled": true
   },
   "outputs": [
    {
     "data": {
      "text/html": [
       "<table>\n",
       "<tbody>\n",
       "\t<tr><td>0.481088</td></tr>\n",
       "</tbody>\n",
       "</table>\n"
      ],
      "text/latex": [
       "\\begin{tabular}{l}\n",
       "\t 0.481088\\\\\n",
       "\\end{tabular}\n"
      ],
      "text/markdown": [
       "0.481088031676604"
      ],
      "text/plain": [
       "         [,1]\n",
       "[1,] 0.481088"
      ]
     },
     "metadata": {},
     "output_type": "display_data"
    },
    {
     "data": {
      "image/png": "[encoded data removed]",
      "image/svg+xml": [
       "<?xml version=\"1.0\" encoding=\"UTF-8\"?>\n",
       "<svg xmlns=\"http://www.w3.org/2000/svg\" xmlns:xlink=\"http://www.w3.org/1999/xlink\" width=\"504pt\" height=\"504pt\" viewBox=\"0 0 504 504\" version=\"1.1\">\n",
       "<defs>\n",
       "<g>\n",
       "<symbol overflow=\"visible\" id=\"glyph0-0\">\n",
       "<path style=\"stroke:none;\" d=\"\"/>\n",
       "</symbol>\n",
       "<symbol overflow=\"visible\" id=\"glyph0-1\">\n",
       "<path style=\"stroke:none;\" d=\"M 6.078125 -4.09375 C 6.078125 -7.046875 5.140625 -8.515625 3.296875 -8.515625 C 1.46875 -8.515625 0.515625 -7.015625 0.515625 -4.15625 C 0.515625 -1.296875 1.46875 0.1875 3.296875 0.1875 C 5.09375 0.1875 6.078125 -1.296875 6.078125 -4.09375 Z M 5 -4.1875 C 5 -1.78125 4.453125 -0.703125 3.28125 -0.703125 C 2.15625 -0.703125 1.59375 -1.828125 1.59375 -4.15625 C 1.59375 -6.484375 2.15625 -7.578125 3.296875 -7.578125 C 4.4375 -7.578125 5 -6.46875 5 -4.1875 Z \"/>\n",
       "</symbol>\n",
       "<symbol overflow=\"visible\" id=\"glyph0-2\">\n",
       "<path style=\"stroke:none;\" d=\"M 4.15625 0 L 4.15625 -8.515625 L 3.46875 -8.515625 C 3.09375 -7.203125 2.859375 -7.015625 1.21875 -6.8125 L 1.21875 -6.0625 L 3.109375 -6.0625 L 3.109375 0 Z \"/>\n",
       "</symbol>\n",
       "<symbol overflow=\"visible\" id=\"glyph0-3\">\n",
       "<path style=\"stroke:none;\" d=\"M 6.125 -6.015625 C 6.125 -7.453125 5.015625 -8.515625 3.40625 -8.515625 C 1.671875 -8.515625 0.65625 -7.625 0.59375 -5.5625 L 1.65625 -5.5625 C 1.734375 -6.984375 2.328125 -7.578125 3.375 -7.578125 C 4.328125 -7.578125 5.046875 -6.90625 5.046875 -5.984375 C 5.046875 -5.3125 4.65625 -4.734375 3.90625 -4.3125 L 2.796875 -3.6875 C 1.015625 -2.671875 0.5 -1.875 0.40625 0 L 6.078125 0 L 6.078125 -1.046875 L 1.59375 -1.046875 C 1.703125 -1.734375 2.09375 -2.1875 3.125 -2.796875 L 4.328125 -3.4375 C 5.515625 -4.078125 6.125 -4.96875 6.125 -6.015625 Z \"/>\n",
       "</symbol>\n",
       "<symbol overflow=\"visible\" id=\"glyph0-4\">\n",
       "<path style=\"stroke:none;\" d=\"M 6.078125 -2.46875 C 6.078125 -3.5 5.65625 -4.109375 4.625 -4.453125 C 5.421875 -4.765625 5.8125 -5.3125 5.8125 -6.171875 C 5.8125 -7.625 4.84375 -8.515625 3.234375 -8.515625 C 1.515625 -8.515625 0.59375 -7.578125 0.5625 -5.765625 L 1.625 -5.765625 C 1.640625 -7.015625 2.15625 -7.578125 3.234375 -7.578125 C 4.171875 -7.578125 4.734375 -7.03125 4.734375 -6.125 C 4.734375 -5.21875 4.34375 -4.84375 2.65625 -4.84375 L 2.65625 -3.953125 L 3.234375 -3.953125 C 4.390625 -3.953125 4.984375 -3.40625 4.984375 -2.453125 C 4.984375 -1.390625 4.328125 -0.75 3.234375 -0.75 C 2.078125 -0.75 1.515625 -1.328125 1.4375 -2.5625 L 0.390625 -2.5625 C 0.515625 -0.671875 1.453125 0.1875 3.1875 0.1875 C 4.9375 0.1875 6.078125 -0.859375 6.078125 -2.46875 Z \"/>\n",
       "</symbol>\n",
       "<symbol overflow=\"visible\" id=\"glyph0-5\">\n",
       "<path style=\"stroke:none;\" d=\"M 6.234375 -2.046875 L 6.234375 -2.984375 L 4.984375 -2.984375 L 4.984375 -8.515625 L 4.203125 -8.515625 L 0.34375 -3.15625 L 0.34375 -2.046875 L 3.921875 -2.046875 L 3.921875 0 L 4.984375 0 L 4.984375 -2.046875 Z M 3.921875 -2.984375 L 1.265625 -2.984375 L 3.921875 -6.703125 Z \"/>\n",
       "</symbol>\n",
       "<symbol overflow=\"visible\" id=\"glyph0-6\">\n",
       "<path style=\"stroke:none;\" d=\"M 6.125 -3.09375 C 6.125 -5.265625 5.078125 -6.46875 3.265625 -6.46875 C 1.5 -6.46875 0.4375 -5.25 0.4375 -3.140625 C 0.4375 -1.03125 1.484375 0.1875 3.28125 0.1875 C 5.046875 0.1875 6.125 -1.03125 6.125 -3.09375 Z M 5.078125 -3.109375 C 5.078125 -1.625 4.375 -0.75 3.28125 -0.75 C 2.15625 -0.75 1.46875 -1.625 1.46875 -3.140625 C 1.46875 -4.65625 2.15625 -5.546875 3.28125 -5.546875 C 4.40625 -5.546875 5.078125 -4.671875 5.078125 -3.109375 Z \"/>\n",
       "</symbol>\n",
       "<symbol overflow=\"visible\" id=\"glyph0-7\">\n",
       "<path style=\"stroke:none;\" d=\"M 5.78125 0 L 5.78125 -6.28125 L 4.78125 -6.28125 L 4.78125 -2.8125 C 4.78125 -1.53125 4.109375 -0.703125 3.078125 -0.703125 C 2.28125 -0.703125 1.78125 -1.171875 1.78125 -1.9375 L 1.78125 -6.28125 L 0.78125 -6.28125 L 0.78125 -1.53125 C 0.78125 -0.484375 1.5625 0.1875 2.78125 0.1875 C 3.703125 0.1875 4.296875 -0.140625 4.890625 -0.96875 L 4.890625 0 Z \"/>\n",
       "</symbol>\n",
       "<symbol overflow=\"visible\" id=\"glyph0-8\">\n",
       "<path style=\"stroke:none;\" d=\"M 3.046875 0 L 3.046875 -0.84375 C 2.921875 -0.796875 2.765625 -0.796875 2.5625 -0.796875 C 2.140625 -0.796875 2.015625 -0.90625 2.015625 -1.359375 L 2.015625 -5.46875 L 3.046875 -5.46875 L 3.046875 -6.28125 L 2.015625 -6.28125 L 2.015625 -8.015625 L 1.015625 -8.015625 L 1.015625 -6.28125 L 0.171875 -6.28125 L 0.171875 -5.46875 L 1.015625 -5.46875 L 1.015625 -0.90625 C 1.015625 -0.28125 1.453125 0.078125 2.234375 0.078125 C 2.46875 0.078125 2.71875 0.0625 3.046875 0 Z \"/>\n",
       "</symbol>\n",
       "<symbol overflow=\"visible\" id=\"glyph0-9\">\n",
       "<path style=\"stroke:none;\" d=\"M 3 2.546875 L 3 1.6875 L 1.765625 1.6875 L 1.765625 -7.890625 L 3 -7.890625 L 3 -8.75 L 0.765625 -8.75 L 0.765625 2.546875 Z \"/>\n",
       "</symbol>\n",
       "<symbol overflow=\"visible\" id=\"glyph0-10\">\n",
       "<path style=\"stroke:none;\" d=\"M 2.296875 0.1875 L 2.296875 -1.25 L 1.046875 -1.25 L 1.046875 0 L 1.765625 0 L 1.765625 0.21875 C 1.765625 1.046875 1.609375 1.28125 1.046875 1.3125 L 1.046875 1.765625 C 1.890625 1.765625 2.296875 1.21875 2.296875 0.1875 Z \"/>\n",
       "</symbol>\n",
       "<symbol overflow=\"visible\" id=\"glyph0-11\">\n",
       "<path style=\"stroke:none;\" d=\"M 2.515625 2.546875 L 2.515625 -8.75 L 0.28125 -8.75 L 0.28125 -7.890625 L 1.515625 -7.890625 L 1.515625 1.6875 L 0.28125 1.6875 L 0.28125 2.546875 Z \"/>\n",
       "</symbol>\n",
       "<symbol overflow=\"visible\" id=\"glyph1-0\">\n",
       "<path style=\"stroke:none;\" d=\"\"/>\n",
       "</symbol>\n",
       "<symbol overflow=\"visible\" id=\"glyph1-1\">\n",
       "<path style=\"stroke:none;\" d=\"M -2.875 -3.40625 L -3.75 -3.40625 L -3.75 -0.546875 L -2.875 -0.546875 Z \"/>\n",
       "</symbol>\n",
       "<symbol overflow=\"visible\" id=\"glyph1-2\">\n",
       "<path style=\"stroke:none;\" d=\"M -6.015625 -6.125 C -7.453125 -6.125 -8.515625 -5.015625 -8.515625 -3.40625 C -8.515625 -1.671875 -7.625 -0.65625 -5.5625 -0.59375 L -5.5625 -1.65625 C -6.984375 -1.734375 -7.578125 -2.328125 -7.578125 -3.375 C -7.578125 -4.328125 -6.90625 -5.046875 -5.984375 -5.046875 C -5.3125 -5.046875 -4.734375 -4.65625 -4.3125 -3.90625 L -3.6875 -2.796875 C -2.671875 -1.015625 -1.875 -0.5 0 -0.40625 L 0 -6.078125 L -1.046875 -6.078125 L -1.046875 -1.59375 C -1.734375 -1.703125 -2.1875 -2.09375 -2.796875 -3.125 L -3.4375 -4.328125 C -4.078125 -5.515625 -4.96875 -6.125 -6.015625 -6.125 Z \"/>\n",
       "</symbol>\n",
       "<symbol overflow=\"visible\" id=\"glyph1-3\">\n",
       "<path style=\"stroke:none;\" d=\"M 0 -4.15625 L -8.515625 -4.15625 L -8.515625 -3.46875 C -7.203125 -3.09375 -7.015625 -2.859375 -6.8125 -1.21875 L -6.0625 -1.21875 L -6.0625 -3.109375 L 0 -3.109375 Z \"/>\n",
       "</symbol>\n",
       "<symbol overflow=\"visible\" id=\"glyph1-4\">\n",
       "<path style=\"stroke:none;\" d=\"M -4.09375 -6.078125 C -7.046875 -6.078125 -8.515625 -5.140625 -8.515625 -3.296875 C -8.515625 -1.46875 -7.015625 -0.515625 -4.15625 -0.515625 C -1.296875 -0.515625 0.1875 -1.46875 0.1875 -3.296875 C 0.1875 -5.09375 -1.296875 -6.078125 -4.09375 -6.078125 Z M -4.1875 -5 C -1.78125 -5 -0.703125 -4.453125 -0.703125 -3.28125 C -0.703125 -2.15625 -1.828125 -1.59375 -4.15625 -1.59375 C -6.484375 -1.59375 -7.578125 -2.15625 -7.578125 -3.296875 C -7.578125 -4.4375 -6.46875 -5 -4.1875 -5 Z \"/>\n",
       "</symbol>\n",
       "<symbol overflow=\"visible\" id=\"glyph1-5\">\n",
       "<path style=\"stroke:none;\" d=\"M -2.46875 -6.078125 C -3.5 -6.078125 -4.109375 -5.65625 -4.453125 -4.625 C -4.765625 -5.421875 -5.3125 -5.8125 -6.171875 -5.8125 C -7.625 -5.8125 -8.515625 -4.84375 -8.515625 -3.234375 C -8.515625 -1.515625 -7.578125 -0.59375 -5.765625 -0.5625 L -5.765625 -1.625 C -7.015625 -1.640625 -7.578125 -2.15625 -7.578125 -3.234375 C -7.578125 -4.171875 -7.03125 -4.734375 -6.125 -4.734375 C -5.21875 -4.734375 -4.84375 -4.34375 -4.84375 -2.65625 L -3.953125 -2.65625 L -3.953125 -3.234375 C -3.953125 -4.390625 -3.40625 -4.984375 -2.453125 -4.984375 C -1.390625 -4.984375 -0.75 -4.328125 -0.75 -3.234375 C -0.75 -2.078125 -1.328125 -1.515625 -2.5625 -1.4375 L -2.5625 -0.390625 C -0.671875 -0.515625 0.1875 -1.453125 0.1875 -3.1875 C 0.1875 -4.9375 -0.859375 -6.078125 -2.46875 -6.078125 Z \"/>\n",
       "</symbol>\n",
       "<symbol overflow=\"visible\" id=\"glyph1-6\">\n",
       "<path style=\"stroke:none;\" d=\"M -3.09375 -6.125 C -5.265625 -6.125 -6.46875 -5.078125 -6.46875 -3.265625 C -6.46875 -1.5 -5.25 -0.4375 -3.140625 -0.4375 C -1.03125 -0.4375 0.1875 -1.484375 0.1875 -3.28125 C 0.1875 -5.046875 -1.03125 -6.125 -3.09375 -6.125 Z M -3.109375 -5.078125 C -1.625 -5.078125 -0.75 -4.375 -0.75 -3.28125 C -0.75 -2.15625 -1.625 -1.46875 -3.140625 -1.46875 C -4.65625 -1.46875 -5.546875 -2.15625 -5.546875 -3.28125 C -5.546875 -4.40625 -4.671875 -5.078125 -3.109375 -5.078125 Z \"/>\n",
       "</symbol>\n",
       "<symbol overflow=\"visible\" id=\"glyph1-7\">\n",
       "<path style=\"stroke:none;\" d=\"M 0 -5.78125 L -6.28125 -5.78125 L -6.28125 -4.78125 L -2.8125 -4.78125 C -1.53125 -4.78125 -0.703125 -4.109375 -0.703125 -3.078125 C -0.703125 -2.28125 -1.171875 -1.78125 -1.9375 -1.78125 L -6.28125 -1.78125 L -6.28125 -0.78125 L -1.53125 -0.78125 C -0.484375 -0.78125 0.1875 -1.5625 0.1875 -2.78125 C 0.1875 -3.703125 -0.140625 -4.296875 -0.96875 -4.890625 L 0 -4.890625 Z \"/>\n",
       "</symbol>\n",
       "<symbol overflow=\"visible\" id=\"glyph1-8\">\n",
       "<path style=\"stroke:none;\" d=\"M 0 -3.046875 L -0.84375 -3.046875 C -0.796875 -2.921875 -0.796875 -2.765625 -0.796875 -2.5625 C -0.796875 -2.140625 -0.90625 -2.015625 -1.359375 -2.015625 L -5.46875 -2.015625 L -5.46875 -3.046875 L -6.28125 -3.046875 L -6.28125 -2.015625 L -8.015625 -2.015625 L -8.015625 -1.015625 L -6.28125 -1.015625 L -6.28125 -0.171875 L -5.46875 -0.171875 L -5.46875 -1.015625 L -0.90625 -1.015625 C -0.28125 -1.015625 0.078125 -1.453125 0.078125 -2.234375 C 0.078125 -2.46875 0.0625 -2.71875 0 -3.046875 Z \"/>\n",
       "</symbol>\n",
       "<symbol overflow=\"visible\" id=\"glyph1-9\">\n",
       "<path style=\"stroke:none;\" d=\"M 2.546875 -3 L 1.6875 -3 L 1.6875 -1.765625 L -7.890625 -1.765625 L -7.890625 -3 L -8.75 -3 L -8.75 -0.765625 L 2.546875 -0.765625 Z \"/>\n",
       "</symbol>\n",
       "<symbol overflow=\"visible\" id=\"glyph1-10\">\n",
       "<path style=\"stroke:none;\" d=\"M 0.1875 -2.296875 L -1.25 -2.296875 L -1.25 -1.046875 L 0 -1.046875 L 0 -1.765625 L 0.21875 -1.765625 C 1.046875 -1.765625 1.28125 -1.609375 1.3125 -1.046875 L 1.765625 -1.046875 C 1.765625 -1.890625 1.21875 -2.296875 0.1875 -2.296875 Z \"/>\n",
       "</symbol>\n",
       "<symbol overflow=\"visible\" id=\"glyph1-11\">\n",
       "<path style=\"stroke:none;\" d=\"M 2.546875 -2.515625 L -8.75 -2.515625 L -8.75 -0.28125 L -7.890625 -0.28125 L -7.890625 -1.515625 L 1.6875 -1.515625 L 1.6875 -0.28125 L 2.546875 -0.28125 Z \"/>\n",
       "</symbol>\n",
       "</g>\n",
       "<clipPath id=\"clip1\">\n",
       "  <path d=\"M 59.039062 127 L 474.757812 127 L 474.757812 346 L 59.039062 346 Z \"/>\n",
       "</clipPath>\n",
       "<clipPath id=\"clip2\">\n",
       "  <path d=\"M 59.039062 145 L 474.757812 145 L 474.757812 308 L 59.039062 308 Z \"/>\n",
       "</clipPath>\n",
       "</defs>\n",
       "<g id=\"surface113\">\n",
       "<rect x=\"0\" y=\"0\" width=\"504\" height=\"504\" style=\"fill:rgb(100%,100%,100%);fill-opacity:1;stroke:none;\"/>\n",
       "<path style=\"fill:none;stroke-width:0.75;stroke-linecap:round;stroke-linejoin:round;stroke:rgb(0%,0%,0%);stroke-opacity:1;stroke-miterlimit:10;\" d=\"M 426.269531 72.800781 C 426.269531 76.398438 420.871094 76.398438 420.871094 72.800781 C 420.871094 69.199219 426.269531 69.199219 426.269531 72.800781 \"/>\n",
       "<path style=\"fill:none;stroke-width:0.75;stroke-linecap:round;stroke-linejoin:round;stroke:rgb(0%,0%,0%);stroke-opacity:1;stroke-miterlimit:10;\" d=\"M 222.804688 416.800781 C 222.804688 420.398438 217.40625 420.398438 217.40625 416.800781 C 217.40625 413.199219 222.804688 413.199219 222.804688 416.800781 \"/>\n",
       "<path style=\"fill:none;stroke-width:0.75;stroke-linecap:round;stroke-linejoin:round;stroke:rgb(0%,0%,0%);stroke-opacity:1;stroke-miterlimit:10;\" d=\"M 298.070312 273.601562 C 298.070312 277.199219 292.671875 277.199219 292.671875 273.601562 C 292.671875 270 298.070312 270 298.070312 273.601562 \"/>\n",
       "<path style=\"fill:none;stroke-width:0.75;stroke-linecap:round;stroke-linejoin:round;stroke:rgb(0%,0%,0%);stroke-opacity:1;stroke-miterlimit:10;\" d=\"M 327.167969 179.121094 C 327.167969 182.71875 321.769531 182.71875 321.769531 179.121094 C 321.769531 175.519531 327.167969 175.519531 327.167969 179.121094 \"/>\n",
       "<path style=\"fill:none;stroke-width:0.75;stroke-linecap:round;stroke-linejoin:round;stroke:rgb(0%,0%,0%);stroke-opacity:1;stroke-miterlimit:10;\" d=\"M 266.828125 237.292969 C 266.828125 240.894531 261.429688 240.894531 261.429688 237.292969 C 261.429688 233.691406 266.828125 233.691406 266.828125 237.292969 \"/>\n",
       "<path style=\"fill:none;stroke-width:0.75;stroke-linecap:round;stroke-linejoin:round;stroke:rgb(0%,0%,0%);stroke-opacity:1;stroke-miterlimit:10;\" d=\"M 319.242188 237.324219 C 319.242188 240.925781 313.839844 240.925781 313.839844 237.324219 C 313.839844 233.726562 319.242188 233.726562 319.242188 237.324219 \"/>\n",
       "<path style=\"fill:none;stroke-width:0.75;stroke-linecap:round;stroke-linejoin:round;stroke:rgb(0%,0%,0%);stroke-opacity:1;stroke-miterlimit:10;\" d=\"M 237.136719 314.675781 C 237.136719 318.277344 231.734375 318.277344 231.734375 314.675781 C 231.734375 311.078125 237.136719 311.078125 237.136719 314.675781 \"/>\n",
       "<path style=\"fill:none;stroke-width:0.75;stroke-linecap:round;stroke-linejoin:round;stroke:rgb(0%,0%,0%);stroke-opacity:1;stroke-miterlimit:10;\" d=\"M 142.707031 352.40625 C 142.707031 356.007812 137.308594 356.007812 137.308594 352.40625 C 137.308594 348.804688 142.707031 348.804688 142.707031 352.40625 \"/>\n",
       "<path style=\"fill:none;stroke-width:0.75;stroke-linecap:round;stroke-linejoin:round;stroke:rgb(0%,0%,0%);stroke-opacity:1;stroke-miterlimit:10;\" d=\"M 355.417969 159.882812 C 355.417969 163.484375 350.015625 163.484375 350.015625 159.882812 C 350.015625 156.285156 355.417969 156.285156 355.417969 159.882812 \"/>\n",
       "<path style=\"fill:none;stroke-width:0.75;stroke-linecap:round;stroke-linejoin:round;stroke:rgb(0%,0%,0%);stroke-opacity:1;stroke-miterlimit:10;\" d=\"M 215.453125 253.835938 C 215.453125 257.4375 210.054688 257.4375 210.054688 253.835938 C 210.054688 250.234375 215.453125 250.234375 215.453125 253.835938 \"/>\n",
       "<path style=\"fill:none;stroke-width:0.75;stroke-linecap:round;stroke-linejoin:round;stroke:rgb(0%,0%,0%);stroke-opacity:1;stroke-miterlimit:10;\" d=\"M 329.421875 96.101562 C 329.421875 99.699219 324.023438 99.699219 324.023438 96.101562 C 324.023438 92.5 329.421875 92.5 329.421875 96.101562 \"/>\n",
       "<path style=\"fill:none;stroke-width:0.75;stroke-linecap:round;stroke-linejoin:round;stroke:rgb(0%,0%,0%);stroke-opacity:1;stroke-miterlimit:10;\" d=\"M 232.765625 226.730469 C 232.765625 230.332031 227.367188 230.332031 227.367188 226.730469 C 227.367188 223.132812 232.765625 223.132812 232.765625 226.730469 \"/>\n",
       "<path style=\"fill:none;stroke-width:0.75;stroke-linecap:round;stroke-linejoin:round;stroke:rgb(0%,0%,0%);stroke-opacity:1;stroke-miterlimit:10;\" d=\"M 361.613281 238.785156 C 361.613281 242.382812 356.210938 242.382812 356.210938 238.785156 C 356.210938 235.183594 361.613281 235.183594 361.613281 238.785156 \"/>\n",
       "<path style=\"fill:none;stroke-width:0.75;stroke-linecap:round;stroke-linejoin:round;stroke:rgb(0%,0%,0%);stroke-opacity:1;stroke-miterlimit:10;\" d=\"M 282.15625 228.519531 C 282.15625 232.117188 276.753906 232.117188 276.753906 228.519531 C 276.753906 224.917969 282.15625 224.917969 282.15625 228.519531 \"/>\n",
       "<path style=\"fill:none;stroke-width:0.75;stroke-linecap:round;stroke-linejoin:round;stroke:rgb(0%,0%,0%);stroke-opacity:1;stroke-miterlimit:10;\" d=\"M 385.074219 211.722656 C 385.074219 215.320312 379.675781 215.320312 379.675781 211.722656 C 379.675781 208.121094 385.074219 208.121094 385.074219 211.722656 \"/>\n",
       "<path style=\"fill:none;stroke-width:0.75;stroke-linecap:round;stroke-linejoin:round;stroke:rgb(0%,0%,0%);stroke-opacity:1;stroke-miterlimit:10;\" d=\"M 227.742188 248.84375 C 227.742188 252.445312 222.34375 252.445312 222.34375 248.84375 C 222.34375 245.242188 227.742188 245.242188 227.742188 248.84375 \"/>\n",
       "<path style=\"fill:none;stroke-width:0.75;stroke-linecap:round;stroke-linejoin:round;stroke:rgb(0%,0%,0%);stroke-opacity:1;stroke-miterlimit:10;\" d=\"M 202.484375 263.222656 C 202.484375 266.820312 197.085938 266.820312 197.085938 263.222656 C 197.085938 259.621094 202.484375 259.621094 202.484375 263.222656 \"/>\n",
       "<path style=\"fill:none;stroke-width:0.75;stroke-linecap:round;stroke-linejoin:round;stroke:rgb(0%,0%,0%);stroke-opacity:1;stroke-miterlimit:10;\" d=\"M 451.285156 215.035156 C 451.285156 218.636719 445.886719 218.636719 445.886719 215.035156 C 445.886719 211.433594 451.285156 211.433594 451.285156 215.035156 \"/>\n",
       "<path style=\"fill:none;stroke-width:0.75;stroke-linecap:round;stroke-linejoin:round;stroke:rgb(0%,0%,0%);stroke-opacity:1;stroke-miterlimit:10;\" d=\"M 296.859375 193.632812 C 296.859375 197.230469 291.460938 197.230469 291.460938 193.632812 C 291.460938 190.03125 296.859375 190.03125 296.859375 193.632812 \"/>\n",
       "<path style=\"fill:none;stroke-width:0.75;stroke-linecap:round;stroke-linejoin:round;stroke:rgb(0%,0%,0%);stroke-opacity:1;stroke-miterlimit:10;\" d=\"M 308.320312 212.175781 C 308.320312 215.777344 302.917969 215.777344 302.917969 212.175781 C 302.917969 208.578125 308.320312 208.578125 308.320312 212.175781 \"/>\n",
       "<path style=\"fill:none;stroke-width:0.75;stroke-linecap:round;stroke-linejoin:round;stroke:rgb(0%,0%,0%);stroke-opacity:1;stroke-miterlimit:10;\" d=\"M 358.074219 125.59375 C 358.074219 129.195312 352.671875 129.195312 352.671875 125.59375 C 352.671875 121.992188 358.074219 121.992188 358.074219 125.59375 \"/>\n",
       "<path style=\"fill:none;stroke-width:0.75;stroke-linecap:round;stroke-linejoin:round;stroke:rgb(0%,0%,0%);stroke-opacity:1;stroke-miterlimit:10;\" d=\"M 358.289062 204.335938 C 358.289062 207.933594 352.890625 207.933594 352.890625 204.335938 C 352.890625 200.734375 358.289062 200.734375 358.289062 204.335938 \"/>\n",
       "<path style=\"fill:none;stroke-width:0.75;stroke-linecap:round;stroke-linejoin:round;stroke:rgb(0%,0%,0%);stroke-opacity:1;stroke-miterlimit:10;\" d=\"M 355.875 223.214844 C 355.875 226.816406 350.476562 226.816406 350.476562 223.214844 C 350.476562 219.613281 355.875 219.613281 355.875 223.214844 \"/>\n",
       "<path style=\"fill:none;stroke-width:0.75;stroke-linecap:round;stroke-linejoin:round;stroke:rgb(0%,0%,0%);stroke-opacity:1;stroke-miterlimit:10;\" d=\"M 368.761719 138.964844 C 368.761719 142.566406 363.363281 142.566406 363.363281 138.964844 C 363.363281 135.363281 368.761719 135.363281 368.761719 138.964844 \"/>\n",
       "<path style=\"fill:none;stroke-width:0.75;stroke-linecap:round;stroke-linejoin:round;stroke:rgb(0%,0%,0%);stroke-opacity:1;stroke-miterlimit:10;\" d=\"M 250.726562 217.789062 C 250.726562 221.386719 245.328125 221.386719 245.328125 217.789062 C 245.328125 214.1875 250.726562 214.1875 250.726562 217.789062 \"/>\n",
       "<path style=\"fill:none;stroke-width:0.75;stroke-linecap:round;stroke-linejoin:round;stroke:rgb(0%,0%,0%);stroke-opacity:1;stroke-miterlimit:10;\" d=\"M 169.464844 282.660156 C 169.464844 286.257812 164.066406 286.257812 164.066406 282.660156 C 164.066406 279.058594 169.464844 279.058594 169.464844 282.660156 \"/>\n",
       "<path style=\"fill:none;stroke-width:0.75;stroke-linecap:round;stroke-linejoin:round;stroke:rgb(0%,0%,0%);stroke-opacity:1;stroke-miterlimit:10;\" d=\"M 215.101562 247.261719 C 215.101562 250.863281 209.703125 250.863281 209.703125 247.261719 C 209.703125 243.664062 215.101562 243.664062 215.101562 247.261719 \"/>\n",
       "<path style=\"fill:none;stroke-width:0.75;stroke-linecap:round;stroke-linejoin:round;stroke:rgb(0%,0%,0%);stroke-opacity:1;stroke-miterlimit:10;\" d=\"M 225.800781 262.082031 C 225.800781 265.683594 220.402344 265.683594 220.402344 262.082031 C 220.402344 258.484375 225.800781 258.484375 225.800781 262.082031 \"/>\n",
       "<path style=\"fill:none;stroke-width:0.75;stroke-linecap:round;stroke-linejoin:round;stroke:rgb(0%,0%,0%);stroke-opacity:1;stroke-miterlimit:10;\" d=\"M 352.824219 161.902344 C 352.824219 165.5 347.425781 165.5 347.425781 161.902344 C 347.425781 158.300781 352.824219 158.300781 352.824219 161.902344 \"/>\n",
       "<path style=\"fill:none;stroke-width:0.75;stroke-linecap:round;stroke-linejoin:round;stroke:rgb(0%,0%,0%);stroke-opacity:1;stroke-miterlimit:10;\" d=\"M 210.628906 276.339844 C 210.628906 279.941406 205.230469 279.941406 205.230469 276.339844 C 205.230469 272.738281 210.628906 272.738281 210.628906 276.339844 \"/>\n",
       "<path style=\"fill:none;stroke-width:0.75;stroke-linecap:round;stroke-linejoin:round;stroke:rgb(0%,0%,0%);stroke-opacity:1;stroke-miterlimit:10;\" d=\"M 243.859375 266.03125 C 243.859375 269.632812 238.460938 269.632812 238.460938 266.03125 C 238.460938 262.433594 243.859375 262.433594 243.859375 266.03125 \"/>\n",
       "<path style=\"fill:none;stroke-width:0.75;stroke-linecap:round;stroke-linejoin:round;stroke:rgb(0%,0%,0%);stroke-opacity:1;stroke-miterlimit:10;\" d=\"M 77.101562 363.449219 C 77.101562 367.050781 71.699219 367.050781 71.699219 363.449219 C 71.699219 359.851562 77.101562 359.851562 77.101562 363.449219 \"/>\n",
       "<path style=\"fill:none;stroke-width:0.75;stroke-linecap:round;stroke-linejoin:round;stroke:rgb(0%,0%,0%);stroke-opacity:1;stroke-miterlimit:10;\" d=\"M 276.765625 234.929688 C 276.765625 238.53125 271.367188 238.53125 271.367188 234.929688 C 271.367188 231.332031 276.765625 231.332031 276.765625 234.929688 \"/>\n",
       "<path style=\"fill:none;stroke-width:0.75;stroke-linecap:round;stroke-linejoin:round;stroke:rgb(0%,0%,0%);stroke-opacity:1;stroke-miterlimit:10;\" d=\"M 144.800781 262.648438 C 144.800781 266.246094 139.402344 266.246094 139.402344 262.648438 C 139.402344 259.046875 144.800781 259.046875 144.800781 262.648438 \"/>\n",
       "<path style=\"fill:none;stroke-width:0.75;stroke-linecap:round;stroke-linejoin:round;stroke:rgb(0%,0%,0%);stroke-opacity:1;stroke-miterlimit:10;\" d=\"M 237.25 177.273438 C 237.25 180.871094 231.847656 180.871094 231.847656 177.273438 C 231.847656 173.671875 237.25 173.671875 237.25 177.273438 \"/>\n",
       "<path style=\"fill:none;stroke-width:0.75;stroke-linecap:round;stroke-linejoin:round;stroke:rgb(0%,0%,0%);stroke-opacity:1;stroke-miterlimit:10;\" d=\"M 205.3125 277.5 C 205.3125 281.101562 199.914062 281.101562 199.914062 277.5 C 199.914062 273.902344 205.3125 273.902344 205.3125 277.5 \"/>\n",
       "<path style=\"fill:none;stroke-width:0.75;stroke-linecap:round;stroke-linejoin:round;stroke:rgb(0%,0%,0%);stroke-opacity:1;stroke-miterlimit:10;\" d=\"M 335.941406 289.800781 C 335.941406 293.402344 330.542969 293.402344 330.542969 289.800781 C 330.542969 286.203125 335.941406 286.203125 335.941406 289.800781 \"/>\n",
       "<path style=\"fill:none;stroke-width:0.75;stroke-linecap:round;stroke-linejoin:round;stroke:rgb(0%,0%,0%);stroke-opacity:1;stroke-miterlimit:10;\" d=\"M 427.882812 87.03125 C 427.882812 90.632812 422.480469 90.632812 422.480469 87.03125 C 422.480469 83.433594 427.882812 83.433594 427.882812 87.03125 \"/>\n",
       "<path style=\"fill:none;stroke-width:0.75;stroke-linecap:round;stroke-linejoin:round;stroke:rgb(0%,0%,0%);stroke-opacity:1;stroke-miterlimit:10;\" d=\"M 339.1875 74.726562 C 339.1875 78.328125 333.789062 78.328125 333.789062 74.726562 C 333.789062 71.128906 339.1875 71.128906 339.1875 74.726562 \"/>\n",
       "<path style=\"fill:none;stroke-width:0.75;stroke-linecap:round;stroke-linejoin:round;stroke:rgb(0%,0%,0%);stroke-opacity:1;stroke-miterlimit:10;\" d=\"M 461.101562 323.253906 C 461.101562 326.851562 455.699219 326.851562 455.699219 323.253906 C 455.699219 319.652344 461.101562 319.652344 461.101562 323.253906 \"/>\n",
       "<path style=\"fill:none;stroke-width:0.75;stroke-linecap:round;stroke-linejoin:round;stroke:rgb(0%,0%,0%);stroke-opacity:1;stroke-miterlimit:10;\" d=\"M 288.882812 235.945312 C 288.882812 239.542969 283.480469 239.542969 283.480469 235.945312 C 283.480469 232.34375 288.882812 232.34375 288.882812 235.945312 \"/>\n",
       "<path style=\"fill:none;stroke-width:0.75;stroke-linecap:round;stroke-linejoin:round;stroke:rgb(0%,0%,0%);stroke-opacity:1;stroke-miterlimit:10;\" d=\"M 369.960938 159.914062 C 369.960938 163.511719 364.5625 163.511719 364.5625 159.914062 C 364.5625 156.3125 369.960938 156.3125 369.960938 159.914062 \"/>\n",
       "<path style=\"fill:none;stroke-width:0.75;stroke-linecap:round;stroke-linejoin:round;stroke:rgb(0%,0%,0%);stroke-opacity:1;stroke-miterlimit:10;\" d=\"M 114.042969 365.621094 C 114.042969 369.222656 108.644531 369.222656 108.644531 365.621094 C 108.644531 362.023438 114.042969 362.023438 114.042969 365.621094 \"/>\n",
       "<path style=\"fill:none;stroke-width:0.75;stroke-linecap:round;stroke-linejoin:round;stroke:rgb(0%,0%,0%);stroke-opacity:1;stroke-miterlimit:10;\" d=\"M 331.0625 169.886719 C 331.0625 173.488281 325.664062 173.488281 325.664062 169.886719 C 325.664062 166.289062 331.0625 166.289062 331.0625 169.886719 \"/>\n",
       "<path style=\"fill:none;stroke-width:0.75;stroke-linecap:round;stroke-linejoin:round;stroke:rgb(0%,0%,0%);stroke-opacity:1;stroke-miterlimit:10;\" d=\"M 268.613281 151.039062 C 268.613281 154.636719 263.214844 154.636719 263.214844 151.039062 C 263.214844 147.4375 268.613281 147.4375 268.613281 151.039062 \"/>\n",
       "<path style=\"fill:none;stroke-width:0.75;stroke-linecap:round;stroke-linejoin:round;stroke:rgb(0%,0%,0%);stroke-opacity:1;stroke-miterlimit:10;\" d=\"M 214.367188 221.425781 C 214.367188 225.027344 208.964844 225.027344 208.964844 221.425781 C 208.964844 217.824219 214.367188 217.824219 214.367188 221.425781 \"/>\n",
       "<path style=\"fill:none;stroke-width:0.75;stroke-linecap:round;stroke-linejoin:round;stroke:rgb(0%,0%,0%);stroke-opacity:1;stroke-miterlimit:10;\" d=\"M 345.679688 297.984375 C 345.679688 301.585938 340.277344 301.585938 340.277344 297.984375 C 340.277344 294.386719 345.679688 294.386719 345.679688 297.984375 \"/>\n",
       "<path style=\"fill:none;stroke-width:0.75;stroke-linecap:round;stroke-linejoin:round;stroke:rgb(0%,0%,0%);stroke-opacity:1;stroke-miterlimit:10;\" d=\"M 452.523438 120.066406 C 452.523438 123.667969 447.121094 123.667969 447.121094 120.066406 C 447.121094 116.464844 452.523438 116.464844 452.523438 120.066406 \"/>\n",
       "<path style=\"fill:none;stroke-width:0.75;stroke-linecap:round;stroke-linejoin:round;stroke:rgb(0%,0%,0%);stroke-opacity:1;stroke-miterlimit:10;\" d=\"M 313.847656 262.585938 C 313.847656 266.1875 308.449219 266.1875 308.449219 262.585938 C 308.449219 258.988281 313.847656 258.988281 313.847656 262.585938 \"/>\n",
       "<path style=\"fill:none;stroke-width:0.75;stroke-linecap:round;stroke-linejoin:round;stroke:rgb(0%,0%,0%);stroke-opacity:1;stroke-miterlimit:10;\" d=\"M 297.285156 160.605469 C 297.285156 164.203125 291.882812 164.203125 291.882812 160.605469 C 291.882812 157.003906 297.285156 157.003906 297.285156 160.605469 \"/>\n",
       "<path style=\"fill:none;stroke-width:0.75;stroke-linecap:round;stroke-linejoin:round;stroke:rgb(0%,0%,0%);stroke-opacity:1;stroke-miterlimit:10;\" d=\"M 134.925781 430.558594 L 468.289062 430.558594 \"/>\n",
       "<path style=\"fill:none;stroke-width:0.75;stroke-linecap:round;stroke-linejoin:round;stroke:rgb(0%,0%,0%);stroke-opacity:1;stroke-miterlimit:10;\" d=\"M 134.925781 430.558594 L 134.925781 437.761719 \"/>\n",
       "<path style=\"fill:none;stroke-width:0.75;stroke-linecap:round;stroke-linejoin:round;stroke:rgb(0%,0%,0%);stroke-opacity:1;stroke-miterlimit:10;\" d=\"M 218.265625 430.558594 L 218.265625 437.761719 \"/>\n",
       "<path style=\"fill:none;stroke-width:0.75;stroke-linecap:round;stroke-linejoin:round;stroke:rgb(0%,0%,0%);stroke-opacity:1;stroke-miterlimit:10;\" d=\"M 301.605469 430.558594 L 301.605469 437.761719 \"/>\n",
       "<path style=\"fill:none;stroke-width:0.75;stroke-linecap:round;stroke-linejoin:round;stroke:rgb(0%,0%,0%);stroke-opacity:1;stroke-miterlimit:10;\" d=\"M 384.949219 430.558594 L 384.949219 437.761719 \"/>\n",
       "<path style=\"fill:none;stroke-width:0.75;stroke-linecap:round;stroke-linejoin:round;stroke:rgb(0%,0%,0%);stroke-opacity:1;stroke-miterlimit:10;\" d=\"M 468.289062 430.558594 L 468.289062 437.761719 \"/>\n",
       "<g style=\"fill:rgb(0%,0%,0%);fill-opacity:1;\">\n",
       "  <use xlink:href=\"#glyph0-1\" x=\"131.425781\" y=\"456.256836\"/>\n",
       "</g>\n",
       "<g style=\"fill:rgb(0%,0%,0%);fill-opacity:1;\">\n",
       "  <use xlink:href=\"#glyph0-2\" x=\"214.765625\" y=\"456.256836\"/>\n",
       "</g>\n",
       "<g style=\"fill:rgb(0%,0%,0%);fill-opacity:1;\">\n",
       "  <use xlink:href=\"#glyph0-3\" x=\"298.105469\" y=\"456.256836\"/>\n",
       "</g>\n",
       "<g style=\"fill:rgb(0%,0%,0%);fill-opacity:1;\">\n",
       "  <use xlink:href=\"#glyph0-4\" x=\"381.449219\" y=\"456.256836\"/>\n",
       "</g>\n",
       "<g style=\"fill:rgb(0%,0%,0%);fill-opacity:1;\">\n",
       "  <use xlink:href=\"#glyph0-5\" x=\"464.789062\" y=\"456.256836\"/>\n",
       "</g>\n",
       "<path style=\"fill:none;stroke-width:0.75;stroke-linecap:round;stroke-linejoin:round;stroke:rgb(0%,0%,0%);stroke-opacity:1;stroke-miterlimit:10;\" d=\"M 59.039062 412.265625 L 59.039062 76.105469 \"/>\n",
       "<path style=\"fill:none;stroke-width:0.75;stroke-linecap:round;stroke-linejoin:round;stroke:rgb(0%,0%,0%);stroke-opacity:1;stroke-miterlimit:10;\" d=\"M 59.039062 412.265625 L 51.839844 412.265625 \"/>\n",
       "<path style=\"fill:none;stroke-width:0.75;stroke-linecap:round;stroke-linejoin:round;stroke:rgb(0%,0%,0%);stroke-opacity:1;stroke-miterlimit:10;\" d=\"M 59.039062 345.035156 L 51.839844 345.035156 \"/>\n",
       "<path style=\"fill:none;stroke-width:0.75;stroke-linecap:round;stroke-linejoin:round;stroke:rgb(0%,0%,0%);stroke-opacity:1;stroke-miterlimit:10;\" d=\"M 59.039062 277.800781 L 51.839844 277.800781 \"/>\n",
       "<path style=\"fill:none;stroke-width:0.75;stroke-linecap:round;stroke-linejoin:round;stroke:rgb(0%,0%,0%);stroke-opacity:1;stroke-miterlimit:10;\" d=\"M 59.039062 210.570312 L 51.839844 210.570312 \"/>\n",
       "<path style=\"fill:none;stroke-width:0.75;stroke-linecap:round;stroke-linejoin:round;stroke:rgb(0%,0%,0%);stroke-opacity:1;stroke-miterlimit:10;\" d=\"M 59.039062 143.335938 L 51.839844 143.335938 \"/>\n",
       "<path style=\"fill:none;stroke-width:0.75;stroke-linecap:round;stroke-linejoin:round;stroke:rgb(0%,0%,0%);stroke-opacity:1;stroke-miterlimit:10;\" d=\"M 59.039062 76.105469 L 51.839844 76.105469 \"/>\n",
       "<g style=\"fill:rgb(0%,0%,0%);fill-opacity:1;\">\n",
       "  <use xlink:href=\"#glyph1-1\" x=\"41.538086\" y=\"417.765625\"/>\n",
       "  <use xlink:href=\"#glyph1-2\" x=\"41.538086\" y=\"413.769531\"/>\n",
       "</g>\n",
       "<g style=\"fill:rgb(0%,0%,0%);fill-opacity:1;\">\n",
       "  <use xlink:href=\"#glyph1-1\" x=\"41.538086\" y=\"350.535156\"/>\n",
       "  <use xlink:href=\"#glyph1-3\" x=\"41.538086\" y=\"346.539062\"/>\n",
       "</g>\n",
       "<g style=\"fill:rgb(0%,0%,0%);fill-opacity:1;\">\n",
       "  <use xlink:href=\"#glyph1-4\" x=\"41.538086\" y=\"281.300781\"/>\n",
       "</g>\n",
       "<g style=\"fill:rgb(0%,0%,0%);fill-opacity:1;\">\n",
       "  <use xlink:href=\"#glyph1-3\" x=\"41.538086\" y=\"214.070312\"/>\n",
       "</g>\n",
       "<g style=\"fill:rgb(0%,0%,0%);fill-opacity:1;\">\n",
       "  <use xlink:href=\"#glyph1-2\" x=\"41.538086\" y=\"146.835938\"/>\n",
       "</g>\n",
       "<g style=\"fill:rgb(0%,0%,0%);fill-opacity:1;\">\n",
       "  <use xlink:href=\"#glyph1-5\" x=\"41.538086\" y=\"79.605469\"/>\n",
       "</g>\n",
       "<path style=\"fill:none;stroke-width:0.75;stroke-linecap:round;stroke-linejoin:round;stroke:rgb(0%,0%,0%);stroke-opacity:1;stroke-miterlimit:10;\" d=\"M 59.039062 430.558594 L 473.761719 430.558594 L 473.761719 59.039062 L 59.039062 59.039062 L 59.039062 430.558594 \"/>\n",
       "<g style=\"fill:rgb(0%,0%,0%);fill-opacity:1;\">\n",
       "  <use xlink:href=\"#glyph0-6\" x=\"249.398438\" y=\"485.057617\"/>\n",
       "  <use xlink:href=\"#glyph0-7\" x=\"256.070312\" y=\"485.057617\"/>\n",
       "  <use xlink:href=\"#glyph0-8\" x=\"262.742188\" y=\"485.057617\"/>\n",
       "  <use xlink:href=\"#glyph0-9\" x=\"266.078125\" y=\"485.057617\"/>\n",
       "  <use xlink:href=\"#glyph0-10\" x=\"269.414062\" y=\"485.057617\"/>\n",
       "  <use xlink:href=\"#glyph0-2\" x=\"272.75\" y=\"485.057617\"/>\n",
       "  <use xlink:href=\"#glyph0-11\" x=\"279.421875\" y=\"485.057617\"/>\n",
       "</g>\n",
       "<g style=\"fill:rgb(0%,0%,0%);fill-opacity:1;\">\n",
       "  <use xlink:href=\"#glyph1-6\" x=\"12.737305\" y=\"261.800781\"/>\n",
       "  <use xlink:href=\"#glyph1-7\" x=\"12.737305\" y=\"255.128906\"/>\n",
       "  <use xlink:href=\"#glyph1-8\" x=\"12.737305\" y=\"248.457031\"/>\n",
       "  <use xlink:href=\"#glyph1-9\" x=\"12.737305\" y=\"245.121094\"/>\n",
       "  <use xlink:href=\"#glyph1-10\" x=\"12.737305\" y=\"241.785156\"/>\n",
       "  <use xlink:href=\"#glyph1-2\" x=\"12.737305\" y=\"238.449219\"/>\n",
       "  <use xlink:href=\"#glyph1-11\" x=\"12.737305\" y=\"231.777344\"/>\n",
       "</g>\n",
       "<g clip-path=\"url(#clip1)\" clip-rule=\"nonzero\">\n",
       "<path style=\"fill:none;stroke-width:0.75;stroke-linecap:round;stroke-linejoin:round;stroke:rgb(100%,0%,0%);stroke-opacity:1;stroke-miterlimit:10;\" d=\"M 59.039062 345.292969 L 473.761719 127.617188 \"/>\n",
       "</g>\n",
       "<g clip-path=\"url(#clip2)\" clip-rule=\"nonzero\">\n",
       "<path style=\"fill:none;stroke-width:0.75;stroke-linecap:round;stroke-linejoin:round;stroke:rgb(0%,0%,100%);stroke-opacity:1;stroke-miterlimit:10;\" d=\"M 59.039062 307.253906 L 473.761719 146.300781 \"/>\n",
       "</g>\n",
       "</g>\n",
       "</svg>\n"
      ],
      "text/plain": [
       "plot without title"
      ]
     },
     "metadata": {
      "image/svg+xml": {
       "isolated": true
      }
     },
     "output_type": "display_data"
    }
   ],
   "source": [
    "# Our data set is named `out`, which we split into y and X\n",
    "y <- out[, 2]\n",
    "X <- out[, 1]\n",
    "\n",
    "# Now carry out intermediate calculations\n",
    "XT = t(X)\n",
    "XTX = XT%*%X\n",
    "invXTX = solve(XTX)\n",
    "XTy = XT%*%y\n",
    "beta = invXTX %*% XTy\n",
    "beta\n",
    "\n",
    "# Now add this line to the plot\n",
    "plot(out)\n",
    "abline(lm(out[,2]~out[,1]), col=\"red\") # regression line (y~x) \n",
    "abline(a=0, b=beta, col=\"blue\")"
   ]
  },
  {
   "cell_type": "markdown",
   "metadata": {},
   "source": [
    "Wait a second! Our answer is wrong!!!! Why?\n",
    "\n",
    "There's another way to solve this problem that is faster... could that give us a better answer?"
   ]
  },
  {
   "cell_type": "code",
   "execution_count": 56,
   "metadata": {
    "collapsed": false,
    "scrolled": true
   },
   "outputs": [
    {
     "data": {
      "text/plain": [
       "   user  system elapsed \n",
       "      0       0       0 "
      ]
     },
     "metadata": {},
     "output_type": "display_data"
    },
    {
     "data": {
      "text/plain": [
       "   user  system elapsed \n",
       "      0       0       0 "
      ]
     },
     "metadata": {},
     "output_type": "display_data"
    },
    {
     "data": {
      "image/png": "[encoded data removed]",
      "image/svg+xml": [
       "<?xml version=\"1.0\" encoding=\"UTF-8\"?>\n",
       "<svg xmlns=\"http://www.w3.org/2000/svg\" xmlns:xlink=\"http://www.w3.org/1999/xlink\" width=\"504pt\" height=\"504pt\" viewBox=\"0 0 504 504\" version=\"1.1\">\n",
       "<defs>\n",
       "<g>\n",
       "<symbol overflow=\"visible\" id=\"glyph0-0\">\n",
       "<path style=\"stroke:none;\" d=\"\"/>\n",
       "</symbol>\n",
       "<symbol overflow=\"visible\" id=\"glyph0-1\">\n",
       "<path style=\"stroke:none;\" d=\"M 6.078125 -4.09375 C 6.078125 -7.046875 5.140625 -8.515625 3.296875 -8.515625 C 1.46875 -8.515625 0.515625 -7.015625 0.515625 -4.15625 C 0.515625 -1.296875 1.46875 0.1875 3.296875 0.1875 C 5.09375 0.1875 6.078125 -1.296875 6.078125 -4.09375 Z M 5 -4.1875 C 5 -1.78125 4.453125 -0.703125 3.28125 -0.703125 C 2.15625 -0.703125 1.59375 -1.828125 1.59375 -4.15625 C 1.59375 -6.484375 2.15625 -7.578125 3.296875 -7.578125 C 4.4375 -7.578125 5 -6.46875 5 -4.1875 Z \"/>\n",
       "</symbol>\n",
       "<symbol overflow=\"visible\" id=\"glyph0-2\">\n",
       "<path style=\"stroke:none;\" d=\"M 4.15625 0 L 4.15625 -8.515625 L 3.46875 -8.515625 C 3.09375 -7.203125 2.859375 -7.015625 1.21875 -6.8125 L 1.21875 -6.0625 L 3.109375 -6.0625 L 3.109375 0 Z \"/>\n",
       "</symbol>\n",
       "<symbol overflow=\"visible\" id=\"glyph0-3\">\n",
       "<path style=\"stroke:none;\" d=\"M 6.125 -6.015625 C 6.125 -7.453125 5.015625 -8.515625 3.40625 -8.515625 C 1.671875 -8.515625 0.65625 -7.625 0.59375 -5.5625 L 1.65625 -5.5625 C 1.734375 -6.984375 2.328125 -7.578125 3.375 -7.578125 C 4.328125 -7.578125 5.046875 -6.90625 5.046875 -5.984375 C 5.046875 -5.3125 4.65625 -4.734375 3.90625 -4.3125 L 2.796875 -3.6875 C 1.015625 -2.671875 0.5 -1.875 0.40625 0 L 6.078125 0 L 6.078125 -1.046875 L 1.59375 -1.046875 C 1.703125 -1.734375 2.09375 -2.1875 3.125 -2.796875 L 4.328125 -3.4375 C 5.515625 -4.078125 6.125 -4.96875 6.125 -6.015625 Z \"/>\n",
       "</symbol>\n",
       "<symbol overflow=\"visible\" id=\"glyph0-4\">\n",
       "<path style=\"stroke:none;\" d=\"M 6.078125 -2.46875 C 6.078125 -3.5 5.65625 -4.109375 4.625 -4.453125 C 5.421875 -4.765625 5.8125 -5.3125 5.8125 -6.171875 C 5.8125 -7.625 4.84375 -8.515625 3.234375 -8.515625 C 1.515625 -8.515625 0.59375 -7.578125 0.5625 -5.765625 L 1.625 -5.765625 C 1.640625 -7.015625 2.15625 -7.578125 3.234375 -7.578125 C 4.171875 -7.578125 4.734375 -7.03125 4.734375 -6.125 C 4.734375 -5.21875 4.34375 -4.84375 2.65625 -4.84375 L 2.65625 -3.953125 L 3.234375 -3.953125 C 4.390625 -3.953125 4.984375 -3.40625 4.984375 -2.453125 C 4.984375 -1.390625 4.328125 -0.75 3.234375 -0.75 C 2.078125 -0.75 1.515625 -1.328125 1.4375 -2.5625 L 0.390625 -2.5625 C 0.515625 -0.671875 1.453125 0.1875 3.1875 0.1875 C 4.9375 0.1875 6.078125 -0.859375 6.078125 -2.46875 Z \"/>\n",
       "</symbol>\n",
       "<symbol overflow=\"visible\" id=\"glyph0-5\">\n",
       "<path style=\"stroke:none;\" d=\"M 6.234375 -2.046875 L 6.234375 -2.984375 L 4.984375 -2.984375 L 4.984375 -8.515625 L 4.203125 -8.515625 L 0.34375 -3.15625 L 0.34375 -2.046875 L 3.921875 -2.046875 L 3.921875 0 L 4.984375 0 L 4.984375 -2.046875 Z M 3.921875 -2.984375 L 1.265625 -2.984375 L 3.921875 -6.703125 Z \"/>\n",
       "</symbol>\n",
       "<symbol overflow=\"visible\" id=\"glyph0-6\">\n",
       "<path style=\"stroke:none;\" d=\"M 6.125 -3.09375 C 6.125 -5.265625 5.078125 -6.46875 3.265625 -6.46875 C 1.5 -6.46875 0.4375 -5.25 0.4375 -3.140625 C 0.4375 -1.03125 1.484375 0.1875 3.28125 0.1875 C 5.046875 0.1875 6.125 -1.03125 6.125 -3.09375 Z M 5.078125 -3.109375 C 5.078125 -1.625 4.375 -0.75 3.28125 -0.75 C 2.15625 -0.75 1.46875 -1.625 1.46875 -3.140625 C 1.46875 -4.65625 2.15625 -5.546875 3.28125 -5.546875 C 4.40625 -5.546875 5.078125 -4.671875 5.078125 -3.109375 Z \"/>\n",
       "</symbol>\n",
       "<symbol overflow=\"visible\" id=\"glyph0-7\">\n",
       "<path style=\"stroke:none;\" d=\"M 5.78125 0 L 5.78125 -6.28125 L 4.78125 -6.28125 L 4.78125 -2.8125 C 4.78125 -1.53125 4.109375 -0.703125 3.078125 -0.703125 C 2.28125 -0.703125 1.78125 -1.171875 1.78125 -1.9375 L 1.78125 -6.28125 L 0.78125 -6.28125 L 0.78125 -1.53125 C 0.78125 -0.484375 1.5625 0.1875 2.78125 0.1875 C 3.703125 0.1875 4.296875 -0.140625 4.890625 -0.96875 L 4.890625 0 Z \"/>\n",
       "</symbol>\n",
       "<symbol overflow=\"visible\" id=\"glyph0-8\">\n",
       "<path style=\"stroke:none;\" d=\"M 3.046875 0 L 3.046875 -0.84375 C 2.921875 -0.796875 2.765625 -0.796875 2.5625 -0.796875 C 2.140625 -0.796875 2.015625 -0.90625 2.015625 -1.359375 L 2.015625 -5.46875 L 3.046875 -5.46875 L 3.046875 -6.28125 L 2.015625 -6.28125 L 2.015625 -8.015625 L 1.015625 -8.015625 L 1.015625 -6.28125 L 0.171875 -6.28125 L 0.171875 -5.46875 L 1.015625 -5.46875 L 1.015625 -0.90625 C 1.015625 -0.28125 1.453125 0.078125 2.234375 0.078125 C 2.46875 0.078125 2.71875 0.0625 3.046875 0 Z \"/>\n",
       "</symbol>\n",
       "<symbol overflow=\"visible\" id=\"glyph0-9\">\n",
       "<path style=\"stroke:none;\" d=\"M 3 2.546875 L 3 1.6875 L 1.765625 1.6875 L 1.765625 -7.890625 L 3 -7.890625 L 3 -8.75 L 0.765625 -8.75 L 0.765625 2.546875 Z \"/>\n",
       "</symbol>\n",
       "<symbol overflow=\"visible\" id=\"glyph0-10\">\n",
       "<path style=\"stroke:none;\" d=\"M 2.296875 0.1875 L 2.296875 -1.25 L 1.046875 -1.25 L 1.046875 0 L 1.765625 0 L 1.765625 0.21875 C 1.765625 1.046875 1.609375 1.28125 1.046875 1.3125 L 1.046875 1.765625 C 1.890625 1.765625 2.296875 1.21875 2.296875 0.1875 Z \"/>\n",
       "</symbol>\n",
       "<symbol overflow=\"visible\" id=\"glyph0-11\">\n",
       "<path style=\"stroke:none;\" d=\"M 2.515625 2.546875 L 2.515625 -8.75 L 0.28125 -8.75 L 0.28125 -7.890625 L 1.515625 -7.890625 L 1.515625 1.6875 L 0.28125 1.6875 L 0.28125 2.546875 Z \"/>\n",
       "</symbol>\n",
       "<symbol overflow=\"visible\" id=\"glyph1-0\">\n",
       "<path style=\"stroke:none;\" d=\"\"/>\n",
       "</symbol>\n",
       "<symbol overflow=\"visible\" id=\"glyph1-1\">\n",
       "<path style=\"stroke:none;\" d=\"M -2.875 -3.40625 L -3.75 -3.40625 L -3.75 -0.546875 L -2.875 -0.546875 Z \"/>\n",
       "</symbol>\n",
       "<symbol overflow=\"visible\" id=\"glyph1-2\">\n",
       "<path style=\"stroke:none;\" d=\"M -6.015625 -6.125 C -7.453125 -6.125 -8.515625 -5.015625 -8.515625 -3.40625 C -8.515625 -1.671875 -7.625 -0.65625 -5.5625 -0.59375 L -5.5625 -1.65625 C -6.984375 -1.734375 -7.578125 -2.328125 -7.578125 -3.375 C -7.578125 -4.328125 -6.90625 -5.046875 -5.984375 -5.046875 C -5.3125 -5.046875 -4.734375 -4.65625 -4.3125 -3.90625 L -3.6875 -2.796875 C -2.671875 -1.015625 -1.875 -0.5 0 -0.40625 L 0 -6.078125 L -1.046875 -6.078125 L -1.046875 -1.59375 C -1.734375 -1.703125 -2.1875 -2.09375 -2.796875 -3.125 L -3.4375 -4.328125 C -4.078125 -5.515625 -4.96875 -6.125 -6.015625 -6.125 Z \"/>\n",
       "</symbol>\n",
       "<symbol overflow=\"visible\" id=\"glyph1-3\">\n",
       "<path style=\"stroke:none;\" d=\"M 0 -4.15625 L -8.515625 -4.15625 L -8.515625 -3.46875 C -7.203125 -3.09375 -7.015625 -2.859375 -6.8125 -1.21875 L -6.0625 -1.21875 L -6.0625 -3.109375 L 0 -3.109375 Z \"/>\n",
       "</symbol>\n",
       "<symbol overflow=\"visible\" id=\"glyph1-4\">\n",
       "<path style=\"stroke:none;\" d=\"M -4.09375 -6.078125 C -7.046875 -6.078125 -8.515625 -5.140625 -8.515625 -3.296875 C -8.515625 -1.46875 -7.015625 -0.515625 -4.15625 -0.515625 C -1.296875 -0.515625 0.1875 -1.46875 0.1875 -3.296875 C 0.1875 -5.09375 -1.296875 -6.078125 -4.09375 -6.078125 Z M -4.1875 -5 C -1.78125 -5 -0.703125 -4.453125 -0.703125 -3.28125 C -0.703125 -2.15625 -1.828125 -1.59375 -4.15625 -1.59375 C -6.484375 -1.59375 -7.578125 -2.15625 -7.578125 -3.296875 C -7.578125 -4.4375 -6.46875 -5 -4.1875 -5 Z \"/>\n",
       "</symbol>\n",
       "<symbol overflow=\"visible\" id=\"glyph1-5\">\n",
       "<path style=\"stroke:none;\" d=\"M -2.46875 -6.078125 C -3.5 -6.078125 -4.109375 -5.65625 -4.453125 -4.625 C -4.765625 -5.421875 -5.3125 -5.8125 -6.171875 -5.8125 C -7.625 -5.8125 -8.515625 -4.84375 -8.515625 -3.234375 C -8.515625 -1.515625 -7.578125 -0.59375 -5.765625 -0.5625 L -5.765625 -1.625 C -7.015625 -1.640625 -7.578125 -2.15625 -7.578125 -3.234375 C -7.578125 -4.171875 -7.03125 -4.734375 -6.125 -4.734375 C -5.21875 -4.734375 -4.84375 -4.34375 -4.84375 -2.65625 L -3.953125 -2.65625 L -3.953125 -3.234375 C -3.953125 -4.390625 -3.40625 -4.984375 -2.453125 -4.984375 C -1.390625 -4.984375 -0.75 -4.328125 -0.75 -3.234375 C -0.75 -2.078125 -1.328125 -1.515625 -2.5625 -1.4375 L -2.5625 -0.390625 C -0.671875 -0.515625 0.1875 -1.453125 0.1875 -3.1875 C 0.1875 -4.9375 -0.859375 -6.078125 -2.46875 -6.078125 Z \"/>\n",
       "</symbol>\n",
       "<symbol overflow=\"visible\" id=\"glyph1-6\">\n",
       "<path style=\"stroke:none;\" d=\"M -3.09375 -6.125 C -5.265625 -6.125 -6.46875 -5.078125 -6.46875 -3.265625 C -6.46875 -1.5 -5.25 -0.4375 -3.140625 -0.4375 C -1.03125 -0.4375 0.1875 -1.484375 0.1875 -3.28125 C 0.1875 -5.046875 -1.03125 -6.125 -3.09375 -6.125 Z M -3.109375 -5.078125 C -1.625 -5.078125 -0.75 -4.375 -0.75 -3.28125 C -0.75 -2.15625 -1.625 -1.46875 -3.140625 -1.46875 C -4.65625 -1.46875 -5.546875 -2.15625 -5.546875 -3.28125 C -5.546875 -4.40625 -4.671875 -5.078125 -3.109375 -5.078125 Z \"/>\n",
       "</symbol>\n",
       "<symbol overflow=\"visible\" id=\"glyph1-7\">\n",
       "<path style=\"stroke:none;\" d=\"M 0 -5.78125 L -6.28125 -5.78125 L -6.28125 -4.78125 L -2.8125 -4.78125 C -1.53125 -4.78125 -0.703125 -4.109375 -0.703125 -3.078125 C -0.703125 -2.28125 -1.171875 -1.78125 -1.9375 -1.78125 L -6.28125 -1.78125 L -6.28125 -0.78125 L -1.53125 -0.78125 C -0.484375 -0.78125 0.1875 -1.5625 0.1875 -2.78125 C 0.1875 -3.703125 -0.140625 -4.296875 -0.96875 -4.890625 L 0 -4.890625 Z \"/>\n",
       "</symbol>\n",
       "<symbol overflow=\"visible\" id=\"glyph1-8\">\n",
       "<path style=\"stroke:none;\" d=\"M 0 -3.046875 L -0.84375 -3.046875 C -0.796875 -2.921875 -0.796875 -2.765625 -0.796875 -2.5625 C -0.796875 -2.140625 -0.90625 -2.015625 -1.359375 -2.015625 L -5.46875 -2.015625 L -5.46875 -3.046875 L -6.28125 -3.046875 L -6.28125 -2.015625 L -8.015625 -2.015625 L -8.015625 -1.015625 L -6.28125 -1.015625 L -6.28125 -0.171875 L -5.46875 -0.171875 L -5.46875 -1.015625 L -0.90625 -1.015625 C -0.28125 -1.015625 0.078125 -1.453125 0.078125 -2.234375 C 0.078125 -2.46875 0.0625 -2.71875 0 -3.046875 Z \"/>\n",
       "</symbol>\n",
       "<symbol overflow=\"visible\" id=\"glyph1-9\">\n",
       "<path style=\"stroke:none;\" d=\"M 2.546875 -3 L 1.6875 -3 L 1.6875 -1.765625 L -7.890625 -1.765625 L -7.890625 -3 L -8.75 -3 L -8.75 -0.765625 L 2.546875 -0.765625 Z \"/>\n",
       "</symbol>\n",
       "<symbol overflow=\"visible\" id=\"glyph1-10\">\n",
       "<path style=\"stroke:none;\" d=\"M 0.1875 -2.296875 L -1.25 -2.296875 L -1.25 -1.046875 L 0 -1.046875 L 0 -1.765625 L 0.21875 -1.765625 C 1.046875 -1.765625 1.28125 -1.609375 1.3125 -1.046875 L 1.765625 -1.046875 C 1.765625 -1.890625 1.21875 -2.296875 0.1875 -2.296875 Z \"/>\n",
       "</symbol>\n",
       "<symbol overflow=\"visible\" id=\"glyph1-11\">\n",
       "<path style=\"stroke:none;\" d=\"M 2.546875 -2.515625 L -8.75 -2.515625 L -8.75 -0.28125 L -7.890625 -0.28125 L -7.890625 -1.515625 L 1.6875 -1.515625 L 1.6875 -0.28125 L 2.546875 -0.28125 Z \"/>\n",
       "</symbol>\n",
       "</g>\n",
       "<clipPath id=\"clip1\">\n",
       "  <path d=\"M 59.039062 127 L 474.757812 127 L 474.757812 346 L 59.039062 346 Z \"/>\n",
       "</clipPath>\n",
       "<clipPath id=\"clip2\">\n",
       "  <path d=\"M 59.039062 145 L 474.757812 145 L 474.757812 308 L 59.039062 308 Z \"/>\n",
       "</clipPath>\n",
       "</defs>\n",
       "<g id=\"surface132\">\n",
       "<rect x=\"0\" y=\"0\" width=\"504\" height=\"504\" style=\"fill:rgb(100%,100%,100%);fill-opacity:1;stroke:none;\"/>\n",
       "<path style=\"fill:none;stroke-width:0.75;stroke-linecap:round;stroke-linejoin:round;stroke:rgb(0%,0%,0%);stroke-opacity:1;stroke-miterlimit:10;\" d=\"M 426.269531 72.800781 C 426.269531 76.398438 420.871094 76.398438 420.871094 72.800781 C 420.871094 69.199219 426.269531 69.199219 426.269531 72.800781 \"/>\n",
       "<path style=\"fill:none;stroke-width:0.75;stroke-linecap:round;stroke-linejoin:round;stroke:rgb(0%,0%,0%);stroke-opacity:1;stroke-miterlimit:10;\" d=\"M 222.804688 416.800781 C 222.804688 420.398438 217.40625 420.398438 217.40625 416.800781 C 217.40625 413.199219 222.804688 413.199219 222.804688 416.800781 \"/>\n",
       "<path style=\"fill:none;stroke-width:0.75;stroke-linecap:round;stroke-linejoin:round;stroke:rgb(0%,0%,0%);stroke-opacity:1;stroke-miterlimit:10;\" d=\"M 298.070312 273.601562 C 298.070312 277.199219 292.671875 277.199219 292.671875 273.601562 C 292.671875 270 298.070312 270 298.070312 273.601562 \"/>\n",
       "<path style=\"fill:none;stroke-width:0.75;stroke-linecap:round;stroke-linejoin:round;stroke:rgb(0%,0%,0%);stroke-opacity:1;stroke-miterlimit:10;\" d=\"M 327.167969 179.121094 C 327.167969 182.71875 321.769531 182.71875 321.769531 179.121094 C 321.769531 175.519531 327.167969 175.519531 327.167969 179.121094 \"/>\n",
       "<path style=\"fill:none;stroke-width:0.75;stroke-linecap:round;stroke-linejoin:round;stroke:rgb(0%,0%,0%);stroke-opacity:1;stroke-miterlimit:10;\" d=\"M 266.828125 237.292969 C 266.828125 240.894531 261.429688 240.894531 261.429688 237.292969 C 261.429688 233.691406 266.828125 233.691406 266.828125 237.292969 \"/>\n",
       "<path style=\"fill:none;stroke-width:0.75;stroke-linecap:round;stroke-linejoin:round;stroke:rgb(0%,0%,0%);stroke-opacity:1;stroke-miterlimit:10;\" d=\"M 319.242188 237.324219 C 319.242188 240.925781 313.839844 240.925781 313.839844 237.324219 C 313.839844 233.726562 319.242188 233.726562 319.242188 237.324219 \"/>\n",
       "<path style=\"fill:none;stroke-width:0.75;stroke-linecap:round;stroke-linejoin:round;stroke:rgb(0%,0%,0%);stroke-opacity:1;stroke-miterlimit:10;\" d=\"M 237.136719 314.675781 C 237.136719 318.277344 231.734375 318.277344 231.734375 314.675781 C 231.734375 311.078125 237.136719 311.078125 237.136719 314.675781 \"/>\n",
       "<path style=\"fill:none;stroke-width:0.75;stroke-linecap:round;stroke-linejoin:round;stroke:rgb(0%,0%,0%);stroke-opacity:1;stroke-miterlimit:10;\" d=\"M 142.707031 352.40625 C 142.707031 356.007812 137.308594 356.007812 137.308594 352.40625 C 137.308594 348.804688 142.707031 348.804688 142.707031 352.40625 \"/>\n",
       "<path style=\"fill:none;stroke-width:0.75;stroke-linecap:round;stroke-linejoin:round;stroke:rgb(0%,0%,0%);stroke-opacity:1;stroke-miterlimit:10;\" d=\"M 355.417969 159.882812 C 355.417969 163.484375 350.015625 163.484375 350.015625 159.882812 C 350.015625 156.285156 355.417969 156.285156 355.417969 159.882812 \"/>\n",
       "<path style=\"fill:none;stroke-width:0.75;stroke-linecap:round;stroke-linejoin:round;stroke:rgb(0%,0%,0%);stroke-opacity:1;stroke-miterlimit:10;\" d=\"M 215.453125 253.835938 C 215.453125 257.4375 210.054688 257.4375 210.054688 253.835938 C 210.054688 250.234375 215.453125 250.234375 215.453125 253.835938 \"/>\n",
       "<path style=\"fill:none;stroke-width:0.75;stroke-linecap:round;stroke-linejoin:round;stroke:rgb(0%,0%,0%);stroke-opacity:1;stroke-miterlimit:10;\" d=\"M 329.421875 96.101562 C 329.421875 99.699219 324.023438 99.699219 324.023438 96.101562 C 324.023438 92.5 329.421875 92.5 329.421875 96.101562 \"/>\n",
       "<path style=\"fill:none;stroke-width:0.75;stroke-linecap:round;stroke-linejoin:round;stroke:rgb(0%,0%,0%);stroke-opacity:1;stroke-miterlimit:10;\" d=\"M 232.765625 226.730469 C 232.765625 230.332031 227.367188 230.332031 227.367188 226.730469 C 227.367188 223.132812 232.765625 223.132812 232.765625 226.730469 \"/>\n",
       "<path style=\"fill:none;stroke-width:0.75;stroke-linecap:round;stroke-linejoin:round;stroke:rgb(0%,0%,0%);stroke-opacity:1;stroke-miterlimit:10;\" d=\"M 361.613281 238.785156 C 361.613281 242.382812 356.210938 242.382812 356.210938 238.785156 C 356.210938 235.183594 361.613281 235.183594 361.613281 238.785156 \"/>\n",
       "<path style=\"fill:none;stroke-width:0.75;stroke-linecap:round;stroke-linejoin:round;stroke:rgb(0%,0%,0%);stroke-opacity:1;stroke-miterlimit:10;\" d=\"M 282.15625 228.519531 C 282.15625 232.117188 276.753906 232.117188 276.753906 228.519531 C 276.753906 224.917969 282.15625 224.917969 282.15625 228.519531 \"/>\n",
       "<path style=\"fill:none;stroke-width:0.75;stroke-linecap:round;stroke-linejoin:round;stroke:rgb(0%,0%,0%);stroke-opacity:1;stroke-miterlimit:10;\" d=\"M 385.074219 211.722656 C 385.074219 215.320312 379.675781 215.320312 379.675781 211.722656 C 379.675781 208.121094 385.074219 208.121094 385.074219 211.722656 \"/>\n",
       "<path style=\"fill:none;stroke-width:0.75;stroke-linecap:round;stroke-linejoin:round;stroke:rgb(0%,0%,0%);stroke-opacity:1;stroke-miterlimit:10;\" d=\"M 227.742188 248.84375 C 227.742188 252.445312 222.34375 252.445312 222.34375 248.84375 C 222.34375 245.242188 227.742188 245.242188 227.742188 248.84375 \"/>\n",
       "<path style=\"fill:none;stroke-width:0.75;stroke-linecap:round;stroke-linejoin:round;stroke:rgb(0%,0%,0%);stroke-opacity:1;stroke-miterlimit:10;\" d=\"M 202.484375 263.222656 C 202.484375 266.820312 197.085938 266.820312 197.085938 263.222656 C 197.085938 259.621094 202.484375 259.621094 202.484375 263.222656 \"/>\n",
       "<path style=\"fill:none;stroke-width:0.75;stroke-linecap:round;stroke-linejoin:round;stroke:rgb(0%,0%,0%);stroke-opacity:1;stroke-miterlimit:10;\" d=\"M 451.285156 215.035156 C 451.285156 218.636719 445.886719 218.636719 445.886719 215.035156 C 445.886719 211.433594 451.285156 211.433594 451.285156 215.035156 \"/>\n",
       "<path style=\"fill:none;stroke-width:0.75;stroke-linecap:round;stroke-linejoin:round;stroke:rgb(0%,0%,0%);stroke-opacity:1;stroke-miterlimit:10;\" d=\"M 296.859375 193.632812 C 296.859375 197.230469 291.460938 197.230469 291.460938 193.632812 C 291.460938 190.03125 296.859375 190.03125 296.859375 193.632812 \"/>\n",
       "<path style=\"fill:none;stroke-width:0.75;stroke-linecap:round;stroke-linejoin:round;stroke:rgb(0%,0%,0%);stroke-opacity:1;stroke-miterlimit:10;\" d=\"M 308.320312 212.175781 C 308.320312 215.777344 302.917969 215.777344 302.917969 212.175781 C 302.917969 208.578125 308.320312 208.578125 308.320312 212.175781 \"/>\n",
       "<path style=\"fill:none;stroke-width:0.75;stroke-linecap:round;stroke-linejoin:round;stroke:rgb(0%,0%,0%);stroke-opacity:1;stroke-miterlimit:10;\" d=\"M 358.074219 125.59375 C 358.074219 129.195312 352.671875 129.195312 352.671875 125.59375 C 352.671875 121.992188 358.074219 121.992188 358.074219 125.59375 \"/>\n",
       "<path style=\"fill:none;stroke-width:0.75;stroke-linecap:round;stroke-linejoin:round;stroke:rgb(0%,0%,0%);stroke-opacity:1;stroke-miterlimit:10;\" d=\"M 358.289062 204.335938 C 358.289062 207.933594 352.890625 207.933594 352.890625 204.335938 C 352.890625 200.734375 358.289062 200.734375 358.289062 204.335938 \"/>\n",
       "<path style=\"fill:none;stroke-width:0.75;stroke-linecap:round;stroke-linejoin:round;stroke:rgb(0%,0%,0%);stroke-opacity:1;stroke-miterlimit:10;\" d=\"M 355.875 223.214844 C 355.875 226.816406 350.476562 226.816406 350.476562 223.214844 C 350.476562 219.613281 355.875 219.613281 355.875 223.214844 \"/>\n",
       "<path style=\"fill:none;stroke-width:0.75;stroke-linecap:round;stroke-linejoin:round;stroke:rgb(0%,0%,0%);stroke-opacity:1;stroke-miterlimit:10;\" d=\"M 368.761719 138.964844 C 368.761719 142.566406 363.363281 142.566406 363.363281 138.964844 C 363.363281 135.363281 368.761719 135.363281 368.761719 138.964844 \"/>\n",
       "<path style=\"fill:none;stroke-width:0.75;stroke-linecap:round;stroke-linejoin:round;stroke:rgb(0%,0%,0%);stroke-opacity:1;stroke-miterlimit:10;\" d=\"M 250.726562 217.789062 C 250.726562 221.386719 245.328125 221.386719 245.328125 217.789062 C 245.328125 214.1875 250.726562 214.1875 250.726562 217.789062 \"/>\n",
       "<path style=\"fill:none;stroke-width:0.75;stroke-linecap:round;stroke-linejoin:round;stroke:rgb(0%,0%,0%);stroke-opacity:1;stroke-miterlimit:10;\" d=\"M 169.464844 282.660156 C 169.464844 286.257812 164.066406 286.257812 164.066406 282.660156 C 164.066406 279.058594 169.464844 279.058594 169.464844 282.660156 \"/>\n",
       "<path style=\"fill:none;stroke-width:0.75;stroke-linecap:round;stroke-linejoin:round;stroke:rgb(0%,0%,0%);stroke-opacity:1;stroke-miterlimit:10;\" d=\"M 215.101562 247.261719 C 215.101562 250.863281 209.703125 250.863281 209.703125 247.261719 C 209.703125 243.664062 215.101562 243.664062 215.101562 247.261719 \"/>\n",
       "<path style=\"fill:none;stroke-width:0.75;stroke-linecap:round;stroke-linejoin:round;stroke:rgb(0%,0%,0%);stroke-opacity:1;stroke-miterlimit:10;\" d=\"M 225.800781 262.082031 C 225.800781 265.683594 220.402344 265.683594 220.402344 262.082031 C 220.402344 258.484375 225.800781 258.484375 225.800781 262.082031 \"/>\n",
       "<path style=\"fill:none;stroke-width:0.75;stroke-linecap:round;stroke-linejoin:round;stroke:rgb(0%,0%,0%);stroke-opacity:1;stroke-miterlimit:10;\" d=\"M 352.824219 161.902344 C 352.824219 165.5 347.425781 165.5 347.425781 161.902344 C 347.425781 158.300781 352.824219 158.300781 352.824219 161.902344 \"/>\n",
       "<path style=\"fill:none;stroke-width:0.75;stroke-linecap:round;stroke-linejoin:round;stroke:rgb(0%,0%,0%);stroke-opacity:1;stroke-miterlimit:10;\" d=\"M 210.628906 276.339844 C 210.628906 279.941406 205.230469 279.941406 205.230469 276.339844 C 205.230469 272.738281 210.628906 272.738281 210.628906 276.339844 \"/>\n",
       "<path style=\"fill:none;stroke-width:0.75;stroke-linecap:round;stroke-linejoin:round;stroke:rgb(0%,0%,0%);stroke-opacity:1;stroke-miterlimit:10;\" d=\"M 243.859375 266.03125 C 243.859375 269.632812 238.460938 269.632812 238.460938 266.03125 C 238.460938 262.433594 243.859375 262.433594 243.859375 266.03125 \"/>\n",
       "<path style=\"fill:none;stroke-width:0.75;stroke-linecap:round;stroke-linejoin:round;stroke:rgb(0%,0%,0%);stroke-opacity:1;stroke-miterlimit:10;\" d=\"M 77.101562 363.449219 C 77.101562 367.050781 71.699219 367.050781 71.699219 363.449219 C 71.699219 359.851562 77.101562 359.851562 77.101562 363.449219 \"/>\n",
       "<path style=\"fill:none;stroke-width:0.75;stroke-linecap:round;stroke-linejoin:round;stroke:rgb(0%,0%,0%);stroke-opacity:1;stroke-miterlimit:10;\" d=\"M 276.765625 234.929688 C 276.765625 238.53125 271.367188 238.53125 271.367188 234.929688 C 271.367188 231.332031 276.765625 231.332031 276.765625 234.929688 \"/>\n",
       "<path style=\"fill:none;stroke-width:0.75;stroke-linecap:round;stroke-linejoin:round;stroke:rgb(0%,0%,0%);stroke-opacity:1;stroke-miterlimit:10;\" d=\"M 144.800781 262.648438 C 144.800781 266.246094 139.402344 266.246094 139.402344 262.648438 C 139.402344 259.046875 144.800781 259.046875 144.800781 262.648438 \"/>\n",
       "<path style=\"fill:none;stroke-width:0.75;stroke-linecap:round;stroke-linejoin:round;stroke:rgb(0%,0%,0%);stroke-opacity:1;stroke-miterlimit:10;\" d=\"M 237.25 177.273438 C 237.25 180.871094 231.847656 180.871094 231.847656 177.273438 C 231.847656 173.671875 237.25 173.671875 237.25 177.273438 \"/>\n",
       "<path style=\"fill:none;stroke-width:0.75;stroke-linecap:round;stroke-linejoin:round;stroke:rgb(0%,0%,0%);stroke-opacity:1;stroke-miterlimit:10;\" d=\"M 205.3125 277.5 C 205.3125 281.101562 199.914062 281.101562 199.914062 277.5 C 199.914062 273.902344 205.3125 273.902344 205.3125 277.5 \"/>\n",
       "<path style=\"fill:none;stroke-width:0.75;stroke-linecap:round;stroke-linejoin:round;stroke:rgb(0%,0%,0%);stroke-opacity:1;stroke-miterlimit:10;\" d=\"M 335.941406 289.800781 C 335.941406 293.402344 330.542969 293.402344 330.542969 289.800781 C 330.542969 286.203125 335.941406 286.203125 335.941406 289.800781 \"/>\n",
       "<path style=\"fill:none;stroke-width:0.75;stroke-linecap:round;stroke-linejoin:round;stroke:rgb(0%,0%,0%);stroke-opacity:1;stroke-miterlimit:10;\" d=\"M 427.882812 87.03125 C 427.882812 90.632812 422.480469 90.632812 422.480469 87.03125 C 422.480469 83.433594 427.882812 83.433594 427.882812 87.03125 \"/>\n",
       "<path style=\"fill:none;stroke-width:0.75;stroke-linecap:round;stroke-linejoin:round;stroke:rgb(0%,0%,0%);stroke-opacity:1;stroke-miterlimit:10;\" d=\"M 339.1875 74.726562 C 339.1875 78.328125 333.789062 78.328125 333.789062 74.726562 C 333.789062 71.128906 339.1875 71.128906 339.1875 74.726562 \"/>\n",
       "<path style=\"fill:none;stroke-width:0.75;stroke-linecap:round;stroke-linejoin:round;stroke:rgb(0%,0%,0%);stroke-opacity:1;stroke-miterlimit:10;\" d=\"M 461.101562 323.253906 C 461.101562 326.851562 455.699219 326.851562 455.699219 323.253906 C 455.699219 319.652344 461.101562 319.652344 461.101562 323.253906 \"/>\n",
       "<path style=\"fill:none;stroke-width:0.75;stroke-linecap:round;stroke-linejoin:round;stroke:rgb(0%,0%,0%);stroke-opacity:1;stroke-miterlimit:10;\" d=\"M 288.882812 235.945312 C 288.882812 239.542969 283.480469 239.542969 283.480469 235.945312 C 283.480469 232.34375 288.882812 232.34375 288.882812 235.945312 \"/>\n",
       "<path style=\"fill:none;stroke-width:0.75;stroke-linecap:round;stroke-linejoin:round;stroke:rgb(0%,0%,0%);stroke-opacity:1;stroke-miterlimit:10;\" d=\"M 369.960938 159.914062 C 369.960938 163.511719 364.5625 163.511719 364.5625 159.914062 C 364.5625 156.3125 369.960938 156.3125 369.960938 159.914062 \"/>\n",
       "<path style=\"fill:none;stroke-width:0.75;stroke-linecap:round;stroke-linejoin:round;stroke:rgb(0%,0%,0%);stroke-opacity:1;stroke-miterlimit:10;\" d=\"M 114.042969 365.621094 C 114.042969 369.222656 108.644531 369.222656 108.644531 365.621094 C 108.644531 362.023438 114.042969 362.023438 114.042969 365.621094 \"/>\n",
       "<path style=\"fill:none;stroke-width:0.75;stroke-linecap:round;stroke-linejoin:round;stroke:rgb(0%,0%,0%);stroke-opacity:1;stroke-miterlimit:10;\" d=\"M 331.0625 169.886719 C 331.0625 173.488281 325.664062 173.488281 325.664062 169.886719 C 325.664062 166.289062 331.0625 166.289062 331.0625 169.886719 \"/>\n",
       "<path style=\"fill:none;stroke-width:0.75;stroke-linecap:round;stroke-linejoin:round;stroke:rgb(0%,0%,0%);stroke-opacity:1;stroke-miterlimit:10;\" d=\"M 268.613281 151.039062 C 268.613281 154.636719 263.214844 154.636719 263.214844 151.039062 C 263.214844 147.4375 268.613281 147.4375 268.613281 151.039062 \"/>\n",
       "<path style=\"fill:none;stroke-width:0.75;stroke-linecap:round;stroke-linejoin:round;stroke:rgb(0%,0%,0%);stroke-opacity:1;stroke-miterlimit:10;\" d=\"M 214.367188 221.425781 C 214.367188 225.027344 208.964844 225.027344 208.964844 221.425781 C 208.964844 217.824219 214.367188 217.824219 214.367188 221.425781 \"/>\n",
       "<path style=\"fill:none;stroke-width:0.75;stroke-linecap:round;stroke-linejoin:round;stroke:rgb(0%,0%,0%);stroke-opacity:1;stroke-miterlimit:10;\" d=\"M 345.679688 297.984375 C 345.679688 301.585938 340.277344 301.585938 340.277344 297.984375 C 340.277344 294.386719 345.679688 294.386719 345.679688 297.984375 \"/>\n",
       "<path style=\"fill:none;stroke-width:0.75;stroke-linecap:round;stroke-linejoin:round;stroke:rgb(0%,0%,0%);stroke-opacity:1;stroke-miterlimit:10;\" d=\"M 452.523438 120.066406 C 452.523438 123.667969 447.121094 123.667969 447.121094 120.066406 C 447.121094 116.464844 452.523438 116.464844 452.523438 120.066406 \"/>\n",
       "<path style=\"fill:none;stroke-width:0.75;stroke-linecap:round;stroke-linejoin:round;stroke:rgb(0%,0%,0%);stroke-opacity:1;stroke-miterlimit:10;\" d=\"M 313.847656 262.585938 C 313.847656 266.1875 308.449219 266.1875 308.449219 262.585938 C 308.449219 258.988281 313.847656 258.988281 313.847656 262.585938 \"/>\n",
       "<path style=\"fill:none;stroke-width:0.75;stroke-linecap:round;stroke-linejoin:round;stroke:rgb(0%,0%,0%);stroke-opacity:1;stroke-miterlimit:10;\" d=\"M 297.285156 160.605469 C 297.285156 164.203125 291.882812 164.203125 291.882812 160.605469 C 291.882812 157.003906 297.285156 157.003906 297.285156 160.605469 \"/>\n",
       "<path style=\"fill:none;stroke-width:0.75;stroke-linecap:round;stroke-linejoin:round;stroke:rgb(0%,0%,0%);stroke-opacity:1;stroke-miterlimit:10;\" d=\"M 134.925781 430.558594 L 468.289062 430.558594 \"/>\n",
       "<path style=\"fill:none;stroke-width:0.75;stroke-linecap:round;stroke-linejoin:round;stroke:rgb(0%,0%,0%);stroke-opacity:1;stroke-miterlimit:10;\" d=\"M 134.925781 430.558594 L 134.925781 437.761719 \"/>\n",
       "<path style=\"fill:none;stroke-width:0.75;stroke-linecap:round;stroke-linejoin:round;stroke:rgb(0%,0%,0%);stroke-opacity:1;stroke-miterlimit:10;\" d=\"M 218.265625 430.558594 L 218.265625 437.761719 \"/>\n",
       "<path style=\"fill:none;stroke-width:0.75;stroke-linecap:round;stroke-linejoin:round;stroke:rgb(0%,0%,0%);stroke-opacity:1;stroke-miterlimit:10;\" d=\"M 301.605469 430.558594 L 301.605469 437.761719 \"/>\n",
       "<path style=\"fill:none;stroke-width:0.75;stroke-linecap:round;stroke-linejoin:round;stroke:rgb(0%,0%,0%);stroke-opacity:1;stroke-miterlimit:10;\" d=\"M 384.949219 430.558594 L 384.949219 437.761719 \"/>\n",
       "<path style=\"fill:none;stroke-width:0.75;stroke-linecap:round;stroke-linejoin:round;stroke:rgb(0%,0%,0%);stroke-opacity:1;stroke-miterlimit:10;\" d=\"M 468.289062 430.558594 L 468.289062 437.761719 \"/>\n",
       "<g style=\"fill:rgb(0%,0%,0%);fill-opacity:1;\">\n",
       "  <use xlink:href=\"#glyph0-1\" x=\"131.425781\" y=\"456.256836\"/>\n",
       "</g>\n",
       "<g style=\"fill:rgb(0%,0%,0%);fill-opacity:1;\">\n",
       "  <use xlink:href=\"#glyph0-2\" x=\"214.765625\" y=\"456.256836\"/>\n",
       "</g>\n",
       "<g style=\"fill:rgb(0%,0%,0%);fill-opacity:1;\">\n",
       "  <use xlink:href=\"#glyph0-3\" x=\"298.105469\" y=\"456.256836\"/>\n",
       "</g>\n",
       "<g style=\"fill:rgb(0%,0%,0%);fill-opacity:1;\">\n",
       "  <use xlink:href=\"#glyph0-4\" x=\"381.449219\" y=\"456.256836\"/>\n",
       "</g>\n",
       "<g style=\"fill:rgb(0%,0%,0%);fill-opacity:1;\">\n",
       "  <use xlink:href=\"#glyph0-5\" x=\"464.789062\" y=\"456.256836\"/>\n",
       "</g>\n",
       "<path style=\"fill:none;stroke-width:0.75;stroke-linecap:round;stroke-linejoin:round;stroke:rgb(0%,0%,0%);stroke-opacity:1;stroke-miterlimit:10;\" d=\"M 59.039062 412.265625 L 59.039062 76.105469 \"/>\n",
       "<path style=\"fill:none;stroke-width:0.75;stroke-linecap:round;stroke-linejoin:round;stroke:rgb(0%,0%,0%);stroke-opacity:1;stroke-miterlimit:10;\" d=\"M 59.039062 412.265625 L 51.839844 412.265625 \"/>\n",
       "<path style=\"fill:none;stroke-width:0.75;stroke-linecap:round;stroke-linejoin:round;stroke:rgb(0%,0%,0%);stroke-opacity:1;stroke-miterlimit:10;\" d=\"M 59.039062 345.035156 L 51.839844 345.035156 \"/>\n",
       "<path style=\"fill:none;stroke-width:0.75;stroke-linecap:round;stroke-linejoin:round;stroke:rgb(0%,0%,0%);stroke-opacity:1;stroke-miterlimit:10;\" d=\"M 59.039062 277.800781 L 51.839844 277.800781 \"/>\n",
       "<path style=\"fill:none;stroke-width:0.75;stroke-linecap:round;stroke-linejoin:round;stroke:rgb(0%,0%,0%);stroke-opacity:1;stroke-miterlimit:10;\" d=\"M 59.039062 210.570312 L 51.839844 210.570312 \"/>\n",
       "<path style=\"fill:none;stroke-width:0.75;stroke-linecap:round;stroke-linejoin:round;stroke:rgb(0%,0%,0%);stroke-opacity:1;stroke-miterlimit:10;\" d=\"M 59.039062 143.335938 L 51.839844 143.335938 \"/>\n",
       "<path style=\"fill:none;stroke-width:0.75;stroke-linecap:round;stroke-linejoin:round;stroke:rgb(0%,0%,0%);stroke-opacity:1;stroke-miterlimit:10;\" d=\"M 59.039062 76.105469 L 51.839844 76.105469 \"/>\n",
       "<g style=\"fill:rgb(0%,0%,0%);fill-opacity:1;\">\n",
       "  <use xlink:href=\"#glyph1-1\" x=\"41.538086\" y=\"417.765625\"/>\n",
       "  <use xlink:href=\"#glyph1-2\" x=\"41.538086\" y=\"413.769531\"/>\n",
       "</g>\n",
       "<g style=\"fill:rgb(0%,0%,0%);fill-opacity:1;\">\n",
       "  <use xlink:href=\"#glyph1-1\" x=\"41.538086\" y=\"350.535156\"/>\n",
       "  <use xlink:href=\"#glyph1-3\" x=\"41.538086\" y=\"346.539062\"/>\n",
       "</g>\n",
       "<g style=\"fill:rgb(0%,0%,0%);fill-opacity:1;\">\n",
       "  <use xlink:href=\"#glyph1-4\" x=\"41.538086\" y=\"281.300781\"/>\n",
       "</g>\n",
       "<g style=\"fill:rgb(0%,0%,0%);fill-opacity:1;\">\n",
       "  <use xlink:href=\"#glyph1-3\" x=\"41.538086\" y=\"214.070312\"/>\n",
       "</g>\n",
       "<g style=\"fill:rgb(0%,0%,0%);fill-opacity:1;\">\n",
       "  <use xlink:href=\"#glyph1-2\" x=\"41.538086\" y=\"146.835938\"/>\n",
       "</g>\n",
       "<g style=\"fill:rgb(0%,0%,0%);fill-opacity:1;\">\n",
       "  <use xlink:href=\"#glyph1-5\" x=\"41.538086\" y=\"79.605469\"/>\n",
       "</g>\n",
       "<path style=\"fill:none;stroke-width:0.75;stroke-linecap:round;stroke-linejoin:round;stroke:rgb(0%,0%,0%);stroke-opacity:1;stroke-miterlimit:10;\" d=\"M 59.039062 430.558594 L 473.761719 430.558594 L 473.761719 59.039062 L 59.039062 59.039062 L 59.039062 430.558594 \"/>\n",
       "<g style=\"fill:rgb(0%,0%,0%);fill-opacity:1;\">\n",
       "  <use xlink:href=\"#glyph0-6\" x=\"249.398438\" y=\"485.057617\"/>\n",
       "  <use xlink:href=\"#glyph0-7\" x=\"256.070312\" y=\"485.057617\"/>\n",
       "  <use xlink:href=\"#glyph0-8\" x=\"262.742188\" y=\"485.057617\"/>\n",
       "  <use xlink:href=\"#glyph0-9\" x=\"266.078125\" y=\"485.057617\"/>\n",
       "  <use xlink:href=\"#glyph0-10\" x=\"269.414062\" y=\"485.057617\"/>\n",
       "  <use xlink:href=\"#glyph0-2\" x=\"272.75\" y=\"485.057617\"/>\n",
       "  <use xlink:href=\"#glyph0-11\" x=\"279.421875\" y=\"485.057617\"/>\n",
       "</g>\n",
       "<g style=\"fill:rgb(0%,0%,0%);fill-opacity:1;\">\n",
       "  <use xlink:href=\"#glyph1-6\" x=\"12.737305\" y=\"261.800781\"/>\n",
       "  <use xlink:href=\"#glyph1-7\" x=\"12.737305\" y=\"255.128906\"/>\n",
       "  <use xlink:href=\"#glyph1-8\" x=\"12.737305\" y=\"248.457031\"/>\n",
       "  <use xlink:href=\"#glyph1-9\" x=\"12.737305\" y=\"245.121094\"/>\n",
       "  <use xlink:href=\"#glyph1-10\" x=\"12.737305\" y=\"241.785156\"/>\n",
       "  <use xlink:href=\"#glyph1-2\" x=\"12.737305\" y=\"238.449219\"/>\n",
       "  <use xlink:href=\"#glyph1-11\" x=\"12.737305\" y=\"231.777344\"/>\n",
       "</g>\n",
       "<g clip-path=\"url(#clip1)\" clip-rule=\"nonzero\">\n",
       "<path style=\"fill:none;stroke-width:0.75;stroke-linecap:round;stroke-linejoin:round;stroke:rgb(100%,0%,0%);stroke-opacity:1;stroke-miterlimit:10;\" d=\"M 59.039062 345.292969 L 473.761719 127.617188 \"/>\n",
       "</g>\n",
       "<g clip-path=\"url(#clip2)\" clip-rule=\"nonzero\">\n",
       "<path style=\"fill:none;stroke-width:0.75;stroke-linecap:round;stroke-linejoin:round;stroke:rgb(0%,0%,100%);stroke-opacity:1;stroke-miterlimit:10;\" d=\"M 59.039062 307.253906 L 473.761719 146.300781 \"/>\n",
       "<path style=\"fill:none;stroke-width:0.75;stroke-linecap:round;stroke-linejoin:round;stroke:rgb(0%,100%,0%);stroke-opacity:1;stroke-miterlimit:10;\" d=\"M 59.039062 307.253906 L 473.761719 146.300781 \"/>\n",
       "</g>\n",
       "</g>\n",
       "</svg>\n"
      ],
      "text/plain": [
       "plot without title"
      ]
     },
     "metadata": {
      "image/svg+xml": {
       "isolated": true
      }
     },
     "output_type": "display_data"
    }
   ],
   "source": [
    "system.time(solve(XTX) %*% XTy)\n",
    "system.time(solve(XTX, XTy))\n",
    "\n",
    "beta2 = solve(XTX, XTy)\n",
    "plot(out)\n",
    "abline(lm(out[,2]~out[,1]), col=\"red\") # regression line (y~x) \n",
    "abline(a=0, b=beta, col=\"blue\")\n",
    "abline(a=0, b=beta2, col=\"green\")"
   ]
  },
  {
   "cell_type": "markdown",
   "metadata": {},
   "source": [
    "Nope, still just as wrong!!!! You'll have to figure out what the problem is for the homework."
   ]
  },
  {
   "cell_type": "markdown",
   "metadata": {},
   "source": [
    "## Conclusion\n",
    "That's it! That was a brief introduction to linear algebra in R, as well as a chance to try out linear regression. We should have covered the following:\n",
    "\n",
    "1. Review linear algebra (in 10 minutes or less).\n",
    "2. Learn about vectors in R and discuss interpreters.\n",
    "3. Learn about vector classes.\n",
    "4. Discuss indexing issues.\n",
    "7. Possibly introduce the dataframe.\n",
    "\n",
    "# Homework:\n",
    "\n",
    "1. Figure out what's wrong with our least squares solution!\n",
    "2. Rewrite the above code to give the correct answer.\n",
    "3. Rewrite the above code to estimate the vector $\\beta$ for a $3$ dimensional normal random variable. (**NOTE:** it is more complicated to predict the values of $\\beta$ given the covariance matrix, so don't worry about it. You'll do it next semester in Metrics 2.)\n",
    "3. Write a function which takes an arbitrarily large vector of means, a correlation matrix, and a sample size, and outputs the estimated vector $\\beta$ and plots the sample with the least squares line (note: plotting this is going to be tricky for more than 3 dimensions, so don't worry about it).\n",
    "4. Take a break, because you've probably had enough of me and need to submit your semester project ideas!"
   ]
  }
 ],
 "metadata": {
  "kernelspec": {
   "display_name": "R",
   "language": "R",
   "name": "ir"
  },
  "language_info": {
   "codemirror_mode": "r",
   "file_extension": ".r",
   "mimetype": "text/x-r-source",
   "name": "R",
   "pygments_lexer": "r",
   "version": "3.3.1"
  }
 },
 "nbformat": 4,
 "nbformat_minor": 0
}
