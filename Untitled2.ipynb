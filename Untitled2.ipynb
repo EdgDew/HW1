{
 "cells": [
  {
   "cell_type": "code",
   "execution_count": 1,
   "metadata": {
    "collapsed": false
   },
   "outputs": [
    {
     "name": "stderr",
     "output_type": "stream",
     "text": [
      "also installing the dependencies ‘mime’, ‘curl’, ‘openssl’, ‘httr’, ‘memoise’, ‘whisker’, ‘rstudioapi’, ‘git2r’, ‘withr’\n",
      "\n",
      "Updating HTML index of packages in '.Library'\n",
      "Making 'packages.html' ... done\n",
      "also installing the dependencies ‘crayon’, ‘praise’\n",
      "\n",
      "Updating HTML index of packages in '.Library'\n",
      "Making 'packages.html' ... done\n",
      "also installing the dependencies ‘brew’, ‘Rcpp’\n",
      "\n",
      "Updating HTML index of packages in '.Library'\n",
      "Making 'packages.html' ... done\n"
     ]
    }
   ],
   "source": [
    "install.packages(\"devtools\",\n",
    "                 repos='http://cran.us.r-project.org')\n",
    "install.packages(\"testthat\",\n",
    "                 repos='http://cran.us.r-project.org')\n",
    "install.packages(\"roxygen2\",\n",
    "                 repos='http://cran.us.r-project.org')"
   ]
  },
  {
   "cell_type": "code",
   "execution_count": 2,
   "metadata": {
    "collapsed": false
   },
   "outputs": [
    {
     "name": "stderr",
     "output_type": "stream",
     "text": [
      "Creating package 'PracticePackage' in '/Users/Edgard/Documents/SciencesPo/Programming'\n",
      "No DESCRIPTION found. Creating with values:\n",
      "\n",
      "\n"
     ]
    },
    {
     "name": "stdout",
     "output_type": "stream",
     "text": [
      "Package: PracticePackage\n",
      "Title: What the Package Does (one line, title case)\n",
      "Version: 0.0.0.9000\n",
      "Authors@R: person(\"First\", \"Last\", email = \"first.last@example.com\", role = c(\"aut\", \"cre\"))\n",
      "Description: What the package does (one paragraph).\n",
      "Depends: R (>= 3.3.1)\n",
      "License: What license is it under?\n",
      "Encoding: UTF-8\n",
      "LazyData: true\n"
     ]
    },
    {
     "name": "stderr",
     "output_type": "stream",
     "text": [
      "* Creating `PracticePackage.Rproj` from template.\n",
      "* Adding `.Rproj.user`, `.Rhistory`, `.RData` to ./.gitignore\n"
     ]
    }
   ],
   "source": [
    "library(\"devtools\")\n",
    "\n",
    "dir <- '~/Documents/SciencesPo/Programming/'\n",
    "name <- 'PracticePackage'\n",
    "\n",
    "\n",
    "setwd(dir)\n",
    "create(name)"
   ]
  },
  {
   "cell_type": "code",
   "execution_count": 6,
   "metadata": {
    "collapsed": false
   },
   "outputs": [
    {
     "name": "stderr",
     "output_type": "stream",
     "text": [
      "Creating directories ...\n",
      "Creating DESCRIPTION ...\n",
      "Creating NAMESPACE ...\n",
      "Creating Read-and-delete-me ...\n",
      "Saving functions and data ...\n",
      "Warning message:\n",
      "In dump(internalObjs, file = file.path(code_dir, sprintf(\"%s-internal.R\", : deparse may be incompleteMaking help files ...\n",
      "Done.\n",
      "Further steps are described in '~/Documents/SciencesPo/Programming//PracticePackage2/Read-and-delete-me'.\n"
     ]
    }
   ],
   "source": [
    "name2= 'PracticePackage2'\n",
    "package.skeleton(name=name2, path=dir)"
   ]
  },
  {
   "cell_type": "code",
   "execution_count": 7,
   "metadata": {
    "collapsed": false
   },
   "outputs": [
    {
     "name": "stderr",
     "output_type": "stream",
     "text": [
      "Installing PracticePackage\n",
      "'/Users/Edgard/anaconda/lib/R/bin/R' --no-site-file --no-environ --no-save  \\\n",
      "  --no-restore --quiet CMD INSTALL  \\\n",
      "  '/Users/Edgard/Documents/SciencesPo/Programming/PracticePackage'  \\\n",
      "  --library='/Users/Edgard/anaconda/lib/R/library' --install-tests \n",
      "\n",
      "Reloading installed PracticePackage\n"
     ]
    }
   ],
   "source": [
    "setwd(dir)\n",
    "install(name)"
   ]
  },
  {
   "cell_type": "code",
   "execution_count": 9,
   "metadata": {
    "collapsed": false
   },
   "outputs": [
    {
     "name": "stderr",
     "output_type": "stream",
     "text": [
      "Installing PracticePackage2\n",
      "'/Users/Edgard/anaconda/lib/R/bin/R' --no-site-file --no-environ --no-save  \\\n",
      "  --no-restore --quiet CMD INSTALL  \\\n",
      "  '/Users/Edgard/Documents/SciencesPo/Programming/PracticePackage2'  \\\n",
      "  --library='/Users/Edgard/anaconda/lib/R/library' --install-tests \n",
      "\n"
     ]
    },
    {
     "ename": "ERROR",
     "evalue": "Error: Command failed (1)\n",
     "output_type": "error",
     "traceback": [
      "Error: Command failed (1)\nTraceback:\n",
      "1. install(name2)",
      "2. R(paste(\"CMD INSTALL \", shQuote(built_path), \" \", opts, sep = \"\"), \n .     quiet = quiet)",
      "3. fun(r, args = args, env_vars = env_vars, path = path, ...)",
      "4. stop(\"Command failed (\", status, \")\", call. = FALSE)"
     ]
    }
   ],
   "source": [
    "install(name2)"
   ]
  },
  {
   "cell_type": "code",
   "execution_count": 11,
   "metadata": {
    "collapsed": false
   },
   "outputs": [
    {
     "name": "stderr",
     "output_type": "stream",
     "text": [
      "Updating PracticePackage2 documentation\n",
      "Loading PracticePackage2\n",
      "First time using roxygen2. Upgrading automatically...\n"
     ]
    },
    {
     "name": "stdout",
     "output_type": "stream",
     "text": [
      "Updating roxygen version in  /Users/Edgard/Documents/SciencesPo/Programming/PracticePackage2/DESCRIPTION \n",
      "Writing NAMESPACE\n",
      "Writing print_hello_world.Rd\n"
     ]
    }
   ],
   "source": [
    "setwd(paste(dir, name2, sep=\"\"))\n",
    "document()"
   ]
  },
  {
   "cell_type": "code",
   "execution_count": null,
   "metadata": {
    "collapsed": true
   },
   "outputs": [],
   "source": []
  }
 ],
 "metadata": {
  "kernelspec": {
   "display_name": "R",
   "language": "R",
   "name": "ir"
  },
  "language_info": {
   "codemirror_mode": "r",
   "file_extension": ".r",
   "mimetype": "text/x-r-source",
   "name": "R",
   "pygments_lexer": "r",
   "version": "3.3.1"
  }
 },
 "nbformat": 4,
 "nbformat_minor": 0
}
