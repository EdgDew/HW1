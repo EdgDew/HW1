{
 "cells": [
  {
   "cell_type": "code",
   "execution_count": null,
   "metadata": {
    "collapsed": true
   },
   "outputs": [],
   "source": [
    "#' A Hello World Function\n",
    "#'\n",
    "#' This function outpus 'Hello World.' That is all.\n",
    "#' @export\n",
    "#' @examples\n",
    "#' print_hello_world()\n",
    " \n",
    "print_hello_world <- function(){\n",
    "    print(\"Hello World.\")\n",
    "}\n"
   ]
  }
 ],
 "metadata": {
  "kernelspec": {
   "display_name": "R",
   "language": "R",
   "name": "ir"
  },
  "language_info": {
   "codemirror_mode": "r",
   "file_extension": ".r",
   "mimetype": "text/x-r-source",
   "name": "R",
   "pygments_lexer": "r",
   "version": "3.3.1"
  }
 },
 "nbformat": 4,
 "nbformat_minor": 0
}
